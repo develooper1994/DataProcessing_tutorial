{
 "cells": [
  {
   "cell_type": "markdown",
   "source": [
    "# Youtube statics dataset\n",
    "data: https://www.kaggle.com/datasnaek/youtube-new"
   ],
   "metadata": {
    "collapsed": false
   }
  },
  {
   "cell_type": "code",
   "execution_count": 1,
   "outputs": [
    {
     "name": "stderr",
     "output_type": "stream",
     "text": [
      "In C:\\Users\\selcu\\Anaconda3\\lib\\site-packages\\matplotlib\\mpl-data\\stylelib\\_classic_test.mplstyle: \n",
      "The savefig.frameon rcparam was deprecated in Matplotlib 3.1 and will be removed in 3.3.\n",
      "In C:\\Users\\selcu\\Anaconda3\\lib\\site-packages\\matplotlib\\mpl-data\\stylelib\\_classic_test.mplstyle: \n",
      "The verbose.level rcparam was deprecated in Matplotlib 3.1 and will be removed in 3.3.\n",
      "In C:\\Users\\selcu\\Anaconda3\\lib\\site-packages\\matplotlib\\mpl-data\\stylelib\\_classic_test.mplstyle: \n",
      "The verbose.fileo rcparam was deprecated in Matplotlib 3.1 and will be removed in 3.3.\n"
     ]
    },
    {
     "data": {
      "text/plain": "          video_id trending_date  \\\n0      2kyS6SvSYSE      17.14.11   \n1      1ZAPwfrtAFY      17.14.11   \n2      5qpjK5DgCt4      17.14.11   \n3      puqaWrEC7tY      17.14.11   \n4      d380meD0W0M      17.14.11   \n...            ...           ...   \n40944  BZt0qjTWNhw      18.14.06   \n40945  1h7KV2sjUWY      18.14.06   \n40946  D6Oy4LfoqsU      18.14.06   \n40947  oV0zkMe1K8s      18.14.06   \n40948  ooyjaVdt-jA      18.14.06   \n\n                                                   title  \\\n0                     WE WANT TO TALK ABOUT OUR MARRIAGE   \n1      The Trump Presidency: Last Week Tonight with J...   \n2      Racist Superman | Rudy Mancuso, King Bach & Le...   \n3                       Nickelback Lyrics: Real or Fake?   \n4                               I Dare You: GOING BALD!?   \n...                                                  ...   \n40944                       The Cat Who Caught the Laser   \n40945                         True Facts : Ant Mutualism   \n40946  I GAVE SAFIYA NYGAARD A PERFECT HAIR MAKEOVER ...   \n40947                How Black Panther Should Have Ended   \n40948  Official Call of Duty®: Black Ops 4 — Multipla...   \n\n                  channel_title  category_id              publish_time  \\\n0                  CaseyNeistat           22  2017-11-13T17:13:01.000Z   \n1               LastWeekTonight           24  2017-11-13T07:30:00.000Z   \n2                  Rudy Mancuso           23  2017-11-12T19:05:24.000Z   \n3         Good Mythical Morning           24  2017-11-13T11:00:04.000Z   \n4                      nigahiga           24  2017-11-12T18:01:41.000Z   \n...                         ...          ...                       ...   \n40944             AaronsAnimals           15  2018-05-18T13:00:04.000Z   \n40945                  zefrank1           22  2018-05-18T01:00:06.000Z   \n40946                Brad Mondo           24  2018-05-18T17:34:22.000Z   \n40947  How It Should Have Ended            1  2018-05-17T17:00:04.000Z   \n40948              Call of Duty           20  2018-05-17T17:09:38.000Z   \n\n                                                    tags     views   likes  \\\n0                                        SHANtell martin    748374   57527   \n1      last week tonight trump presidency|\"last week ...   2418783   97185   \n2      racist superman|\"rudy\"|\"mancuso\"|\"king\"|\"bach\"...   3191434  146033   \n3      rhett and link|\"gmm\"|\"good mythical morning\"|\"...    343168   10172   \n4      ryan|\"higa\"|\"higatv\"|\"nigahiga\"|\"i dare you\"|\"...   2095731  132235   \n...                                                  ...       ...     ...   \n40944  aarons animals|\"aarons\"|\"animals\"|\"cat\"|\"cats\"...   1685609   38160   \n40945                                             [none]   1064798   60008   \n40946  I gave safiya nygaard a perfect hair makeover ...   1066451   48068   \n40947  Black Panther|\"HISHE\"|\"Marvel\"|\"Infinity War\"|...   5660813  192957   \n40948      call of duty|\"cod\"|\"activision\"|\"Black Ops 4\"  10306119  357079   \n\n       dislikes  comment_count  \\\n0          2966          15954   \n1          6146          12703   \n2          5339           8181   \n3           666           2146   \n4          1989          17518   \n...         ...            ...   \n40944      1385           2657   \n40945       382           3936   \n40946      1032           3992   \n40947      2846          13088   \n40948    212976         144795   \n\n                                       thumbnail_link  comments_disabled  \\\n0      https://i.ytimg.com/vi/2kyS6SvSYSE/default.jpg              False   \n1      https://i.ytimg.com/vi/1ZAPwfrtAFY/default.jpg              False   \n2      https://i.ytimg.com/vi/5qpjK5DgCt4/default.jpg              False   \n3      https://i.ytimg.com/vi/puqaWrEC7tY/default.jpg              False   \n4      https://i.ytimg.com/vi/d380meD0W0M/default.jpg              False   \n...                                               ...                ...   \n40944  https://i.ytimg.com/vi/BZt0qjTWNhw/default.jpg              False   \n40945  https://i.ytimg.com/vi/1h7KV2sjUWY/default.jpg              False   \n40946  https://i.ytimg.com/vi/D6Oy4LfoqsU/default.jpg              False   \n40947  https://i.ytimg.com/vi/oV0zkMe1K8s/default.jpg              False   \n40948  https://i.ytimg.com/vi/ooyjaVdt-jA/default.jpg              False   \n\n       ratings_disabled  video_error_or_removed  \\\n0                 False                   False   \n1                 False                   False   \n2                 False                   False   \n3                 False                   False   \n4                 False                   False   \n...                 ...                     ...   \n40944             False                   False   \n40945             False                   False   \n40946             False                   False   \n40947             False                   False   \n40948             False                   False   \n\n                                             description  \n0      SHANTELL'S CHANNEL - https://www.youtube.com/s...  \n1      One year after the presidential election, John...  \n2      WATCH MY PREVIOUS VIDEO ▶ \\n\\nSUBSCRIBE ► http...  \n3      Today we find out if Link is a Nickelback amat...  \n4      I know it's been a while since we did this sho...  \n...                                                  ...  \n40944     The Cat Who Caught the Laser - Aaron's Animals  \n40945                                                NaN  \n40946  I had so much fun transforming Safiyas hair in...  \n40947  How Black Panther Should Have EndedWatch More ...  \n40948  Call of Duty: Black Ops 4 Multiplayer raises t...  \n\n[40949 rows x 16 columns]",
      "text/html": "<div>\n<style scoped>\n    .dataframe tbody tr th:only-of-type {\n        vertical-align: middle;\n    }\n\n    .dataframe tbody tr th {\n        vertical-align: top;\n    }\n\n    .dataframe thead th {\n        text-align: right;\n    }\n</style>\n<table border=\"1\" class=\"dataframe\">\n  <thead>\n    <tr style=\"text-align: right;\">\n      <th></th>\n      <th>video_id</th>\n      <th>trending_date</th>\n      <th>title</th>\n      <th>channel_title</th>\n      <th>category_id</th>\n      <th>publish_time</th>\n      <th>tags</th>\n      <th>views</th>\n      <th>likes</th>\n      <th>dislikes</th>\n      <th>comment_count</th>\n      <th>thumbnail_link</th>\n      <th>comments_disabled</th>\n      <th>ratings_disabled</th>\n      <th>video_error_or_removed</th>\n      <th>description</th>\n    </tr>\n  </thead>\n  <tbody>\n    <tr>\n      <th>0</th>\n      <td>2kyS6SvSYSE</td>\n      <td>17.14.11</td>\n      <td>WE WANT TO TALK ABOUT OUR MARRIAGE</td>\n      <td>CaseyNeistat</td>\n      <td>22</td>\n      <td>2017-11-13T17:13:01.000Z</td>\n      <td>SHANtell martin</td>\n      <td>748374</td>\n      <td>57527</td>\n      <td>2966</td>\n      <td>15954</td>\n      <td>https://i.ytimg.com/vi/2kyS6SvSYSE/default.jpg</td>\n      <td>False</td>\n      <td>False</td>\n      <td>False</td>\n      <td>SHANTELL'S CHANNEL - https://www.youtube.com/s...</td>\n    </tr>\n    <tr>\n      <th>1</th>\n      <td>1ZAPwfrtAFY</td>\n      <td>17.14.11</td>\n      <td>The Trump Presidency: Last Week Tonight with J...</td>\n      <td>LastWeekTonight</td>\n      <td>24</td>\n      <td>2017-11-13T07:30:00.000Z</td>\n      <td>last week tonight trump presidency|\"last week ...</td>\n      <td>2418783</td>\n      <td>97185</td>\n      <td>6146</td>\n      <td>12703</td>\n      <td>https://i.ytimg.com/vi/1ZAPwfrtAFY/default.jpg</td>\n      <td>False</td>\n      <td>False</td>\n      <td>False</td>\n      <td>One year after the presidential election, John...</td>\n    </tr>\n    <tr>\n      <th>2</th>\n      <td>5qpjK5DgCt4</td>\n      <td>17.14.11</td>\n      <td>Racist Superman | Rudy Mancuso, King Bach &amp; Le...</td>\n      <td>Rudy Mancuso</td>\n      <td>23</td>\n      <td>2017-11-12T19:05:24.000Z</td>\n      <td>racist superman|\"rudy\"|\"mancuso\"|\"king\"|\"bach\"...</td>\n      <td>3191434</td>\n      <td>146033</td>\n      <td>5339</td>\n      <td>8181</td>\n      <td>https://i.ytimg.com/vi/5qpjK5DgCt4/default.jpg</td>\n      <td>False</td>\n      <td>False</td>\n      <td>False</td>\n      <td>WATCH MY PREVIOUS VIDEO ▶ \\n\\nSUBSCRIBE ► http...</td>\n    </tr>\n    <tr>\n      <th>3</th>\n      <td>puqaWrEC7tY</td>\n      <td>17.14.11</td>\n      <td>Nickelback Lyrics: Real or Fake?</td>\n      <td>Good Mythical Morning</td>\n      <td>24</td>\n      <td>2017-11-13T11:00:04.000Z</td>\n      <td>rhett and link|\"gmm\"|\"good mythical morning\"|\"...</td>\n      <td>343168</td>\n      <td>10172</td>\n      <td>666</td>\n      <td>2146</td>\n      <td>https://i.ytimg.com/vi/puqaWrEC7tY/default.jpg</td>\n      <td>False</td>\n      <td>False</td>\n      <td>False</td>\n      <td>Today we find out if Link is a Nickelback amat...</td>\n    </tr>\n    <tr>\n      <th>4</th>\n      <td>d380meD0W0M</td>\n      <td>17.14.11</td>\n      <td>I Dare You: GOING BALD!?</td>\n      <td>nigahiga</td>\n      <td>24</td>\n      <td>2017-11-12T18:01:41.000Z</td>\n      <td>ryan|\"higa\"|\"higatv\"|\"nigahiga\"|\"i dare you\"|\"...</td>\n      <td>2095731</td>\n      <td>132235</td>\n      <td>1989</td>\n      <td>17518</td>\n      <td>https://i.ytimg.com/vi/d380meD0W0M/default.jpg</td>\n      <td>False</td>\n      <td>False</td>\n      <td>False</td>\n      <td>I know it's been a while since we did this sho...</td>\n    </tr>\n    <tr>\n      <th>...</th>\n      <td>...</td>\n      <td>...</td>\n      <td>...</td>\n      <td>...</td>\n      <td>...</td>\n      <td>...</td>\n      <td>...</td>\n      <td>...</td>\n      <td>...</td>\n      <td>...</td>\n      <td>...</td>\n      <td>...</td>\n      <td>...</td>\n      <td>...</td>\n      <td>...</td>\n      <td>...</td>\n    </tr>\n    <tr>\n      <th>40944</th>\n      <td>BZt0qjTWNhw</td>\n      <td>18.14.06</td>\n      <td>The Cat Who Caught the Laser</td>\n      <td>AaronsAnimals</td>\n      <td>15</td>\n      <td>2018-05-18T13:00:04.000Z</td>\n      <td>aarons animals|\"aarons\"|\"animals\"|\"cat\"|\"cats\"...</td>\n      <td>1685609</td>\n      <td>38160</td>\n      <td>1385</td>\n      <td>2657</td>\n      <td>https://i.ytimg.com/vi/BZt0qjTWNhw/default.jpg</td>\n      <td>False</td>\n      <td>False</td>\n      <td>False</td>\n      <td>The Cat Who Caught the Laser - Aaron's Animals</td>\n    </tr>\n    <tr>\n      <th>40945</th>\n      <td>1h7KV2sjUWY</td>\n      <td>18.14.06</td>\n      <td>True Facts : Ant Mutualism</td>\n      <td>zefrank1</td>\n      <td>22</td>\n      <td>2018-05-18T01:00:06.000Z</td>\n      <td>[none]</td>\n      <td>1064798</td>\n      <td>60008</td>\n      <td>382</td>\n      <td>3936</td>\n      <td>https://i.ytimg.com/vi/1h7KV2sjUWY/default.jpg</td>\n      <td>False</td>\n      <td>False</td>\n      <td>False</td>\n      <td>NaN</td>\n    </tr>\n    <tr>\n      <th>40946</th>\n      <td>D6Oy4LfoqsU</td>\n      <td>18.14.06</td>\n      <td>I GAVE SAFIYA NYGAARD A PERFECT HAIR MAKEOVER ...</td>\n      <td>Brad Mondo</td>\n      <td>24</td>\n      <td>2018-05-18T17:34:22.000Z</td>\n      <td>I gave safiya nygaard a perfect hair makeover ...</td>\n      <td>1066451</td>\n      <td>48068</td>\n      <td>1032</td>\n      <td>3992</td>\n      <td>https://i.ytimg.com/vi/D6Oy4LfoqsU/default.jpg</td>\n      <td>False</td>\n      <td>False</td>\n      <td>False</td>\n      <td>I had so much fun transforming Safiyas hair in...</td>\n    </tr>\n    <tr>\n      <th>40947</th>\n      <td>oV0zkMe1K8s</td>\n      <td>18.14.06</td>\n      <td>How Black Panther Should Have Ended</td>\n      <td>How It Should Have Ended</td>\n      <td>1</td>\n      <td>2018-05-17T17:00:04.000Z</td>\n      <td>Black Panther|\"HISHE\"|\"Marvel\"|\"Infinity War\"|...</td>\n      <td>5660813</td>\n      <td>192957</td>\n      <td>2846</td>\n      <td>13088</td>\n      <td>https://i.ytimg.com/vi/oV0zkMe1K8s/default.jpg</td>\n      <td>False</td>\n      <td>False</td>\n      <td>False</td>\n      <td>How Black Panther Should Have EndedWatch More ...</td>\n    </tr>\n    <tr>\n      <th>40948</th>\n      <td>ooyjaVdt-jA</td>\n      <td>18.14.06</td>\n      <td>Official Call of Duty®: Black Ops 4 — Multipla...</td>\n      <td>Call of Duty</td>\n      <td>20</td>\n      <td>2018-05-17T17:09:38.000Z</td>\n      <td>call of duty|\"cod\"|\"activision\"|\"Black Ops 4\"</td>\n      <td>10306119</td>\n      <td>357079</td>\n      <td>212976</td>\n      <td>144795</td>\n      <td>https://i.ytimg.com/vi/ooyjaVdt-jA/default.jpg</td>\n      <td>False</td>\n      <td>False</td>\n      <td>False</td>\n      <td>Call of Duty: Black Ops 4 Multiplayer raises t...</td>\n    </tr>\n  </tbody>\n</table>\n<p>40949 rows × 16 columns</p>\n</div>"
     },
     "execution_count": 1,
     "metadata": {},
     "output_type": "execute_result"
    }
   ],
   "source": [
    "# modules\n",
    "import pandas as pd\n",
    "import numpy as np\n",
    "from matplotlib import pyplot as plt\n",
    "\n",
    "dataset_root = r\"D:\\\\datasets\\\\csv\"\n",
    "dataset_name = r\"\\\\trending_youTube_video_statistics\\\\\" \\\n",
    "               r\"USvideos.csv\"\n",
    "dataset = dataset_root + dataset_name\n",
    "df = pd.read_csv(dataset)\n",
    "df"
   ],
   "metadata": {
    "collapsed": false,
    "pycharm": {
     "name": "#%%\n"
    }
   }
  },
  {
   "cell_type": "markdown",
   "source": [
    "1-) Get first 10 records."
   ],
   "metadata": {
    "collapsed": false
   }
  },
  {
   "cell_type": "code",
   "execution_count": 2,
   "outputs": [
    {
     "data": {
      "text/plain": "      video_id trending_date  \\\n0  2kyS6SvSYSE      17.14.11   \n1  1ZAPwfrtAFY      17.14.11   \n2  5qpjK5DgCt4      17.14.11   \n3  puqaWrEC7tY      17.14.11   \n4  d380meD0W0M      17.14.11   \n5  gHZ1Qz0KiKM      17.14.11   \n6  39idVpFF7NQ      17.14.11   \n7  nc99ccSXST0      17.14.11   \n8  jr9QtXwC9vc      17.14.11   \n9  TUmyygCMMGA      17.14.11   \n\n                                               title          channel_title  \\\n0                 WE WANT TO TALK ABOUT OUR MARRIAGE           CaseyNeistat   \n1  The Trump Presidency: Last Week Tonight with J...        LastWeekTonight   \n2  Racist Superman | Rudy Mancuso, King Bach & Le...           Rudy Mancuso   \n3                   Nickelback Lyrics: Real or Fake?  Good Mythical Morning   \n4                           I Dare You: GOING BALD!?               nigahiga   \n5                              2 Weeks with iPhone X               iJustine   \n6          Roy Moore & Jeff Sessions Cold Open - SNL    Saturday Night Live   \n7                5 Ice Cream Gadgets put to the Test     CrazyRussianHacker   \n8  The Greatest Showman | Official Trailer 2 [HD]...       20th Century Fox   \n9  Why the rise of the robots won’t mean the end ...                    Vox   \n\n   category_id              publish_time  \\\n0           22  2017-11-13T17:13:01.000Z   \n1           24  2017-11-13T07:30:00.000Z   \n2           23  2017-11-12T19:05:24.000Z   \n3           24  2017-11-13T11:00:04.000Z   \n4           24  2017-11-12T18:01:41.000Z   \n5           28  2017-11-13T19:07:23.000Z   \n6           24  2017-11-12T05:37:17.000Z   \n7           28  2017-11-12T21:50:37.000Z   \n8            1  2017-11-13T14:00:23.000Z   \n9           25  2017-11-13T13:45:16.000Z   \n\n                                                tags    views   likes  \\\n0                                    SHANtell martin   748374   57527   \n1  last week tonight trump presidency|\"last week ...  2418783   97185   \n2  racist superman|\"rudy\"|\"mancuso\"|\"king\"|\"bach\"...  3191434  146033   \n3  rhett and link|\"gmm\"|\"good mythical morning\"|\"...   343168   10172   \n4  ryan|\"higa\"|\"higatv\"|\"nigahiga\"|\"i dare you\"|\"...  2095731  132235   \n5  ijustine|\"week with iPhone X\"|\"iphone x\"|\"appl...   119180    9763   \n6  SNL|\"Saturday Night Live\"|\"SNL Season 43\"|\"Epi...  2103417   15993   \n7  5 Ice Cream Gadgets|\"Ice Cream\"|\"Cream Sandwic...   817732   23663   \n8  Trailer|\"Hugh Jackman\"|\"Michelle Williams\"|\"Za...   826059    3543   \n9  vox.com|\"vox\"|\"explain\"|\"shift change\"|\"future...   256426   12654   \n\n   dislikes  comment_count                                  thumbnail_link  \\\n0      2966          15954  https://i.ytimg.com/vi/2kyS6SvSYSE/default.jpg   \n1      6146          12703  https://i.ytimg.com/vi/1ZAPwfrtAFY/default.jpg   \n2      5339           8181  https://i.ytimg.com/vi/5qpjK5DgCt4/default.jpg   \n3       666           2146  https://i.ytimg.com/vi/puqaWrEC7tY/default.jpg   \n4      1989          17518  https://i.ytimg.com/vi/d380meD0W0M/default.jpg   \n5       511           1434  https://i.ytimg.com/vi/gHZ1Qz0KiKM/default.jpg   \n6      2445           1970  https://i.ytimg.com/vi/39idVpFF7NQ/default.jpg   \n7       778           3432  https://i.ytimg.com/vi/nc99ccSXST0/default.jpg   \n8       119            340  https://i.ytimg.com/vi/jr9QtXwC9vc/default.jpg   \n9      1363           2368  https://i.ytimg.com/vi/TUmyygCMMGA/default.jpg   \n\n   comments_disabled  ratings_disabled  video_error_or_removed  \\\n0              False             False                   False   \n1              False             False                   False   \n2              False             False                   False   \n3              False             False                   False   \n4              False             False                   False   \n5              False             False                   False   \n6              False             False                   False   \n7              False             False                   False   \n8              False             False                   False   \n9              False             False                   False   \n\n                                         description  \n0  SHANTELL'S CHANNEL - https://www.youtube.com/s...  \n1  One year after the presidential election, John...  \n2  WATCH MY PREVIOUS VIDEO ▶ \\n\\nSUBSCRIBE ► http...  \n3  Today we find out if Link is a Nickelback amat...  \n4  I know it's been a while since we did this sho...  \n5  Using the iPhone for the past two weeks -- her...  \n6  Embattled Alabama Senate candidate Roy Moore (...  \n7  Ice Cream Pint Combination Lock - http://amzn....  \n8  Inspired by the imagination of P.T. Barnum, Th...  \n9  For now, at least, we have better things to wo...  ",
      "text/html": "<div>\n<style scoped>\n    .dataframe tbody tr th:only-of-type {\n        vertical-align: middle;\n    }\n\n    .dataframe tbody tr th {\n        vertical-align: top;\n    }\n\n    .dataframe thead th {\n        text-align: right;\n    }\n</style>\n<table border=\"1\" class=\"dataframe\">\n  <thead>\n    <tr style=\"text-align: right;\">\n      <th></th>\n      <th>video_id</th>\n      <th>trending_date</th>\n      <th>title</th>\n      <th>channel_title</th>\n      <th>category_id</th>\n      <th>publish_time</th>\n      <th>tags</th>\n      <th>views</th>\n      <th>likes</th>\n      <th>dislikes</th>\n      <th>comment_count</th>\n      <th>thumbnail_link</th>\n      <th>comments_disabled</th>\n      <th>ratings_disabled</th>\n      <th>video_error_or_removed</th>\n      <th>description</th>\n    </tr>\n  </thead>\n  <tbody>\n    <tr>\n      <th>0</th>\n      <td>2kyS6SvSYSE</td>\n      <td>17.14.11</td>\n      <td>WE WANT TO TALK ABOUT OUR MARRIAGE</td>\n      <td>CaseyNeistat</td>\n      <td>22</td>\n      <td>2017-11-13T17:13:01.000Z</td>\n      <td>SHANtell martin</td>\n      <td>748374</td>\n      <td>57527</td>\n      <td>2966</td>\n      <td>15954</td>\n      <td>https://i.ytimg.com/vi/2kyS6SvSYSE/default.jpg</td>\n      <td>False</td>\n      <td>False</td>\n      <td>False</td>\n      <td>SHANTELL'S CHANNEL - https://www.youtube.com/s...</td>\n    </tr>\n    <tr>\n      <th>1</th>\n      <td>1ZAPwfrtAFY</td>\n      <td>17.14.11</td>\n      <td>The Trump Presidency: Last Week Tonight with J...</td>\n      <td>LastWeekTonight</td>\n      <td>24</td>\n      <td>2017-11-13T07:30:00.000Z</td>\n      <td>last week tonight trump presidency|\"last week ...</td>\n      <td>2418783</td>\n      <td>97185</td>\n      <td>6146</td>\n      <td>12703</td>\n      <td>https://i.ytimg.com/vi/1ZAPwfrtAFY/default.jpg</td>\n      <td>False</td>\n      <td>False</td>\n      <td>False</td>\n      <td>One year after the presidential election, John...</td>\n    </tr>\n    <tr>\n      <th>2</th>\n      <td>5qpjK5DgCt4</td>\n      <td>17.14.11</td>\n      <td>Racist Superman | Rudy Mancuso, King Bach &amp; Le...</td>\n      <td>Rudy Mancuso</td>\n      <td>23</td>\n      <td>2017-11-12T19:05:24.000Z</td>\n      <td>racist superman|\"rudy\"|\"mancuso\"|\"king\"|\"bach\"...</td>\n      <td>3191434</td>\n      <td>146033</td>\n      <td>5339</td>\n      <td>8181</td>\n      <td>https://i.ytimg.com/vi/5qpjK5DgCt4/default.jpg</td>\n      <td>False</td>\n      <td>False</td>\n      <td>False</td>\n      <td>WATCH MY PREVIOUS VIDEO ▶ \\n\\nSUBSCRIBE ► http...</td>\n    </tr>\n    <tr>\n      <th>3</th>\n      <td>puqaWrEC7tY</td>\n      <td>17.14.11</td>\n      <td>Nickelback Lyrics: Real or Fake?</td>\n      <td>Good Mythical Morning</td>\n      <td>24</td>\n      <td>2017-11-13T11:00:04.000Z</td>\n      <td>rhett and link|\"gmm\"|\"good mythical morning\"|\"...</td>\n      <td>343168</td>\n      <td>10172</td>\n      <td>666</td>\n      <td>2146</td>\n      <td>https://i.ytimg.com/vi/puqaWrEC7tY/default.jpg</td>\n      <td>False</td>\n      <td>False</td>\n      <td>False</td>\n      <td>Today we find out if Link is a Nickelback amat...</td>\n    </tr>\n    <tr>\n      <th>4</th>\n      <td>d380meD0W0M</td>\n      <td>17.14.11</td>\n      <td>I Dare You: GOING BALD!?</td>\n      <td>nigahiga</td>\n      <td>24</td>\n      <td>2017-11-12T18:01:41.000Z</td>\n      <td>ryan|\"higa\"|\"higatv\"|\"nigahiga\"|\"i dare you\"|\"...</td>\n      <td>2095731</td>\n      <td>132235</td>\n      <td>1989</td>\n      <td>17518</td>\n      <td>https://i.ytimg.com/vi/d380meD0W0M/default.jpg</td>\n      <td>False</td>\n      <td>False</td>\n      <td>False</td>\n      <td>I know it's been a while since we did this sho...</td>\n    </tr>\n    <tr>\n      <th>5</th>\n      <td>gHZ1Qz0KiKM</td>\n      <td>17.14.11</td>\n      <td>2 Weeks with iPhone X</td>\n      <td>iJustine</td>\n      <td>28</td>\n      <td>2017-11-13T19:07:23.000Z</td>\n      <td>ijustine|\"week with iPhone X\"|\"iphone x\"|\"appl...</td>\n      <td>119180</td>\n      <td>9763</td>\n      <td>511</td>\n      <td>1434</td>\n      <td>https://i.ytimg.com/vi/gHZ1Qz0KiKM/default.jpg</td>\n      <td>False</td>\n      <td>False</td>\n      <td>False</td>\n      <td>Using the iPhone for the past two weeks -- her...</td>\n    </tr>\n    <tr>\n      <th>6</th>\n      <td>39idVpFF7NQ</td>\n      <td>17.14.11</td>\n      <td>Roy Moore &amp; Jeff Sessions Cold Open - SNL</td>\n      <td>Saturday Night Live</td>\n      <td>24</td>\n      <td>2017-11-12T05:37:17.000Z</td>\n      <td>SNL|\"Saturday Night Live\"|\"SNL Season 43\"|\"Epi...</td>\n      <td>2103417</td>\n      <td>15993</td>\n      <td>2445</td>\n      <td>1970</td>\n      <td>https://i.ytimg.com/vi/39idVpFF7NQ/default.jpg</td>\n      <td>False</td>\n      <td>False</td>\n      <td>False</td>\n      <td>Embattled Alabama Senate candidate Roy Moore (...</td>\n    </tr>\n    <tr>\n      <th>7</th>\n      <td>nc99ccSXST0</td>\n      <td>17.14.11</td>\n      <td>5 Ice Cream Gadgets put to the Test</td>\n      <td>CrazyRussianHacker</td>\n      <td>28</td>\n      <td>2017-11-12T21:50:37.000Z</td>\n      <td>5 Ice Cream Gadgets|\"Ice Cream\"|\"Cream Sandwic...</td>\n      <td>817732</td>\n      <td>23663</td>\n      <td>778</td>\n      <td>3432</td>\n      <td>https://i.ytimg.com/vi/nc99ccSXST0/default.jpg</td>\n      <td>False</td>\n      <td>False</td>\n      <td>False</td>\n      <td>Ice Cream Pint Combination Lock - http://amzn....</td>\n    </tr>\n    <tr>\n      <th>8</th>\n      <td>jr9QtXwC9vc</td>\n      <td>17.14.11</td>\n      <td>The Greatest Showman | Official Trailer 2 [HD]...</td>\n      <td>20th Century Fox</td>\n      <td>1</td>\n      <td>2017-11-13T14:00:23.000Z</td>\n      <td>Trailer|\"Hugh Jackman\"|\"Michelle Williams\"|\"Za...</td>\n      <td>826059</td>\n      <td>3543</td>\n      <td>119</td>\n      <td>340</td>\n      <td>https://i.ytimg.com/vi/jr9QtXwC9vc/default.jpg</td>\n      <td>False</td>\n      <td>False</td>\n      <td>False</td>\n      <td>Inspired by the imagination of P.T. Barnum, Th...</td>\n    </tr>\n    <tr>\n      <th>9</th>\n      <td>TUmyygCMMGA</td>\n      <td>17.14.11</td>\n      <td>Why the rise of the robots won’t mean the end ...</td>\n      <td>Vox</td>\n      <td>25</td>\n      <td>2017-11-13T13:45:16.000Z</td>\n      <td>vox.com|\"vox\"|\"explain\"|\"shift change\"|\"future...</td>\n      <td>256426</td>\n      <td>12654</td>\n      <td>1363</td>\n      <td>2368</td>\n      <td>https://i.ytimg.com/vi/TUmyygCMMGA/default.jpg</td>\n      <td>False</td>\n      <td>False</td>\n      <td>False</td>\n      <td>For now, at least, we have better things to wo...</td>\n    </tr>\n  </tbody>\n</table>\n</div>"
     },
     "execution_count": 2,
     "metadata": {},
     "output_type": "execute_result"
    }
   ],
   "source": [
    "# -*-* code *-*-\n",
    "df.head(10)"
   ],
   "metadata": {
    "collapsed": false,
    "pycharm": {
     "name": "#%%\n"
    }
   }
  },
  {
   "cell_type": "markdown",
   "source": [
    "2-) Second 5 records."
   ],
   "metadata": {
    "collapsed": false
   }
  },
  {
   "cell_type": "code",
   "execution_count": 3,
   "outputs": [
    {
     "data": {
      "text/plain": "      video_id trending_date  \\\n5  gHZ1Qz0KiKM      17.14.11   \n6  39idVpFF7NQ      17.14.11   \n7  nc99ccSXST0      17.14.11   \n8  jr9QtXwC9vc      17.14.11   \n9  TUmyygCMMGA      17.14.11   \n\n                                               title        channel_title  \\\n5                              2 Weeks with iPhone X             iJustine   \n6          Roy Moore & Jeff Sessions Cold Open - SNL  Saturday Night Live   \n7                5 Ice Cream Gadgets put to the Test   CrazyRussianHacker   \n8  The Greatest Showman | Official Trailer 2 [HD]...     20th Century Fox   \n9  Why the rise of the robots won’t mean the end ...                  Vox   \n\n   category_id              publish_time  \\\n5           28  2017-11-13T19:07:23.000Z   \n6           24  2017-11-12T05:37:17.000Z   \n7           28  2017-11-12T21:50:37.000Z   \n8            1  2017-11-13T14:00:23.000Z   \n9           25  2017-11-13T13:45:16.000Z   \n\n                                                tags    views  likes  \\\n5  ijustine|\"week with iPhone X\"|\"iphone x\"|\"appl...   119180   9763   \n6  SNL|\"Saturday Night Live\"|\"SNL Season 43\"|\"Epi...  2103417  15993   \n7  5 Ice Cream Gadgets|\"Ice Cream\"|\"Cream Sandwic...   817732  23663   \n8  Trailer|\"Hugh Jackman\"|\"Michelle Williams\"|\"Za...   826059   3543   \n9  vox.com|\"vox\"|\"explain\"|\"shift change\"|\"future...   256426  12654   \n\n   dislikes  comment_count                                  thumbnail_link  \\\n5       511           1434  https://i.ytimg.com/vi/gHZ1Qz0KiKM/default.jpg   \n6      2445           1970  https://i.ytimg.com/vi/39idVpFF7NQ/default.jpg   \n7       778           3432  https://i.ytimg.com/vi/nc99ccSXST0/default.jpg   \n8       119            340  https://i.ytimg.com/vi/jr9QtXwC9vc/default.jpg   \n9      1363           2368  https://i.ytimg.com/vi/TUmyygCMMGA/default.jpg   \n\n   comments_disabled  ratings_disabled  video_error_or_removed  \\\n5              False             False                   False   \n6              False             False                   False   \n7              False             False                   False   \n8              False             False                   False   \n9              False             False                   False   \n\n                                         description  \n5  Using the iPhone for the past two weeks -- her...  \n6  Embattled Alabama Senate candidate Roy Moore (...  \n7  Ice Cream Pint Combination Lock - http://amzn....  \n8  Inspired by the imagination of P.T. Barnum, Th...  \n9  For now, at least, we have better things to wo...  ",
      "text/html": "<div>\n<style scoped>\n    .dataframe tbody tr th:only-of-type {\n        vertical-align: middle;\n    }\n\n    .dataframe tbody tr th {\n        vertical-align: top;\n    }\n\n    .dataframe thead th {\n        text-align: right;\n    }\n</style>\n<table border=\"1\" class=\"dataframe\">\n  <thead>\n    <tr style=\"text-align: right;\">\n      <th></th>\n      <th>video_id</th>\n      <th>trending_date</th>\n      <th>title</th>\n      <th>channel_title</th>\n      <th>category_id</th>\n      <th>publish_time</th>\n      <th>tags</th>\n      <th>views</th>\n      <th>likes</th>\n      <th>dislikes</th>\n      <th>comment_count</th>\n      <th>thumbnail_link</th>\n      <th>comments_disabled</th>\n      <th>ratings_disabled</th>\n      <th>video_error_or_removed</th>\n      <th>description</th>\n    </tr>\n  </thead>\n  <tbody>\n    <tr>\n      <th>5</th>\n      <td>gHZ1Qz0KiKM</td>\n      <td>17.14.11</td>\n      <td>2 Weeks with iPhone X</td>\n      <td>iJustine</td>\n      <td>28</td>\n      <td>2017-11-13T19:07:23.000Z</td>\n      <td>ijustine|\"week with iPhone X\"|\"iphone x\"|\"appl...</td>\n      <td>119180</td>\n      <td>9763</td>\n      <td>511</td>\n      <td>1434</td>\n      <td>https://i.ytimg.com/vi/gHZ1Qz0KiKM/default.jpg</td>\n      <td>False</td>\n      <td>False</td>\n      <td>False</td>\n      <td>Using the iPhone for the past two weeks -- her...</td>\n    </tr>\n    <tr>\n      <th>6</th>\n      <td>39idVpFF7NQ</td>\n      <td>17.14.11</td>\n      <td>Roy Moore &amp; Jeff Sessions Cold Open - SNL</td>\n      <td>Saturday Night Live</td>\n      <td>24</td>\n      <td>2017-11-12T05:37:17.000Z</td>\n      <td>SNL|\"Saturday Night Live\"|\"SNL Season 43\"|\"Epi...</td>\n      <td>2103417</td>\n      <td>15993</td>\n      <td>2445</td>\n      <td>1970</td>\n      <td>https://i.ytimg.com/vi/39idVpFF7NQ/default.jpg</td>\n      <td>False</td>\n      <td>False</td>\n      <td>False</td>\n      <td>Embattled Alabama Senate candidate Roy Moore (...</td>\n    </tr>\n    <tr>\n      <th>7</th>\n      <td>nc99ccSXST0</td>\n      <td>17.14.11</td>\n      <td>5 Ice Cream Gadgets put to the Test</td>\n      <td>CrazyRussianHacker</td>\n      <td>28</td>\n      <td>2017-11-12T21:50:37.000Z</td>\n      <td>5 Ice Cream Gadgets|\"Ice Cream\"|\"Cream Sandwic...</td>\n      <td>817732</td>\n      <td>23663</td>\n      <td>778</td>\n      <td>3432</td>\n      <td>https://i.ytimg.com/vi/nc99ccSXST0/default.jpg</td>\n      <td>False</td>\n      <td>False</td>\n      <td>False</td>\n      <td>Ice Cream Pint Combination Lock - http://amzn....</td>\n    </tr>\n    <tr>\n      <th>8</th>\n      <td>jr9QtXwC9vc</td>\n      <td>17.14.11</td>\n      <td>The Greatest Showman | Official Trailer 2 [HD]...</td>\n      <td>20th Century Fox</td>\n      <td>1</td>\n      <td>2017-11-13T14:00:23.000Z</td>\n      <td>Trailer|\"Hugh Jackman\"|\"Michelle Williams\"|\"Za...</td>\n      <td>826059</td>\n      <td>3543</td>\n      <td>119</td>\n      <td>340</td>\n      <td>https://i.ytimg.com/vi/jr9QtXwC9vc/default.jpg</td>\n      <td>False</td>\n      <td>False</td>\n      <td>False</td>\n      <td>Inspired by the imagination of P.T. Barnum, Th...</td>\n    </tr>\n    <tr>\n      <th>9</th>\n      <td>TUmyygCMMGA</td>\n      <td>17.14.11</td>\n      <td>Why the rise of the robots won’t mean the end ...</td>\n      <td>Vox</td>\n      <td>25</td>\n      <td>2017-11-13T13:45:16.000Z</td>\n      <td>vox.com|\"vox\"|\"explain\"|\"shift change\"|\"future...</td>\n      <td>256426</td>\n      <td>12654</td>\n      <td>1363</td>\n      <td>2368</td>\n      <td>https://i.ytimg.com/vi/TUmyygCMMGA/default.jpg</td>\n      <td>False</td>\n      <td>False</td>\n      <td>False</td>\n      <td>For now, at least, we have better things to wo...</td>\n    </tr>\n  </tbody>\n</table>\n</div>"
     },
     "execution_count": 3,
     "metadata": {},
     "output_type": "execute_result"
    }
   ],
   "source": [
    "# -*-* code *-*-\n",
    "df[5:10].head(5)"
   ],
   "metadata": {
    "collapsed": false,
    "pycharm": {
     "name": "#%%\n"
    }
   }
  },
  {
   "cell_type": "markdown",
   "source": [
    "3-) Get the number and names of columns"
   ],
   "metadata": {
    "collapsed": false
   }
  },
  {
   "cell_type": "code",
   "execution_count": 4,
   "outputs": [
    {
     "name": "stdout",
     "output_type": "stream",
     "text": [
      "16\n",
      "Index(['video_id', 'trending_date', 'title', 'channel_title', 'category_id',\n",
      "       'publish_time', 'tags', 'views', 'likes', 'dislikes', 'comment_count',\n",
      "       'thumbnail_link', 'comments_disabled', 'ratings_disabled',\n",
      "       'video_error_or_removed', 'description'],\n",
      "      dtype='object')\n"
     ]
    }
   ],
   "source": [
    "# -*-* code *-*-\n",
    "print(len(df.columns))\n",
    "print(df.columns)"
   ],
   "metadata": {
    "collapsed": false,
    "pycharm": {
     "name": "#%%\n"
    }
   }
  },
  {
   "cell_type": "markdown",
   "source": [
    "4-) Remove there columns\n",
    "\"thumbnail_link\", \"comments_disabled\""
   ],
   "metadata": {
    "collapsed": false
   }
  },
  {
   "cell_type": "code",
   "execution_count": 5,
   "outputs": [
    {
     "data": {
      "text/plain": "          video_id trending_date  \\\n0      2kyS6SvSYSE      17.14.11   \n1      1ZAPwfrtAFY      17.14.11   \n2      5qpjK5DgCt4      17.14.11   \n3      puqaWrEC7tY      17.14.11   \n4      d380meD0W0M      17.14.11   \n...            ...           ...   \n40944  BZt0qjTWNhw      18.14.06   \n40945  1h7KV2sjUWY      18.14.06   \n40946  D6Oy4LfoqsU      18.14.06   \n40947  oV0zkMe1K8s      18.14.06   \n40948  ooyjaVdt-jA      18.14.06   \n\n                                                   title  \\\n0                     WE WANT TO TALK ABOUT OUR MARRIAGE   \n1      The Trump Presidency: Last Week Tonight with J...   \n2      Racist Superman | Rudy Mancuso, King Bach & Le...   \n3                       Nickelback Lyrics: Real or Fake?   \n4                               I Dare You: GOING BALD!?   \n...                                                  ...   \n40944                       The Cat Who Caught the Laser   \n40945                         True Facts : Ant Mutualism   \n40946  I GAVE SAFIYA NYGAARD A PERFECT HAIR MAKEOVER ...   \n40947                How Black Panther Should Have Ended   \n40948  Official Call of Duty®: Black Ops 4 — Multipla...   \n\n                  channel_title  category_id              publish_time  \\\n0                  CaseyNeistat           22  2017-11-13T17:13:01.000Z   \n1               LastWeekTonight           24  2017-11-13T07:30:00.000Z   \n2                  Rudy Mancuso           23  2017-11-12T19:05:24.000Z   \n3         Good Mythical Morning           24  2017-11-13T11:00:04.000Z   \n4                      nigahiga           24  2017-11-12T18:01:41.000Z   \n...                         ...          ...                       ...   \n40944             AaronsAnimals           15  2018-05-18T13:00:04.000Z   \n40945                  zefrank1           22  2018-05-18T01:00:06.000Z   \n40946                Brad Mondo           24  2018-05-18T17:34:22.000Z   \n40947  How It Should Have Ended            1  2018-05-17T17:00:04.000Z   \n40948              Call of Duty           20  2018-05-17T17:09:38.000Z   \n\n                                                    tags     views   likes  \\\n0                                        SHANtell martin    748374   57527   \n1      last week tonight trump presidency|\"last week ...   2418783   97185   \n2      racist superman|\"rudy\"|\"mancuso\"|\"king\"|\"bach\"...   3191434  146033   \n3      rhett and link|\"gmm\"|\"good mythical morning\"|\"...    343168   10172   \n4      ryan|\"higa\"|\"higatv\"|\"nigahiga\"|\"i dare you\"|\"...   2095731  132235   \n...                                                  ...       ...     ...   \n40944  aarons animals|\"aarons\"|\"animals\"|\"cat\"|\"cats\"...   1685609   38160   \n40945                                             [none]   1064798   60008   \n40946  I gave safiya nygaard a perfect hair makeover ...   1066451   48068   \n40947  Black Panther|\"HISHE\"|\"Marvel\"|\"Infinity War\"|...   5660813  192957   \n40948      call of duty|\"cod\"|\"activision\"|\"Black Ops 4\"  10306119  357079   \n\n       dislikes  comment_count  ratings_disabled  video_error_or_removed  \\\n0          2966          15954             False                   False   \n1          6146          12703             False                   False   \n2          5339           8181             False                   False   \n3           666           2146             False                   False   \n4          1989          17518             False                   False   \n...         ...            ...               ...                     ...   \n40944      1385           2657             False                   False   \n40945       382           3936             False                   False   \n40946      1032           3992             False                   False   \n40947      2846          13088             False                   False   \n40948    212976         144795             False                   False   \n\n                                             description  \n0      SHANTELL'S CHANNEL - https://www.youtube.com/s...  \n1      One year after the presidential election, John...  \n2      WATCH MY PREVIOUS VIDEO ▶ \\n\\nSUBSCRIBE ► http...  \n3      Today we find out if Link is a Nickelback amat...  \n4      I know it's been a while since we did this sho...  \n...                                                  ...  \n40944     The Cat Who Caught the Laser - Aaron's Animals  \n40945                                                NaN  \n40946  I had so much fun transforming Safiyas hair in...  \n40947  How Black Panther Should Have EndedWatch More ...  \n40948  Call of Duty: Black Ops 4 Multiplayer raises t...  \n\n[40949 rows x 14 columns]",
      "text/html": "<div>\n<style scoped>\n    .dataframe tbody tr th:only-of-type {\n        vertical-align: middle;\n    }\n\n    .dataframe tbody tr th {\n        vertical-align: top;\n    }\n\n    .dataframe thead th {\n        text-align: right;\n    }\n</style>\n<table border=\"1\" class=\"dataframe\">\n  <thead>\n    <tr style=\"text-align: right;\">\n      <th></th>\n      <th>video_id</th>\n      <th>trending_date</th>\n      <th>title</th>\n      <th>channel_title</th>\n      <th>category_id</th>\n      <th>publish_time</th>\n      <th>tags</th>\n      <th>views</th>\n      <th>likes</th>\n      <th>dislikes</th>\n      <th>comment_count</th>\n      <th>ratings_disabled</th>\n      <th>video_error_or_removed</th>\n      <th>description</th>\n    </tr>\n  </thead>\n  <tbody>\n    <tr>\n      <th>0</th>\n      <td>2kyS6SvSYSE</td>\n      <td>17.14.11</td>\n      <td>WE WANT TO TALK ABOUT OUR MARRIAGE</td>\n      <td>CaseyNeistat</td>\n      <td>22</td>\n      <td>2017-11-13T17:13:01.000Z</td>\n      <td>SHANtell martin</td>\n      <td>748374</td>\n      <td>57527</td>\n      <td>2966</td>\n      <td>15954</td>\n      <td>False</td>\n      <td>False</td>\n      <td>SHANTELL'S CHANNEL - https://www.youtube.com/s...</td>\n    </tr>\n    <tr>\n      <th>1</th>\n      <td>1ZAPwfrtAFY</td>\n      <td>17.14.11</td>\n      <td>The Trump Presidency: Last Week Tonight with J...</td>\n      <td>LastWeekTonight</td>\n      <td>24</td>\n      <td>2017-11-13T07:30:00.000Z</td>\n      <td>last week tonight trump presidency|\"last week ...</td>\n      <td>2418783</td>\n      <td>97185</td>\n      <td>6146</td>\n      <td>12703</td>\n      <td>False</td>\n      <td>False</td>\n      <td>One year after the presidential election, John...</td>\n    </tr>\n    <tr>\n      <th>2</th>\n      <td>5qpjK5DgCt4</td>\n      <td>17.14.11</td>\n      <td>Racist Superman | Rudy Mancuso, King Bach &amp; Le...</td>\n      <td>Rudy Mancuso</td>\n      <td>23</td>\n      <td>2017-11-12T19:05:24.000Z</td>\n      <td>racist superman|\"rudy\"|\"mancuso\"|\"king\"|\"bach\"...</td>\n      <td>3191434</td>\n      <td>146033</td>\n      <td>5339</td>\n      <td>8181</td>\n      <td>False</td>\n      <td>False</td>\n      <td>WATCH MY PREVIOUS VIDEO ▶ \\n\\nSUBSCRIBE ► http...</td>\n    </tr>\n    <tr>\n      <th>3</th>\n      <td>puqaWrEC7tY</td>\n      <td>17.14.11</td>\n      <td>Nickelback Lyrics: Real or Fake?</td>\n      <td>Good Mythical Morning</td>\n      <td>24</td>\n      <td>2017-11-13T11:00:04.000Z</td>\n      <td>rhett and link|\"gmm\"|\"good mythical morning\"|\"...</td>\n      <td>343168</td>\n      <td>10172</td>\n      <td>666</td>\n      <td>2146</td>\n      <td>False</td>\n      <td>False</td>\n      <td>Today we find out if Link is a Nickelback amat...</td>\n    </tr>\n    <tr>\n      <th>4</th>\n      <td>d380meD0W0M</td>\n      <td>17.14.11</td>\n      <td>I Dare You: GOING BALD!?</td>\n      <td>nigahiga</td>\n      <td>24</td>\n      <td>2017-11-12T18:01:41.000Z</td>\n      <td>ryan|\"higa\"|\"higatv\"|\"nigahiga\"|\"i dare you\"|\"...</td>\n      <td>2095731</td>\n      <td>132235</td>\n      <td>1989</td>\n      <td>17518</td>\n      <td>False</td>\n      <td>False</td>\n      <td>I know it's been a while since we did this sho...</td>\n    </tr>\n    <tr>\n      <th>...</th>\n      <td>...</td>\n      <td>...</td>\n      <td>...</td>\n      <td>...</td>\n      <td>...</td>\n      <td>...</td>\n      <td>...</td>\n      <td>...</td>\n      <td>...</td>\n      <td>...</td>\n      <td>...</td>\n      <td>...</td>\n      <td>...</td>\n      <td>...</td>\n    </tr>\n    <tr>\n      <th>40944</th>\n      <td>BZt0qjTWNhw</td>\n      <td>18.14.06</td>\n      <td>The Cat Who Caught the Laser</td>\n      <td>AaronsAnimals</td>\n      <td>15</td>\n      <td>2018-05-18T13:00:04.000Z</td>\n      <td>aarons animals|\"aarons\"|\"animals\"|\"cat\"|\"cats\"...</td>\n      <td>1685609</td>\n      <td>38160</td>\n      <td>1385</td>\n      <td>2657</td>\n      <td>False</td>\n      <td>False</td>\n      <td>The Cat Who Caught the Laser - Aaron's Animals</td>\n    </tr>\n    <tr>\n      <th>40945</th>\n      <td>1h7KV2sjUWY</td>\n      <td>18.14.06</td>\n      <td>True Facts : Ant Mutualism</td>\n      <td>zefrank1</td>\n      <td>22</td>\n      <td>2018-05-18T01:00:06.000Z</td>\n      <td>[none]</td>\n      <td>1064798</td>\n      <td>60008</td>\n      <td>382</td>\n      <td>3936</td>\n      <td>False</td>\n      <td>False</td>\n      <td>NaN</td>\n    </tr>\n    <tr>\n      <th>40946</th>\n      <td>D6Oy4LfoqsU</td>\n      <td>18.14.06</td>\n      <td>I GAVE SAFIYA NYGAARD A PERFECT HAIR MAKEOVER ...</td>\n      <td>Brad Mondo</td>\n      <td>24</td>\n      <td>2018-05-18T17:34:22.000Z</td>\n      <td>I gave safiya nygaard a perfect hair makeover ...</td>\n      <td>1066451</td>\n      <td>48068</td>\n      <td>1032</td>\n      <td>3992</td>\n      <td>False</td>\n      <td>False</td>\n      <td>I had so much fun transforming Safiyas hair in...</td>\n    </tr>\n    <tr>\n      <th>40947</th>\n      <td>oV0zkMe1K8s</td>\n      <td>18.14.06</td>\n      <td>How Black Panther Should Have Ended</td>\n      <td>How It Should Have Ended</td>\n      <td>1</td>\n      <td>2018-05-17T17:00:04.000Z</td>\n      <td>Black Panther|\"HISHE\"|\"Marvel\"|\"Infinity War\"|...</td>\n      <td>5660813</td>\n      <td>192957</td>\n      <td>2846</td>\n      <td>13088</td>\n      <td>False</td>\n      <td>False</td>\n      <td>How Black Panther Should Have EndedWatch More ...</td>\n    </tr>\n    <tr>\n      <th>40948</th>\n      <td>ooyjaVdt-jA</td>\n      <td>18.14.06</td>\n      <td>Official Call of Duty®: Black Ops 4 — Multipla...</td>\n      <td>Call of Duty</td>\n      <td>20</td>\n      <td>2018-05-17T17:09:38.000Z</td>\n      <td>call of duty|\"cod\"|\"activision\"|\"Black Ops 4\"</td>\n      <td>10306119</td>\n      <td>357079</td>\n      <td>212976</td>\n      <td>144795</td>\n      <td>False</td>\n      <td>False</td>\n      <td>Call of Duty: Black Ops 4 Multiplayer raises t...</td>\n    </tr>\n  </tbody>\n</table>\n<p>40949 rows × 14 columns</p>\n</div>"
     },
     "execution_count": 5,
     "metadata": {},
     "output_type": "execute_result"
    }
   ],
   "source": [
    "# -*-* code *-*-\n",
    "remove = [\"thumbnail_link\", \"comments_disabled\"]\n",
    "df.drop(remove, axis=1, inplace=True)\n",
    "df"
   ],
   "metadata": {
    "collapsed": false,
    "pycharm": {
     "name": "#%%\n"
    }
   }
  },
  {
   "cell_type": "markdown",
   "source": [
    "5-) Calcualte average \"likes\" and \"dislikes\""
   ],
   "metadata": {
    "collapsed": false
   }
  },
  {
   "cell_type": "code",
   "execution_count": 16,
   "outputs": [
    {
     "name": "stdout",
     "output_type": "stream",
     "text": [
      "likes       74266.702435\n",
      "dislikes     3711.400889\n",
      "dtype: float64\n"
     ]
    }
   ],
   "source": [
    "# -*-* code *-*-\n",
    "columns = [\"likes\", \"dislikes\"]\n",
    "print(df[columns].mean())"
   ],
   "metadata": {
    "collapsed": false,
    "pycharm": {
     "name": "#%%\n"
    }
   }
  },
  {
   "cell_type": "markdown",
   "source": [
    "6-) get likes and dislikes of the first 50 videos"
   ],
   "metadata": {
    "collapsed": false
   }
  },
  {
   "cell_type": "code",
   "execution_count": 19,
   "outputs": [
    {
     "data": {
      "text/plain": "                                                title   likes  dislikes\n0                  WE WANT TO TALK ABOUT OUR MARRIAGE   57527      2966\n1   The Trump Presidency: Last Week Tonight with J...   97185      6146\n2   Racist Superman | Rudy Mancuso, King Bach & Le...  146033      5339\n3                    Nickelback Lyrics: Real or Fake?   10172       666\n4                            I Dare You: GOING BALD!?  132235      1989\n5                               2 Weeks with iPhone X    9763       511\n6           Roy Moore & Jeff Sessions Cold Open - SNL   15993      2445\n7                 5 Ice Cream Gadgets put to the Test   23663       778\n8   The Greatest Showman | Official Trailer 2 [HD]...    3543       119\n9   Why the rise of the robots won’t mean the end ...   12654      1363\n10  Dion Lewis' 103-Yd Kick Return TD vs. Denver! ...     655        25\n11  (SPOILERS) 'Shiva Saves the Day' Talked About ...    1576       303\n12         Marshmello - Blocks (Official Music Video)  114188      1333\n13             Which Countries Are About To Collapse?    7848      1171\n14                           SHOPPING FOR NEW FISH!!!    7473       246\n15                                   The New SpotMini    9419        52\n16   One Change That Would Make Pacific Rim a Classic    8011       638\n17  How does your body know you're full? - Hilary ...    5398        53\n18                         HomeMade Electric Airplane   11963        36\n19           Founding An Inbreeding-Free Space Colony    8421       191\n20                   How Can You Control Your Dreams?    9586        75\n21  The Making of Hela's Headdress from Thor: Ragn...    3585       138\n22  Is It Dangerous To Talk To A Camera While Driv...   11758        89\n23  What $4,800 Will Get You In NYC | Sweet Digs H...    1707       578\n24                       Using Other People's Showers    4884        52\n25             SPAGHETTI BURRITO VS SPAGHETTI BURRITO    8676       193\n26               78557 and Proth Primes - Numberphile    4687        41\n27    A Smart... MUG?! - Take apart a Heated Thermos!    9033       224\n28  LeBron James admits he was ripping Phil Jackso...     156        36\n29                            Nick Andopolis: Drummer     715       238\n30  I TOOK THE $3,000,000 LAMBO TO CARMAX! They of...    4035       495\n31        Amazon Christmas Advert 2017 - Toys & Games     119        69\n32         Eminem - Walk On Water (Audio) ft. Beyoncé  787419     43420\n33                    What's Inside a Detectives Car?    3781        84\n34  New Emirates First Class Suite | Boeing 777 | ...    1661        70\n35                               Me-O Cats Commercial    2486       184\n36     TL;DW - Every DCEU Movie Before Justice League    7515       792\n37  Hunter Hayes - You Should Be Loved (Part One O...    1318        24\n38                  Celebrities on Thanksgiving 2017!   38397      1387\n39  Nickelback - The Betrayal Act III [Official Vi...    6927       161\n40                                  U2 - The Blackout    5389       106\n41  Iraq-Iran earthquake: Deadly tremor hits borde...     308        26\n42  Dennis Smith Jr. and LeBron James go back and ...       7         5\n43  Matthew Santoro - FACTS (Official Music Video)...   15186     15448\n44  AFFAIRS, EX BOYFRIENDS, $18MILLION NET WORTH -...    4451      1772\n45   iPhone X vs Makeup Transformation (Face ID TEST)   33505      1660\n46  People are Awesome & The Pet Collective presen...    3417        33\n47  Stephon Marbury and Jimmer Fredette fight in C...    2017      2425\n48  Heidelberg's nifty hook-and-lateral to the lef...      35        18\n49  ELDERS REACT TO iPHONE X (Facial Recognition, ...   45406      2842",
      "text/html": "<div>\n<style scoped>\n    .dataframe tbody tr th:only-of-type {\n        vertical-align: middle;\n    }\n\n    .dataframe tbody tr th {\n        vertical-align: top;\n    }\n\n    .dataframe thead th {\n        text-align: right;\n    }\n</style>\n<table border=\"1\" class=\"dataframe\">\n  <thead>\n    <tr style=\"text-align: right;\">\n      <th></th>\n      <th>title</th>\n      <th>likes</th>\n      <th>dislikes</th>\n    </tr>\n  </thead>\n  <tbody>\n    <tr>\n      <th>0</th>\n      <td>WE WANT TO TALK ABOUT OUR MARRIAGE</td>\n      <td>57527</td>\n      <td>2966</td>\n    </tr>\n    <tr>\n      <th>1</th>\n      <td>The Trump Presidency: Last Week Tonight with J...</td>\n      <td>97185</td>\n      <td>6146</td>\n    </tr>\n    <tr>\n      <th>2</th>\n      <td>Racist Superman | Rudy Mancuso, King Bach &amp; Le...</td>\n      <td>146033</td>\n      <td>5339</td>\n    </tr>\n    <tr>\n      <th>3</th>\n      <td>Nickelback Lyrics: Real or Fake?</td>\n      <td>10172</td>\n      <td>666</td>\n    </tr>\n    <tr>\n      <th>4</th>\n      <td>I Dare You: GOING BALD!?</td>\n      <td>132235</td>\n      <td>1989</td>\n    </tr>\n    <tr>\n      <th>5</th>\n      <td>2 Weeks with iPhone X</td>\n      <td>9763</td>\n      <td>511</td>\n    </tr>\n    <tr>\n      <th>6</th>\n      <td>Roy Moore &amp; Jeff Sessions Cold Open - SNL</td>\n      <td>15993</td>\n      <td>2445</td>\n    </tr>\n    <tr>\n      <th>7</th>\n      <td>5 Ice Cream Gadgets put to the Test</td>\n      <td>23663</td>\n      <td>778</td>\n    </tr>\n    <tr>\n      <th>8</th>\n      <td>The Greatest Showman | Official Trailer 2 [HD]...</td>\n      <td>3543</td>\n      <td>119</td>\n    </tr>\n    <tr>\n      <th>9</th>\n      <td>Why the rise of the robots won’t mean the end ...</td>\n      <td>12654</td>\n      <td>1363</td>\n    </tr>\n    <tr>\n      <th>10</th>\n      <td>Dion Lewis' 103-Yd Kick Return TD vs. Denver! ...</td>\n      <td>655</td>\n      <td>25</td>\n    </tr>\n    <tr>\n      <th>11</th>\n      <td>(SPOILERS) 'Shiva Saves the Day' Talked About ...</td>\n      <td>1576</td>\n      <td>303</td>\n    </tr>\n    <tr>\n      <th>12</th>\n      <td>Marshmello - Blocks (Official Music Video)</td>\n      <td>114188</td>\n      <td>1333</td>\n    </tr>\n    <tr>\n      <th>13</th>\n      <td>Which Countries Are About To Collapse?</td>\n      <td>7848</td>\n      <td>1171</td>\n    </tr>\n    <tr>\n      <th>14</th>\n      <td>SHOPPING FOR NEW FISH!!!</td>\n      <td>7473</td>\n      <td>246</td>\n    </tr>\n    <tr>\n      <th>15</th>\n      <td>The New SpotMini</td>\n      <td>9419</td>\n      <td>52</td>\n    </tr>\n    <tr>\n      <th>16</th>\n      <td>One Change That Would Make Pacific Rim a Classic</td>\n      <td>8011</td>\n      <td>638</td>\n    </tr>\n    <tr>\n      <th>17</th>\n      <td>How does your body know you're full? - Hilary ...</td>\n      <td>5398</td>\n      <td>53</td>\n    </tr>\n    <tr>\n      <th>18</th>\n      <td>HomeMade Electric Airplane</td>\n      <td>11963</td>\n      <td>36</td>\n    </tr>\n    <tr>\n      <th>19</th>\n      <td>Founding An Inbreeding-Free Space Colony</td>\n      <td>8421</td>\n      <td>191</td>\n    </tr>\n    <tr>\n      <th>20</th>\n      <td>How Can You Control Your Dreams?</td>\n      <td>9586</td>\n      <td>75</td>\n    </tr>\n    <tr>\n      <th>21</th>\n      <td>The Making of Hela's Headdress from Thor: Ragn...</td>\n      <td>3585</td>\n      <td>138</td>\n    </tr>\n    <tr>\n      <th>22</th>\n      <td>Is It Dangerous To Talk To A Camera While Driv...</td>\n      <td>11758</td>\n      <td>89</td>\n    </tr>\n    <tr>\n      <th>23</th>\n      <td>What $4,800 Will Get You In NYC | Sweet Digs H...</td>\n      <td>1707</td>\n      <td>578</td>\n    </tr>\n    <tr>\n      <th>24</th>\n      <td>Using Other People's Showers</td>\n      <td>4884</td>\n      <td>52</td>\n    </tr>\n    <tr>\n      <th>25</th>\n      <td>SPAGHETTI BURRITO VS SPAGHETTI BURRITO</td>\n      <td>8676</td>\n      <td>193</td>\n    </tr>\n    <tr>\n      <th>26</th>\n      <td>78557 and Proth Primes - Numberphile</td>\n      <td>4687</td>\n      <td>41</td>\n    </tr>\n    <tr>\n      <th>27</th>\n      <td>A Smart... MUG?! - Take apart a Heated Thermos!</td>\n      <td>9033</td>\n      <td>224</td>\n    </tr>\n    <tr>\n      <th>28</th>\n      <td>LeBron James admits he was ripping Phil Jackso...</td>\n      <td>156</td>\n      <td>36</td>\n    </tr>\n    <tr>\n      <th>29</th>\n      <td>Nick Andopolis: Drummer</td>\n      <td>715</td>\n      <td>238</td>\n    </tr>\n    <tr>\n      <th>30</th>\n      <td>I TOOK THE $3,000,000 LAMBO TO CARMAX! They of...</td>\n      <td>4035</td>\n      <td>495</td>\n    </tr>\n    <tr>\n      <th>31</th>\n      <td>Amazon Christmas Advert 2017 - Toys &amp; Games</td>\n      <td>119</td>\n      <td>69</td>\n    </tr>\n    <tr>\n      <th>32</th>\n      <td>Eminem - Walk On Water (Audio) ft. Beyoncé</td>\n      <td>787419</td>\n      <td>43420</td>\n    </tr>\n    <tr>\n      <th>33</th>\n      <td>What's Inside a Detectives Car?</td>\n      <td>3781</td>\n      <td>84</td>\n    </tr>\n    <tr>\n      <th>34</th>\n      <td>New Emirates First Class Suite | Boeing 777 | ...</td>\n      <td>1661</td>\n      <td>70</td>\n    </tr>\n    <tr>\n      <th>35</th>\n      <td>Me-O Cats Commercial</td>\n      <td>2486</td>\n      <td>184</td>\n    </tr>\n    <tr>\n      <th>36</th>\n      <td>TL;DW - Every DCEU Movie Before Justice League</td>\n      <td>7515</td>\n      <td>792</td>\n    </tr>\n    <tr>\n      <th>37</th>\n      <td>Hunter Hayes - You Should Be Loved (Part One O...</td>\n      <td>1318</td>\n      <td>24</td>\n    </tr>\n    <tr>\n      <th>38</th>\n      <td>Celebrities on Thanksgiving 2017!</td>\n      <td>38397</td>\n      <td>1387</td>\n    </tr>\n    <tr>\n      <th>39</th>\n      <td>Nickelback - The Betrayal Act III [Official Vi...</td>\n      <td>6927</td>\n      <td>161</td>\n    </tr>\n    <tr>\n      <th>40</th>\n      <td>U2 - The Blackout</td>\n      <td>5389</td>\n      <td>106</td>\n    </tr>\n    <tr>\n      <th>41</th>\n      <td>Iraq-Iran earthquake: Deadly tremor hits borde...</td>\n      <td>308</td>\n      <td>26</td>\n    </tr>\n    <tr>\n      <th>42</th>\n      <td>Dennis Smith Jr. and LeBron James go back and ...</td>\n      <td>7</td>\n      <td>5</td>\n    </tr>\n    <tr>\n      <th>43</th>\n      <td>Matthew Santoro - FACTS (Official Music Video)...</td>\n      <td>15186</td>\n      <td>15448</td>\n    </tr>\n    <tr>\n      <th>44</th>\n      <td>AFFAIRS, EX BOYFRIENDS, $18MILLION NET WORTH -...</td>\n      <td>4451</td>\n      <td>1772</td>\n    </tr>\n    <tr>\n      <th>45</th>\n      <td>iPhone X vs Makeup Transformation (Face ID TEST)</td>\n      <td>33505</td>\n      <td>1660</td>\n    </tr>\n    <tr>\n      <th>46</th>\n      <td>People are Awesome &amp; The Pet Collective presen...</td>\n      <td>3417</td>\n      <td>33</td>\n    </tr>\n    <tr>\n      <th>47</th>\n      <td>Stephon Marbury and Jimmer Fredette fight in C...</td>\n      <td>2017</td>\n      <td>2425</td>\n    </tr>\n    <tr>\n      <th>48</th>\n      <td>Heidelberg's nifty hook-and-lateral to the lef...</td>\n      <td>35</td>\n      <td>18</td>\n    </tr>\n    <tr>\n      <th>49</th>\n      <td>ELDERS REACT TO iPHONE X (Facial Recognition, ...</td>\n      <td>45406</td>\n      <td>2842</td>\n    </tr>\n  </tbody>\n</table>\n</div>"
     },
     "execution_count": 19,
     "metadata": {},
     "output_type": "execute_result"
    }
   ],
   "source": [
    "# -*-* code *-*-\n",
    "first50 = df.head(50)\n",
    "columns = [\"title\", \"likes\", \"dislikes\"]\n",
    "first50[columns]"
   ],
   "metadata": {
    "collapsed": false,
    "pycharm": {
     "name": "#%%\n"
    }
   }
  },
  {
   "cell_type": "markdown",
   "source": [
    "7-) What is the most viewed video?"
   ],
   "metadata": {
    "collapsed": false
   }
  },
  {
   "cell_type": "code",
   "execution_count": 26,
   "outputs": [
    {
     "data": {
      "text/plain": "'Childish Gambino - This Is America (Official Video)'"
     },
     "execution_count": 26,
     "metadata": {},
     "output_type": "execute_result"
    }
   ],
   "source": [
    "# -*-* code *-*-\n",
    "views = df[\"views\"]\n",
    "mask_max_view = views == views.max()\n",
    "df[mask_max_view][\"title\"].iloc[0]"
   ],
   "metadata": {
    "collapsed": false,
    "pycharm": {
     "name": "#%%\n"
    }
   }
  },
  {
   "cell_type": "markdown",
   "source": [
    "8-) What is the least viewed video?"
   ],
   "metadata": {
    "collapsed": false
   }
  },
  {
   "cell_type": "code",
   "execution_count": 27,
   "outputs": [
    {
     "data": {
      "text/plain": "'1 dead, others injured after Ky. school shooting'"
     },
     "execution_count": 27,
     "metadata": {},
     "output_type": "execute_result"
    }
   ],
   "source": [
    "# -*-* code *-*-\n",
    "views = df[\"views\"]\n",
    "mask_max_view = views == views.min()\n",
    "df[mask_max_view][\"title\"].iloc[0]"
   ],
   "metadata": {
    "collapsed": false,
    "pycharm": {
     "name": "#%%\n"
    }
   }
  },
  {
   "cell_type": "markdown",
   "source": [
    "9-) What are the top 10 viewed videos?"
   ],
   "metadata": {
    "collapsed": false
   }
  },
  {
   "cell_type": "code",
   "execution_count": 29,
   "outputs": [
    {
     "data": {
      "text/plain": "                                                   title      views\n38547  Childish Gambino - This Is America (Official V...  225211923\n38345  Childish Gambino - This Is America (Official V...  220490543\n38146  Childish Gambino - This Is America (Official V...  217750076\n37935  Childish Gambino - This Is America (Official V...  210338856\n37730  Childish Gambino - This Is America (Official V...  205643016\n37531  Childish Gambino - This Is America (Official V...  200820941\n37333  Childish Gambino - This Is America (Official V...  196222618\n37123  Childish Gambino - This Is America (Official V...  190950401\n36913  Childish Gambino - This Is America (Official V...  184446490\n36710  Childish Gambino - This Is America (Official V...  179045286",
      "text/html": "<div>\n<style scoped>\n    .dataframe tbody tr th:only-of-type {\n        vertical-align: middle;\n    }\n\n    .dataframe tbody tr th {\n        vertical-align: top;\n    }\n\n    .dataframe thead th {\n        text-align: right;\n    }\n</style>\n<table border=\"1\" class=\"dataframe\">\n  <thead>\n    <tr style=\"text-align: right;\">\n      <th></th>\n      <th>title</th>\n      <th>views</th>\n    </tr>\n  </thead>\n  <tbody>\n    <tr>\n      <th>38547</th>\n      <td>Childish Gambino - This Is America (Official V...</td>\n      <td>225211923</td>\n    </tr>\n    <tr>\n      <th>38345</th>\n      <td>Childish Gambino - This Is America (Official V...</td>\n      <td>220490543</td>\n    </tr>\n    <tr>\n      <th>38146</th>\n      <td>Childish Gambino - This Is America (Official V...</td>\n      <td>217750076</td>\n    </tr>\n    <tr>\n      <th>37935</th>\n      <td>Childish Gambino - This Is America (Official V...</td>\n      <td>210338856</td>\n    </tr>\n    <tr>\n      <th>37730</th>\n      <td>Childish Gambino - This Is America (Official V...</td>\n      <td>205643016</td>\n    </tr>\n    <tr>\n      <th>37531</th>\n      <td>Childish Gambino - This Is America (Official V...</td>\n      <td>200820941</td>\n    </tr>\n    <tr>\n      <th>37333</th>\n      <td>Childish Gambino - This Is America (Official V...</td>\n      <td>196222618</td>\n    </tr>\n    <tr>\n      <th>37123</th>\n      <td>Childish Gambino - This Is America (Official V...</td>\n      <td>190950401</td>\n    </tr>\n    <tr>\n      <th>36913</th>\n      <td>Childish Gambino - This Is America (Official V...</td>\n      <td>184446490</td>\n    </tr>\n    <tr>\n      <th>36710</th>\n      <td>Childish Gambino - This Is America (Official V...</td>\n      <td>179045286</td>\n    </tr>\n  </tbody>\n</table>\n</div>"
     },
     "execution_count": 29,
     "metadata": {},
     "output_type": "execute_result"
    }
   ],
   "source": [
    "# -*-* code *-*-\n",
    "max_to_min = df.sort_values(\"views\", ascending=False)\n",
    "columns = [\"title\", \"views\"]\n",
    "max_to_min[columns].head(10)"
   ],
   "metadata": {
    "collapsed": false,
    "pycharm": {
     "name": "#%%\n"
    }
   }
  },
  {
   "cell_type": "markdown",
   "source": [
    "10-) Get average likes by the categorical"
   ],
   "metadata": {
    "collapsed": false
   }
  },
  {
   "cell_type": "code",
   "execution_count": 33,
   "outputs": [
    {
     "data": {
      "text/plain": "category_id\n25      7298.364696\n2      11056.395833\n19     12030.462687\n43     18993.666667\n15     21055.110870\n27     29745.031401\n28     34374.276551\n26     39286.076942\n17     45363.942502\n24     53243.325070\n22     58135.825234\n23     62582.223315\n1      70787.836247\n20     84502.183599\n10    218918.199011\n29    259923.614035\nName: likes, dtype: float64"
     },
     "execution_count": 33,
     "metadata": {},
     "output_type": "execute_result"
    }
   ],
   "source": [
    "# -*-* code *-*-\n",
    "category_id = df.groupby(\"category_id\")\n",
    "categorical = category_id.mean()\n",
    "likes = categorical.sort_values(\"likes\")[\"likes\"]\n",
    "likes"
   ],
   "metadata": {
    "collapsed": false,
    "pycharm": {
     "name": "#%%\n"
    }
   }
  },
  {
   "cell_type": "markdown",
   "source": [
    "11-) Get all comments by the categorical"
   ],
   "metadata": {
    "collapsed": false
   }
  },
  {
   "cell_type": "code",
   "execution_count": 35,
   "outputs": [
    {
     "data": {
      "text/plain": "category_id\n10    125296396\n24     73566498\n22     24778032\n26     23149550\n23     22545582\n1      17887060\n20     14740713\n28     11989926\n17     11192155\n25      6039433\n27      5442242\n29      4808797\n15      2660705\n19       911511\n2        784447\n43        95117\nName: comment_count, dtype: int64"
     },
     "execution_count": 35,
     "metadata": {},
     "output_type": "execute_result"
    }
   ],
   "source": [
    "# -*-* code *-*-\n",
    "category_id = df.groupby(\"category_id\")\n",
    "categorical = category_id.sum()\n",
    "comment_count = categorical.sort_values(\"comment_count\", ascending=False)[\"comment_count\"]\n",
    "comment_count"
   ],
   "metadata": {
    "collapsed": false,
    "pycharm": {
     "name": "#%%\n"
    }
   }
  },
  {
   "cell_type": "markdown",
   "source": [
    "12-) How many videos for each category?"
   ],
   "metadata": {
    "collapsed": false
   }
  },
  {
   "cell_type": "code",
   "execution_count": 36,
   "outputs": [
    {
     "data": {
      "text/plain": "24    9964\n10    6472\n26    4146\n23    3457\n22    3210\n25    2487\n28    2401\n1     2345\n17    2174\n27    1656\n15     920\n20     817\n19     402\n2      384\n29      57\n43      57\nName: category_id, dtype: int64"
     },
     "execution_count": 36,
     "metadata": {},
     "output_type": "execute_result"
    }
   ],
   "source": [
    "# -*-* code *-*-\n",
    "df[\"category_id\"].value_counts()"
   ],
   "metadata": {
    "collapsed": false,
    "pycharm": {
     "name": "#%%\n"
    }
   }
  },
  {
   "cell_type": "markdown",
   "source": [
    "13-) Create a new column to show title lenghts"
   ],
   "metadata": {
    "collapsed": false
   }
  },
  {
   "cell_type": "code",
   "execution_count": 41,
   "outputs": [
    {
     "data": {
      "text/plain": "0        34\n1        62\n2        53\n3        32\n4        24\n         ..\n40944    28\n40945    26\n40946    84\n40947    35\n40948    64\nName: title_len, Length: 40949, dtype: int64"
     },
     "execution_count": 41,
     "metadata": {},
     "output_type": "execute_result"
    }
   ],
   "source": [
    "# -*-* code *-*-\n",
    "df[\"title_len\"] = df[\"title\"].apply(len)\n",
    "df[\"title_len\"]"
   ],
   "metadata": {
    "collapsed": false,
    "pycharm": {
     "name": "#%%\n"
    }
   }
  },
  {
   "cell_type": "markdown",
   "source": [
    "14-) Show number of tags for each video at a new column"
   ],
   "metadata": {
    "collapsed": false
   }
  },
  {
   "cell_type": "code",
   "execution_count": 43,
   "outputs": [
    {
     "data": {
      "text/plain": "          video_id trending_date  \\\n0      2kyS6SvSYSE      17.14.11   \n1      1ZAPwfrtAFY      17.14.11   \n2      5qpjK5DgCt4      17.14.11   \n3      puqaWrEC7tY      17.14.11   \n4      d380meD0W0M      17.14.11   \n...            ...           ...   \n40944  BZt0qjTWNhw      18.14.06   \n40945  1h7KV2sjUWY      18.14.06   \n40946  D6Oy4LfoqsU      18.14.06   \n40947  oV0zkMe1K8s      18.14.06   \n40948  ooyjaVdt-jA      18.14.06   \n\n                                                   title  \\\n0                     WE WANT TO TALK ABOUT OUR MARRIAGE   \n1      The Trump Presidency: Last Week Tonight with J...   \n2      Racist Superman | Rudy Mancuso, King Bach & Le...   \n3                       Nickelback Lyrics: Real or Fake?   \n4                               I Dare You: GOING BALD!?   \n...                                                  ...   \n40944                       The Cat Who Caught the Laser   \n40945                         True Facts : Ant Mutualism   \n40946  I GAVE SAFIYA NYGAARD A PERFECT HAIR MAKEOVER ...   \n40947                How Black Panther Should Have Ended   \n40948  Official Call of Duty®: Black Ops 4 — Multipla...   \n\n                  channel_title  category_id              publish_time  \\\n0                  CaseyNeistat           22  2017-11-13T17:13:01.000Z   \n1               LastWeekTonight           24  2017-11-13T07:30:00.000Z   \n2                  Rudy Mancuso           23  2017-11-12T19:05:24.000Z   \n3         Good Mythical Morning           24  2017-11-13T11:00:04.000Z   \n4                      nigahiga           24  2017-11-12T18:01:41.000Z   \n...                         ...          ...                       ...   \n40944             AaronsAnimals           15  2018-05-18T13:00:04.000Z   \n40945                  zefrank1           22  2018-05-18T01:00:06.000Z   \n40946                Brad Mondo           24  2018-05-18T17:34:22.000Z   \n40947  How It Should Have Ended            1  2018-05-17T17:00:04.000Z   \n40948              Call of Duty           20  2018-05-17T17:09:38.000Z   \n\n                                                    tags     views   likes  \\\n0                                        SHANtell martin    748374   57527   \n1      last week tonight trump presidency|\"last week ...   2418783   97185   \n2      racist superman|\"rudy\"|\"mancuso\"|\"king\"|\"bach\"...   3191434  146033   \n3      rhett and link|\"gmm\"|\"good mythical morning\"|\"...    343168   10172   \n4      ryan|\"higa\"|\"higatv\"|\"nigahiga\"|\"i dare you\"|\"...   2095731  132235   \n...                                                  ...       ...     ...   \n40944  aarons animals|\"aarons\"|\"animals\"|\"cat\"|\"cats\"...   1685609   38160   \n40945                                             [none]   1064798   60008   \n40946  I gave safiya nygaard a perfect hair makeover ...   1066451   48068   \n40947  Black Panther|\"HISHE\"|\"Marvel\"|\"Infinity War\"|...   5660813  192957   \n40948      call of duty|\"cod\"|\"activision\"|\"Black Ops 4\"  10306119  357079   \n\n       dislikes  comment_count  ratings_disabled  video_error_or_removed  \\\n0          2966          15954             False                   False   \n1          6146          12703             False                   False   \n2          5339           8181             False                   False   \n3           666           2146             False                   False   \n4          1989          17518             False                   False   \n...         ...            ...               ...                     ...   \n40944      1385           2657             False                   False   \n40945       382           3936             False                   False   \n40946      1032           3992             False                   False   \n40947      2846          13088             False                   False   \n40948    212976         144795             False                   False   \n\n                                             description  title_len  tag_count  \n0      SHANTELL'S CHANNEL - https://www.youtube.com/s...         34          1  \n1      One year after the presidential election, John...         62          4  \n2      WATCH MY PREVIOUS VIDEO ▶ \\n\\nSUBSCRIBE ► http...         53         23  \n3      Today we find out if Link is a Nickelback amat...         32         27  \n4      I know it's been a while since we did this sho...         24         14  \n...                                                  ...        ...        ...  \n40944     The Cat Who Caught the Laser - Aaron's Animals         28         14  \n40945                                                NaN         26          1  \n40946  I had so much fun transforming Safiyas hair in...         84         24  \n40947  How Black Panther Should Have EndedWatch More ...         35         22  \n40948  Call of Duty: Black Ops 4 Multiplayer raises t...         64          4  \n\n[40949 rows x 16 columns]",
      "text/html": "<div>\n<style scoped>\n    .dataframe tbody tr th:only-of-type {\n        vertical-align: middle;\n    }\n\n    .dataframe tbody tr th {\n        vertical-align: top;\n    }\n\n    .dataframe thead th {\n        text-align: right;\n    }\n</style>\n<table border=\"1\" class=\"dataframe\">\n  <thead>\n    <tr style=\"text-align: right;\">\n      <th></th>\n      <th>video_id</th>\n      <th>trending_date</th>\n      <th>title</th>\n      <th>channel_title</th>\n      <th>category_id</th>\n      <th>publish_time</th>\n      <th>tags</th>\n      <th>views</th>\n      <th>likes</th>\n      <th>dislikes</th>\n      <th>comment_count</th>\n      <th>ratings_disabled</th>\n      <th>video_error_or_removed</th>\n      <th>description</th>\n      <th>title_len</th>\n      <th>tag_count</th>\n    </tr>\n  </thead>\n  <tbody>\n    <tr>\n      <th>0</th>\n      <td>2kyS6SvSYSE</td>\n      <td>17.14.11</td>\n      <td>WE WANT TO TALK ABOUT OUR MARRIAGE</td>\n      <td>CaseyNeistat</td>\n      <td>22</td>\n      <td>2017-11-13T17:13:01.000Z</td>\n      <td>SHANtell martin</td>\n      <td>748374</td>\n      <td>57527</td>\n      <td>2966</td>\n      <td>15954</td>\n      <td>False</td>\n      <td>False</td>\n      <td>SHANTELL'S CHANNEL - https://www.youtube.com/s...</td>\n      <td>34</td>\n      <td>1</td>\n    </tr>\n    <tr>\n      <th>1</th>\n      <td>1ZAPwfrtAFY</td>\n      <td>17.14.11</td>\n      <td>The Trump Presidency: Last Week Tonight with J...</td>\n      <td>LastWeekTonight</td>\n      <td>24</td>\n      <td>2017-11-13T07:30:00.000Z</td>\n      <td>last week tonight trump presidency|\"last week ...</td>\n      <td>2418783</td>\n      <td>97185</td>\n      <td>6146</td>\n      <td>12703</td>\n      <td>False</td>\n      <td>False</td>\n      <td>One year after the presidential election, John...</td>\n      <td>62</td>\n      <td>4</td>\n    </tr>\n    <tr>\n      <th>2</th>\n      <td>5qpjK5DgCt4</td>\n      <td>17.14.11</td>\n      <td>Racist Superman | Rudy Mancuso, King Bach &amp; Le...</td>\n      <td>Rudy Mancuso</td>\n      <td>23</td>\n      <td>2017-11-12T19:05:24.000Z</td>\n      <td>racist superman|\"rudy\"|\"mancuso\"|\"king\"|\"bach\"...</td>\n      <td>3191434</td>\n      <td>146033</td>\n      <td>5339</td>\n      <td>8181</td>\n      <td>False</td>\n      <td>False</td>\n      <td>WATCH MY PREVIOUS VIDEO ▶ \\n\\nSUBSCRIBE ► http...</td>\n      <td>53</td>\n      <td>23</td>\n    </tr>\n    <tr>\n      <th>3</th>\n      <td>puqaWrEC7tY</td>\n      <td>17.14.11</td>\n      <td>Nickelback Lyrics: Real or Fake?</td>\n      <td>Good Mythical Morning</td>\n      <td>24</td>\n      <td>2017-11-13T11:00:04.000Z</td>\n      <td>rhett and link|\"gmm\"|\"good mythical morning\"|\"...</td>\n      <td>343168</td>\n      <td>10172</td>\n      <td>666</td>\n      <td>2146</td>\n      <td>False</td>\n      <td>False</td>\n      <td>Today we find out if Link is a Nickelback amat...</td>\n      <td>32</td>\n      <td>27</td>\n    </tr>\n    <tr>\n      <th>4</th>\n      <td>d380meD0W0M</td>\n      <td>17.14.11</td>\n      <td>I Dare You: GOING BALD!?</td>\n      <td>nigahiga</td>\n      <td>24</td>\n      <td>2017-11-12T18:01:41.000Z</td>\n      <td>ryan|\"higa\"|\"higatv\"|\"nigahiga\"|\"i dare you\"|\"...</td>\n      <td>2095731</td>\n      <td>132235</td>\n      <td>1989</td>\n      <td>17518</td>\n      <td>False</td>\n      <td>False</td>\n      <td>I know it's been a while since we did this sho...</td>\n      <td>24</td>\n      <td>14</td>\n    </tr>\n    <tr>\n      <th>...</th>\n      <td>...</td>\n      <td>...</td>\n      <td>...</td>\n      <td>...</td>\n      <td>...</td>\n      <td>...</td>\n      <td>...</td>\n      <td>...</td>\n      <td>...</td>\n      <td>...</td>\n      <td>...</td>\n      <td>...</td>\n      <td>...</td>\n      <td>...</td>\n      <td>...</td>\n      <td>...</td>\n    </tr>\n    <tr>\n      <th>40944</th>\n      <td>BZt0qjTWNhw</td>\n      <td>18.14.06</td>\n      <td>The Cat Who Caught the Laser</td>\n      <td>AaronsAnimals</td>\n      <td>15</td>\n      <td>2018-05-18T13:00:04.000Z</td>\n      <td>aarons animals|\"aarons\"|\"animals\"|\"cat\"|\"cats\"...</td>\n      <td>1685609</td>\n      <td>38160</td>\n      <td>1385</td>\n      <td>2657</td>\n      <td>False</td>\n      <td>False</td>\n      <td>The Cat Who Caught the Laser - Aaron's Animals</td>\n      <td>28</td>\n      <td>14</td>\n    </tr>\n    <tr>\n      <th>40945</th>\n      <td>1h7KV2sjUWY</td>\n      <td>18.14.06</td>\n      <td>True Facts : Ant Mutualism</td>\n      <td>zefrank1</td>\n      <td>22</td>\n      <td>2018-05-18T01:00:06.000Z</td>\n      <td>[none]</td>\n      <td>1064798</td>\n      <td>60008</td>\n      <td>382</td>\n      <td>3936</td>\n      <td>False</td>\n      <td>False</td>\n      <td>NaN</td>\n      <td>26</td>\n      <td>1</td>\n    </tr>\n    <tr>\n      <th>40946</th>\n      <td>D6Oy4LfoqsU</td>\n      <td>18.14.06</td>\n      <td>I GAVE SAFIYA NYGAARD A PERFECT HAIR MAKEOVER ...</td>\n      <td>Brad Mondo</td>\n      <td>24</td>\n      <td>2018-05-18T17:34:22.000Z</td>\n      <td>I gave safiya nygaard a perfect hair makeover ...</td>\n      <td>1066451</td>\n      <td>48068</td>\n      <td>1032</td>\n      <td>3992</td>\n      <td>False</td>\n      <td>False</td>\n      <td>I had so much fun transforming Safiyas hair in...</td>\n      <td>84</td>\n      <td>24</td>\n    </tr>\n    <tr>\n      <th>40947</th>\n      <td>oV0zkMe1K8s</td>\n      <td>18.14.06</td>\n      <td>How Black Panther Should Have Ended</td>\n      <td>How It Should Have Ended</td>\n      <td>1</td>\n      <td>2018-05-17T17:00:04.000Z</td>\n      <td>Black Panther|\"HISHE\"|\"Marvel\"|\"Infinity War\"|...</td>\n      <td>5660813</td>\n      <td>192957</td>\n      <td>2846</td>\n      <td>13088</td>\n      <td>False</td>\n      <td>False</td>\n      <td>How Black Panther Should Have EndedWatch More ...</td>\n      <td>35</td>\n      <td>22</td>\n    </tr>\n    <tr>\n      <th>40948</th>\n      <td>ooyjaVdt-jA</td>\n      <td>18.14.06</td>\n      <td>Official Call of Duty®: Black Ops 4 — Multipla...</td>\n      <td>Call of Duty</td>\n      <td>20</td>\n      <td>2018-05-17T17:09:38.000Z</td>\n      <td>call of duty|\"cod\"|\"activision\"|\"Black Ops 4\"</td>\n      <td>10306119</td>\n      <td>357079</td>\n      <td>212976</td>\n      <td>144795</td>\n      <td>False</td>\n      <td>False</td>\n      <td>Call of Duty: Black Ops 4 Multiplayer raises t...</td>\n      <td>64</td>\n      <td>4</td>\n    </tr>\n  </tbody>\n</table>\n<p>40949 rows × 16 columns</p>\n</div>"
     },
     "execution_count": 43,
     "metadata": {},
     "output_type": "execute_result"
    }
   ],
   "source": [
    "# -*-* code *-*-\n",
    "method = lambda x: len(x.split('|'))\n",
    "df[\"tag_count\"] = df[\"tags\"].apply(method)\n",
    "df"
   ],
   "metadata": {
    "collapsed": false,
    "pycharm": {
     "name": "#%%\n"
    }
   }
  },
  {
   "cell_type": "markdown",
   "source": [
    "15-) List the most populer videos with using like and dislike columns"
   ],
   "metadata": {
    "collapsed": false
   }
  },
  {
   "cell_type": "code",
   "execution_count": 52,
   "outputs": [
    {
     "name": "stderr",
     "output_type": "stream",
     "text": [
      "C:\\Users\\selcu\\Anaconda3\\lib\\site-packages\\ipykernel_launcher.py:13: RuntimeWarning: divide by zero encountered in log\n",
      "  del sys.path[0]\n"
     ]
    },
    {
     "data": {
      "text/plain": "          video_id trending_date  \\\n0      2kyS6SvSYSE      17.14.11   \n1      1ZAPwfrtAFY      17.14.11   \n2      5qpjK5DgCt4      17.14.11   \n3      puqaWrEC7tY      17.14.11   \n4      d380meD0W0M      17.14.11   \n...            ...           ...   \n40944  BZt0qjTWNhw      18.14.06   \n40945  1h7KV2sjUWY      18.14.06   \n40946  D6Oy4LfoqsU      18.14.06   \n40947  oV0zkMe1K8s      18.14.06   \n40948  ooyjaVdt-jA      18.14.06   \n\n                                                   title  \\\n0                     WE WANT TO TALK ABOUT OUR MARRIAGE   \n1      The Trump Presidency: Last Week Tonight with J...   \n2      Racist Superman | Rudy Mancuso, King Bach & Le...   \n3                       Nickelback Lyrics: Real or Fake?   \n4                               I Dare You: GOING BALD!?   \n...                                                  ...   \n40944                       The Cat Who Caught the Laser   \n40945                         True Facts : Ant Mutualism   \n40946  I GAVE SAFIYA NYGAARD A PERFECT HAIR MAKEOVER ...   \n40947                How Black Panther Should Have Ended   \n40948  Official Call of Duty®: Black Ops 4 — Multipla...   \n\n                  channel_title  category_id              publish_time  \\\n0                  CaseyNeistat           22  2017-11-13T17:13:01.000Z   \n1               LastWeekTonight           24  2017-11-13T07:30:00.000Z   \n2                  Rudy Mancuso           23  2017-11-12T19:05:24.000Z   \n3         Good Mythical Morning           24  2017-11-13T11:00:04.000Z   \n4                      nigahiga           24  2017-11-12T18:01:41.000Z   \n...                         ...          ...                       ...   \n40944             AaronsAnimals           15  2018-05-18T13:00:04.000Z   \n40945                  zefrank1           22  2018-05-18T01:00:06.000Z   \n40946                Brad Mondo           24  2018-05-18T17:34:22.000Z   \n40947  How It Should Have Ended            1  2018-05-17T17:00:04.000Z   \n40948              Call of Duty           20  2018-05-17T17:09:38.000Z   \n\n                                                    tags     views   likes  \\\n0                                        SHANtell martin    748374   57527   \n1      last week tonight trump presidency|\"last week ...   2418783   97185   \n2      racist superman|\"rudy\"|\"mancuso\"|\"king\"|\"bach\"...   3191434  146033   \n3      rhett and link|\"gmm\"|\"good mythical morning\"|\"...    343168   10172   \n4      ryan|\"higa\"|\"higatv\"|\"nigahiga\"|\"i dare you\"|\"...   2095731  132235   \n...                                                  ...       ...     ...   \n40944  aarons animals|\"aarons\"|\"animals\"|\"cat\"|\"cats\"...   1685609   38160   \n40945                                             [none]   1064798   60008   \n40946  I gave safiya nygaard a perfect hair makeover ...   1066451   48068   \n40947  Black Panther|\"HISHE\"|\"Marvel\"|\"Infinity War\"|...   5660813  192957   \n40948      call of duty|\"cod\"|\"activision\"|\"Black Ops 4\"  10306119  357079   \n\n       dislikes  comment_count  ratings_disabled  video_error_or_removed  \\\n0          2966          15954             False                   False   \n1          6146          12703             False                   False   \n2          5339           8181             False                   False   \n3           666           2146             False                   False   \n4          1989          17518             False                   False   \n...         ...            ...               ...                     ...   \n40944      1385           2657             False                   False   \n40945       382           3936             False                   False   \n40946      1032           3992             False                   False   \n40947      2846          13088             False                   False   \n40948    212976         144795             False                   False   \n\n                                             description  title_len  \\\n0      SHANTELL'S CHANNEL - https://www.youtube.com/s...         34   \n1      One year after the presidential election, John...         62   \n2      WATCH MY PREVIOUS VIDEO ▶ \\n\\nSUBSCRIBE ► http...         53   \n3      Today we find out if Link is a Nickelback amat...         32   \n4      I know it's been a while since we did this sho...         24   \n...                                                  ...        ...   \n40944     The Cat Who Caught the Laser - Aaron's Animals         28   \n40945                                                NaN         26   \n40946  I had so much fun transforming Safiyas hair in...         84   \n40947  How Black Panther Should Have EndedWatch More ...         35   \n40948  Call of Duty: Black Ops 4 Multiplayer raises t...         64   \n\n       tag_count  like_rate  \n0              1   0.950970  \n1              4   0.940521  \n2             23   0.964729  \n3             27   0.938550  \n4             14   0.985181  \n...          ...        ...  \n40944         14   0.964977  \n40945          1   0.993674  \n40946         24   0.978982  \n40947         22   0.985465  \n40948          4   0.626394  \n\n[40949 rows x 17 columns]",
      "text/html": "<div>\n<style scoped>\n    .dataframe tbody tr th:only-of-type {\n        vertical-align: middle;\n    }\n\n    .dataframe tbody tr th {\n        vertical-align: top;\n    }\n\n    .dataframe thead th {\n        text-align: right;\n    }\n</style>\n<table border=\"1\" class=\"dataframe\">\n  <thead>\n    <tr style=\"text-align: right;\">\n      <th></th>\n      <th>video_id</th>\n      <th>trending_date</th>\n      <th>title</th>\n      <th>channel_title</th>\n      <th>category_id</th>\n      <th>publish_time</th>\n      <th>tags</th>\n      <th>views</th>\n      <th>likes</th>\n      <th>dislikes</th>\n      <th>comment_count</th>\n      <th>ratings_disabled</th>\n      <th>video_error_or_removed</th>\n      <th>description</th>\n      <th>title_len</th>\n      <th>tag_count</th>\n      <th>like_rate</th>\n    </tr>\n  </thead>\n  <tbody>\n    <tr>\n      <th>0</th>\n      <td>2kyS6SvSYSE</td>\n      <td>17.14.11</td>\n      <td>WE WANT TO TALK ABOUT OUR MARRIAGE</td>\n      <td>CaseyNeistat</td>\n      <td>22</td>\n      <td>2017-11-13T17:13:01.000Z</td>\n      <td>SHANtell martin</td>\n      <td>748374</td>\n      <td>57527</td>\n      <td>2966</td>\n      <td>15954</td>\n      <td>False</td>\n      <td>False</td>\n      <td>SHANTELL'S CHANNEL - https://www.youtube.com/s...</td>\n      <td>34</td>\n      <td>1</td>\n      <td>0.950970</td>\n    </tr>\n    <tr>\n      <th>1</th>\n      <td>1ZAPwfrtAFY</td>\n      <td>17.14.11</td>\n      <td>The Trump Presidency: Last Week Tonight with J...</td>\n      <td>LastWeekTonight</td>\n      <td>24</td>\n      <td>2017-11-13T07:30:00.000Z</td>\n      <td>last week tonight trump presidency|\"last week ...</td>\n      <td>2418783</td>\n      <td>97185</td>\n      <td>6146</td>\n      <td>12703</td>\n      <td>False</td>\n      <td>False</td>\n      <td>One year after the presidential election, John...</td>\n      <td>62</td>\n      <td>4</td>\n      <td>0.940521</td>\n    </tr>\n    <tr>\n      <th>2</th>\n      <td>5qpjK5DgCt4</td>\n      <td>17.14.11</td>\n      <td>Racist Superman | Rudy Mancuso, King Bach &amp; Le...</td>\n      <td>Rudy Mancuso</td>\n      <td>23</td>\n      <td>2017-11-12T19:05:24.000Z</td>\n      <td>racist superman|\"rudy\"|\"mancuso\"|\"king\"|\"bach\"...</td>\n      <td>3191434</td>\n      <td>146033</td>\n      <td>5339</td>\n      <td>8181</td>\n      <td>False</td>\n      <td>False</td>\n      <td>WATCH MY PREVIOUS VIDEO ▶ \\n\\nSUBSCRIBE ► http...</td>\n      <td>53</td>\n      <td>23</td>\n      <td>0.964729</td>\n    </tr>\n    <tr>\n      <th>3</th>\n      <td>puqaWrEC7tY</td>\n      <td>17.14.11</td>\n      <td>Nickelback Lyrics: Real or Fake?</td>\n      <td>Good Mythical Morning</td>\n      <td>24</td>\n      <td>2017-11-13T11:00:04.000Z</td>\n      <td>rhett and link|\"gmm\"|\"good mythical morning\"|\"...</td>\n      <td>343168</td>\n      <td>10172</td>\n      <td>666</td>\n      <td>2146</td>\n      <td>False</td>\n      <td>False</td>\n      <td>Today we find out if Link is a Nickelback amat...</td>\n      <td>32</td>\n      <td>27</td>\n      <td>0.938550</td>\n    </tr>\n    <tr>\n      <th>4</th>\n      <td>d380meD0W0M</td>\n      <td>17.14.11</td>\n      <td>I Dare You: GOING BALD!?</td>\n      <td>nigahiga</td>\n      <td>24</td>\n      <td>2017-11-12T18:01:41.000Z</td>\n      <td>ryan|\"higa\"|\"higatv\"|\"nigahiga\"|\"i dare you\"|\"...</td>\n      <td>2095731</td>\n      <td>132235</td>\n      <td>1989</td>\n      <td>17518</td>\n      <td>False</td>\n      <td>False</td>\n      <td>I know it's been a while since we did this sho...</td>\n      <td>24</td>\n      <td>14</td>\n      <td>0.985181</td>\n    </tr>\n    <tr>\n      <th>...</th>\n      <td>...</td>\n      <td>...</td>\n      <td>...</td>\n      <td>...</td>\n      <td>...</td>\n      <td>...</td>\n      <td>...</td>\n      <td>...</td>\n      <td>...</td>\n      <td>...</td>\n      <td>...</td>\n      <td>...</td>\n      <td>...</td>\n      <td>...</td>\n      <td>...</td>\n      <td>...</td>\n      <td>...</td>\n    </tr>\n    <tr>\n      <th>40944</th>\n      <td>BZt0qjTWNhw</td>\n      <td>18.14.06</td>\n      <td>The Cat Who Caught the Laser</td>\n      <td>AaronsAnimals</td>\n      <td>15</td>\n      <td>2018-05-18T13:00:04.000Z</td>\n      <td>aarons animals|\"aarons\"|\"animals\"|\"cat\"|\"cats\"...</td>\n      <td>1685609</td>\n      <td>38160</td>\n      <td>1385</td>\n      <td>2657</td>\n      <td>False</td>\n      <td>False</td>\n      <td>The Cat Who Caught the Laser - Aaron's Animals</td>\n      <td>28</td>\n      <td>14</td>\n      <td>0.964977</td>\n    </tr>\n    <tr>\n      <th>40945</th>\n      <td>1h7KV2sjUWY</td>\n      <td>18.14.06</td>\n      <td>True Facts : Ant Mutualism</td>\n      <td>zefrank1</td>\n      <td>22</td>\n      <td>2018-05-18T01:00:06.000Z</td>\n      <td>[none]</td>\n      <td>1064798</td>\n      <td>60008</td>\n      <td>382</td>\n      <td>3936</td>\n      <td>False</td>\n      <td>False</td>\n      <td>NaN</td>\n      <td>26</td>\n      <td>1</td>\n      <td>0.993674</td>\n    </tr>\n    <tr>\n      <th>40946</th>\n      <td>D6Oy4LfoqsU</td>\n      <td>18.14.06</td>\n      <td>I GAVE SAFIYA NYGAARD A PERFECT HAIR MAKEOVER ...</td>\n      <td>Brad Mondo</td>\n      <td>24</td>\n      <td>2018-05-18T17:34:22.000Z</td>\n      <td>I gave safiya nygaard a perfect hair makeover ...</td>\n      <td>1066451</td>\n      <td>48068</td>\n      <td>1032</td>\n      <td>3992</td>\n      <td>False</td>\n      <td>False</td>\n      <td>I had so much fun transforming Safiyas hair in...</td>\n      <td>84</td>\n      <td>24</td>\n      <td>0.978982</td>\n    </tr>\n    <tr>\n      <th>40947</th>\n      <td>oV0zkMe1K8s</td>\n      <td>18.14.06</td>\n      <td>How Black Panther Should Have Ended</td>\n      <td>How It Should Have Ended</td>\n      <td>1</td>\n      <td>2018-05-17T17:00:04.000Z</td>\n      <td>Black Panther|\"HISHE\"|\"Marvel\"|\"Infinity War\"|...</td>\n      <td>5660813</td>\n      <td>192957</td>\n      <td>2846</td>\n      <td>13088</td>\n      <td>False</td>\n      <td>False</td>\n      <td>How Black Panther Should Have EndedWatch More ...</td>\n      <td>35</td>\n      <td>22</td>\n      <td>0.985465</td>\n    </tr>\n    <tr>\n      <th>40948</th>\n      <td>ooyjaVdt-jA</td>\n      <td>18.14.06</td>\n      <td>Official Call of Duty®: Black Ops 4 — Multipla...</td>\n      <td>Call of Duty</td>\n      <td>20</td>\n      <td>2018-05-17T17:09:38.000Z</td>\n      <td>call of duty|\"cod\"|\"activision\"|\"Black Ops 4\"</td>\n      <td>10306119</td>\n      <td>357079</td>\n      <td>212976</td>\n      <td>144795</td>\n      <td>False</td>\n      <td>False</td>\n      <td>Call of Duty: Black Ops 4 Multiplayer raises t...</td>\n      <td>64</td>\n      <td>4</td>\n      <td>0.626394</td>\n    </tr>\n  </tbody>\n</table>\n<p>40949 rows × 17 columns</p>\n</div>"
     },
     "execution_count": 52,
     "metadata": {},
     "output_type": "execute_result"
    }
   ],
   "source": [
    "# -*-* code *-*-\n",
    "def my_rate_formula(dataset):\n",
    "    likeList = list(dataset[\"likes\"])\n",
    "    dislikeList = list(dataset[\"dislikes\"])\n",
    "\n",
    "    rate_list = []\n",
    "    for like, dislike in zip(likeList, dislikeList):\n",
    "        temp_sum = like + dislike\n",
    "        if temp_sum == 0:\n",
    "            rate_list.append(0)\n",
    "        else:\n",
    "            # division goes to zero.\n",
    "            # rate = like/temp_sum  # same as below but more stable numerically.\n",
    "            formulate = np.log(like) - np.log(temp_sum)\n",
    "            formulate = np.exp(formulate)\n",
    "            rate_list.append(formulate)\n",
    "    return rate_list\n",
    "\n",
    "\n",
    "df[\"like_rate\"] = my_rate_formula(df)\n",
    "df"
   ],
   "metadata": {
    "collapsed": false,
    "pycharm": {
     "name": "#%%\n"
    }
   }
  }
 ],
 "metadata": {
  "kernelspec": {
   "display_name": "Python 3",
   "language": "python",
   "name": "python3"
  },
  "language_info": {
   "codemirror_mode": {
    "name": "ipython",
    "version": 2
   },
   "file_extension": ".py",
   "mimetype": "text/x-python",
   "name": "python",
   "nbconvert_exporter": "python",
   "pygments_lexer": "ipython2",
   "version": "2.7.6"
  }
 },
 "nbformat": 4,
 "nbformat_minor": 0
}