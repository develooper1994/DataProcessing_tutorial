{
 "cells": [
  {
   "cell_type": "markdown",
   "source": [
    "# NBA Player dataset\n",
    "data: https://www.kaggle.com/justinas/nba-players-data"
   ],
   "metadata": {
    "collapsed": false,
    "pycharm": {
     "name": "#%% md\n"
    }
   }
  },
  {
   "cell_type": "code",
   "execution_count": 2,
   "outputs": [
    {
     "data": {
      "text/plain": "       Unnamed: 0         player_name team_abbreviation   age  player_height  \\\n0               0       Dennis Rodman               CHI  36.0         198.12   \n1               1   Dwayne Schintzius               LAC  28.0         215.90   \n2               2        Earl Cureton               TOR  39.0         205.74   \n3               3         Ed O'Bannon               DAL  24.0         203.20   \n4               4         Ed Pinckney               MIA  34.0         205.74   \n...           ...                 ...               ...   ...            ...   \n11140       11140         Maxi Kleber               DAL  28.0         208.28   \n11141       11141  Melvin Frazier Jr.               ORL  23.0         195.58   \n11142       11142      Meyers Leonard               MIA  28.0         213.36   \n11143       11143        Norvel Pelle               PHI  27.0         208.28   \n11144       11144         Matt Thomas               TOR  25.0         193.04   \n\n       player_weight                      college  country draft_year  \\\n0          99.790240  Southeastern Oklahoma State      USA       1986   \n1         117.933920                      Florida      USA       1990   \n2          95.254320                Detroit Mercy      USA       1979   \n3         100.697424                         UCLA      USA       1995   \n4         108.862080                    Villanova      USA       1985   \n...              ...                          ...      ...        ...   \n11140     108.862080                         None  Germany  Undrafted   \n11141      97.522280                       Tulane      USA       2018   \n11142     117.933920                     Illinois      USA       2012   \n11143     104.779752                         None      USA  Undrafted   \n11144      86.182480                   Iowa State      USA  Undrafted   \n\n      draft_round  ...  pts   reb  ast  net_rating  oreb_pct  dreb_pct  \\\n0               2  ...  5.7  16.1  3.1        16.1     0.186     0.323   \n1               1  ...  2.3   1.5  0.3        12.3     0.078     0.151   \n2               3  ...  0.8   1.0  0.4        -2.1     0.105     0.102   \n3               1  ...  3.7   2.3  0.6        -8.7     0.060     0.149   \n4               1  ...  2.4   2.4  0.2       -11.2     0.109     0.179   \n...           ...  ...  ...   ...  ...         ...       ...       ...   \n11140   Undrafted  ...  9.1   5.4  1.1         4.6     0.056     0.140   \n11141           2  ...  1.2   0.3  0.1        -2.4     0.018     0.058   \n11142           1  ...  6.1   5.1  1.1         5.6     0.029     0.217   \n11143   Undrafted  ...  2.1   3.0  0.4       -16.4     0.085     0.237   \n11144   Undrafted  ...  4.5   1.4  0.5         1.0     0.017     0.104   \n\n       usg_pct  ts_pct  ast_pct   season  \n0        0.100   0.479    0.113  1996-97  \n1        0.175   0.430    0.048  1996-97  \n2        0.103   0.376    0.148  1996-97  \n3        0.167   0.399    0.077  1996-97  \n4        0.127   0.611    0.040  1996-97  \n...        ...     ...      ...      ...  \n11140    0.136   0.605    0.064  2019-20  \n11141    0.164   0.480    0.033  2019-20  \n11142    0.120   0.640    0.076  2019-20  \n11143    0.126   0.521    0.056  2019-20  \n11144    0.149   0.663    0.089  2019-20  \n\n[11145 rows x 22 columns]",
      "text/html": "<div>\n<style scoped>\n    .dataframe tbody tr th:only-of-type {\n        vertical-align: middle;\n    }\n\n    .dataframe tbody tr th {\n        vertical-align: top;\n    }\n\n    .dataframe thead th {\n        text-align: right;\n    }\n</style>\n<table border=\"1\" class=\"dataframe\">\n  <thead>\n    <tr style=\"text-align: right;\">\n      <th></th>\n      <th>Unnamed: 0</th>\n      <th>player_name</th>\n      <th>team_abbreviation</th>\n      <th>age</th>\n      <th>player_height</th>\n      <th>player_weight</th>\n      <th>college</th>\n      <th>country</th>\n      <th>draft_year</th>\n      <th>draft_round</th>\n      <th>...</th>\n      <th>pts</th>\n      <th>reb</th>\n      <th>ast</th>\n      <th>net_rating</th>\n      <th>oreb_pct</th>\n      <th>dreb_pct</th>\n      <th>usg_pct</th>\n      <th>ts_pct</th>\n      <th>ast_pct</th>\n      <th>season</th>\n    </tr>\n  </thead>\n  <tbody>\n    <tr>\n      <th>0</th>\n      <td>0</td>\n      <td>Dennis Rodman</td>\n      <td>CHI</td>\n      <td>36.0</td>\n      <td>198.12</td>\n      <td>99.790240</td>\n      <td>Southeastern Oklahoma State</td>\n      <td>USA</td>\n      <td>1986</td>\n      <td>2</td>\n      <td>...</td>\n      <td>5.7</td>\n      <td>16.1</td>\n      <td>3.1</td>\n      <td>16.1</td>\n      <td>0.186</td>\n      <td>0.323</td>\n      <td>0.100</td>\n      <td>0.479</td>\n      <td>0.113</td>\n      <td>1996-97</td>\n    </tr>\n    <tr>\n      <th>1</th>\n      <td>1</td>\n      <td>Dwayne Schintzius</td>\n      <td>LAC</td>\n      <td>28.0</td>\n      <td>215.90</td>\n      <td>117.933920</td>\n      <td>Florida</td>\n      <td>USA</td>\n      <td>1990</td>\n      <td>1</td>\n      <td>...</td>\n      <td>2.3</td>\n      <td>1.5</td>\n      <td>0.3</td>\n      <td>12.3</td>\n      <td>0.078</td>\n      <td>0.151</td>\n      <td>0.175</td>\n      <td>0.430</td>\n      <td>0.048</td>\n      <td>1996-97</td>\n    </tr>\n    <tr>\n      <th>2</th>\n      <td>2</td>\n      <td>Earl Cureton</td>\n      <td>TOR</td>\n      <td>39.0</td>\n      <td>205.74</td>\n      <td>95.254320</td>\n      <td>Detroit Mercy</td>\n      <td>USA</td>\n      <td>1979</td>\n      <td>3</td>\n      <td>...</td>\n      <td>0.8</td>\n      <td>1.0</td>\n      <td>0.4</td>\n      <td>-2.1</td>\n      <td>0.105</td>\n      <td>0.102</td>\n      <td>0.103</td>\n      <td>0.376</td>\n      <td>0.148</td>\n      <td>1996-97</td>\n    </tr>\n    <tr>\n      <th>3</th>\n      <td>3</td>\n      <td>Ed O'Bannon</td>\n      <td>DAL</td>\n      <td>24.0</td>\n      <td>203.20</td>\n      <td>100.697424</td>\n      <td>UCLA</td>\n      <td>USA</td>\n      <td>1995</td>\n      <td>1</td>\n      <td>...</td>\n      <td>3.7</td>\n      <td>2.3</td>\n      <td>0.6</td>\n      <td>-8.7</td>\n      <td>0.060</td>\n      <td>0.149</td>\n      <td>0.167</td>\n      <td>0.399</td>\n      <td>0.077</td>\n      <td>1996-97</td>\n    </tr>\n    <tr>\n      <th>4</th>\n      <td>4</td>\n      <td>Ed Pinckney</td>\n      <td>MIA</td>\n      <td>34.0</td>\n      <td>205.74</td>\n      <td>108.862080</td>\n      <td>Villanova</td>\n      <td>USA</td>\n      <td>1985</td>\n      <td>1</td>\n      <td>...</td>\n      <td>2.4</td>\n      <td>2.4</td>\n      <td>0.2</td>\n      <td>-11.2</td>\n      <td>0.109</td>\n      <td>0.179</td>\n      <td>0.127</td>\n      <td>0.611</td>\n      <td>0.040</td>\n      <td>1996-97</td>\n    </tr>\n    <tr>\n      <th>...</th>\n      <td>...</td>\n      <td>...</td>\n      <td>...</td>\n      <td>...</td>\n      <td>...</td>\n      <td>...</td>\n      <td>...</td>\n      <td>...</td>\n      <td>...</td>\n      <td>...</td>\n      <td>...</td>\n      <td>...</td>\n      <td>...</td>\n      <td>...</td>\n      <td>...</td>\n      <td>...</td>\n      <td>...</td>\n      <td>...</td>\n      <td>...</td>\n      <td>...</td>\n      <td>...</td>\n    </tr>\n    <tr>\n      <th>11140</th>\n      <td>11140</td>\n      <td>Maxi Kleber</td>\n      <td>DAL</td>\n      <td>28.0</td>\n      <td>208.28</td>\n      <td>108.862080</td>\n      <td>None</td>\n      <td>Germany</td>\n      <td>Undrafted</td>\n      <td>Undrafted</td>\n      <td>...</td>\n      <td>9.1</td>\n      <td>5.4</td>\n      <td>1.1</td>\n      <td>4.6</td>\n      <td>0.056</td>\n      <td>0.140</td>\n      <td>0.136</td>\n      <td>0.605</td>\n      <td>0.064</td>\n      <td>2019-20</td>\n    </tr>\n    <tr>\n      <th>11141</th>\n      <td>11141</td>\n      <td>Melvin Frazier Jr.</td>\n      <td>ORL</td>\n      <td>23.0</td>\n      <td>195.58</td>\n      <td>97.522280</td>\n      <td>Tulane</td>\n      <td>USA</td>\n      <td>2018</td>\n      <td>2</td>\n      <td>...</td>\n      <td>1.2</td>\n      <td>0.3</td>\n      <td>0.1</td>\n      <td>-2.4</td>\n      <td>0.018</td>\n      <td>0.058</td>\n      <td>0.164</td>\n      <td>0.480</td>\n      <td>0.033</td>\n      <td>2019-20</td>\n    </tr>\n    <tr>\n      <th>11142</th>\n      <td>11142</td>\n      <td>Meyers Leonard</td>\n      <td>MIA</td>\n      <td>28.0</td>\n      <td>213.36</td>\n      <td>117.933920</td>\n      <td>Illinois</td>\n      <td>USA</td>\n      <td>2012</td>\n      <td>1</td>\n      <td>...</td>\n      <td>6.1</td>\n      <td>5.1</td>\n      <td>1.1</td>\n      <td>5.6</td>\n      <td>0.029</td>\n      <td>0.217</td>\n      <td>0.120</td>\n      <td>0.640</td>\n      <td>0.076</td>\n      <td>2019-20</td>\n    </tr>\n    <tr>\n      <th>11143</th>\n      <td>11143</td>\n      <td>Norvel Pelle</td>\n      <td>PHI</td>\n      <td>27.0</td>\n      <td>208.28</td>\n      <td>104.779752</td>\n      <td>None</td>\n      <td>USA</td>\n      <td>Undrafted</td>\n      <td>Undrafted</td>\n      <td>...</td>\n      <td>2.1</td>\n      <td>3.0</td>\n      <td>0.4</td>\n      <td>-16.4</td>\n      <td>0.085</td>\n      <td>0.237</td>\n      <td>0.126</td>\n      <td>0.521</td>\n      <td>0.056</td>\n      <td>2019-20</td>\n    </tr>\n    <tr>\n      <th>11144</th>\n      <td>11144</td>\n      <td>Matt Thomas</td>\n      <td>TOR</td>\n      <td>25.0</td>\n      <td>193.04</td>\n      <td>86.182480</td>\n      <td>Iowa State</td>\n      <td>USA</td>\n      <td>Undrafted</td>\n      <td>Undrafted</td>\n      <td>...</td>\n      <td>4.5</td>\n      <td>1.4</td>\n      <td>0.5</td>\n      <td>1.0</td>\n      <td>0.017</td>\n      <td>0.104</td>\n      <td>0.149</td>\n      <td>0.663</td>\n      <td>0.089</td>\n      <td>2019-20</td>\n    </tr>\n  </tbody>\n</table>\n<p>11145 rows × 22 columns</p>\n</div>"
     },
     "execution_count": 2,
     "metadata": {},
     "output_type": "execute_result"
    }
   ],
   "source": [
    "# modules\n",
    "import pandas as pd\n",
    "import numpy as np\n",
    "from matplotlib import pyplot as plt\n",
    "\n",
    "dataset_root = r\"D:\\\\datasets\\\\csv\"\n",
    "dataset_name = r\"\\\\nba\\\\all_seasons.csv\"\n",
    "dataset = dataset_root + dataset_name\n",
    "df = pd.read_csv(dataset)\n",
    "df"
   ],
   "metadata": {
    "collapsed": false,
    "pycharm": {
     "name": "#%%\n"
    }
   }
  },
  {
   "cell_type": "markdown",
   "source": [
    "1-) Get first 10 records."
   ],
   "metadata": {
    "collapsed": false,
    "pycharm": {
     "name": "#%% md\n"
    }
   }
  },
  {
   "cell_type": "code",
   "execution_count": 3,
   "outputs": [
    {
     "data": {
      "text/plain": "   Unnamed: 0        player_name team_abbreviation   age  player_height  \\\n0           0      Dennis Rodman               CHI  36.0         198.12   \n1           1  Dwayne Schintzius               LAC  28.0         215.90   \n2           2       Earl Cureton               TOR  39.0         205.74   \n3           3        Ed O'Bannon               DAL  24.0         203.20   \n4           4        Ed Pinckney               MIA  34.0         205.74   \n5           5      Eddie Johnson               HOU  38.0         200.66   \n6           6        Eddie Jones               LAL  25.0         198.12   \n7           7     Elden Campbell               LAL  28.0         213.36   \n8           8  Eldridge Recasner               ATL  29.0         193.04   \n9           9       Elliot Perry               MIL  28.0         182.88   \n\n   player_weight                      college country draft_year draft_round  \\\n0      99.790240  Southeastern Oklahoma State     USA       1986           2   \n1     117.933920                      Florida     USA       1990           1   \n2      95.254320                Detroit Mercy     USA       1979           3   \n3     100.697424                         UCLA     USA       1995           1   \n4     108.862080                    Villanova     USA       1985           1   \n5      97.522280                     Illinois     USA       1981           2   \n6      86.182480                       Temple     USA       1994           1   \n7     113.398000                      Clemson     USA       1990           1   \n8      86.182480                   Washington     USA       1992   Undrafted   \n9      72.574720                      Memphis     USA       1991           2   \n\n   ...   pts   reb  ast  net_rating  oreb_pct  dreb_pct  usg_pct  ts_pct  \\\n0  ...   5.7  16.1  3.1        16.1     0.186     0.323    0.100   0.479   \n1  ...   2.3   1.5  0.3        12.3     0.078     0.151    0.175   0.430   \n2  ...   0.8   1.0  0.4        -2.1     0.105     0.102    0.103   0.376   \n3  ...   3.7   2.3  0.6        -8.7     0.060     0.149    0.167   0.399   \n4  ...   2.4   2.4  0.2       -11.2     0.109     0.179    0.127   0.611   \n5  ...   8.2   2.7  1.0         4.1     0.034     0.126    0.220   0.541   \n6  ...  17.2   4.1  3.4         4.1     0.035     0.091    0.209   0.559   \n7  ...  14.9   8.0  1.6         3.3     0.095     0.183    0.222   0.520   \n8  ...   5.7   1.6  1.3        -0.3     0.036     0.076    0.172   0.539   \n9  ...   6.9   1.5  3.0        -1.2     0.018     0.081    0.177   0.557   \n\n   ast_pct   season  \n0    0.113  1996-97  \n1    0.048  1996-97  \n2    0.148  1996-97  \n3    0.077  1996-97  \n4    0.040  1996-97  \n5    0.102  1996-97  \n6    0.149  1996-97  \n7    0.087  1996-97  \n8    0.141  1996-97  \n9    0.262  1996-97  \n\n[10 rows x 22 columns]",
      "text/html": "<div>\n<style scoped>\n    .dataframe tbody tr th:only-of-type {\n        vertical-align: middle;\n    }\n\n    .dataframe tbody tr th {\n        vertical-align: top;\n    }\n\n    .dataframe thead th {\n        text-align: right;\n    }\n</style>\n<table border=\"1\" class=\"dataframe\">\n  <thead>\n    <tr style=\"text-align: right;\">\n      <th></th>\n      <th>Unnamed: 0</th>\n      <th>player_name</th>\n      <th>team_abbreviation</th>\n      <th>age</th>\n      <th>player_height</th>\n      <th>player_weight</th>\n      <th>college</th>\n      <th>country</th>\n      <th>draft_year</th>\n      <th>draft_round</th>\n      <th>...</th>\n      <th>pts</th>\n      <th>reb</th>\n      <th>ast</th>\n      <th>net_rating</th>\n      <th>oreb_pct</th>\n      <th>dreb_pct</th>\n      <th>usg_pct</th>\n      <th>ts_pct</th>\n      <th>ast_pct</th>\n      <th>season</th>\n    </tr>\n  </thead>\n  <tbody>\n    <tr>\n      <th>0</th>\n      <td>0</td>\n      <td>Dennis Rodman</td>\n      <td>CHI</td>\n      <td>36.0</td>\n      <td>198.12</td>\n      <td>99.790240</td>\n      <td>Southeastern Oklahoma State</td>\n      <td>USA</td>\n      <td>1986</td>\n      <td>2</td>\n      <td>...</td>\n      <td>5.7</td>\n      <td>16.1</td>\n      <td>3.1</td>\n      <td>16.1</td>\n      <td>0.186</td>\n      <td>0.323</td>\n      <td>0.100</td>\n      <td>0.479</td>\n      <td>0.113</td>\n      <td>1996-97</td>\n    </tr>\n    <tr>\n      <th>1</th>\n      <td>1</td>\n      <td>Dwayne Schintzius</td>\n      <td>LAC</td>\n      <td>28.0</td>\n      <td>215.90</td>\n      <td>117.933920</td>\n      <td>Florida</td>\n      <td>USA</td>\n      <td>1990</td>\n      <td>1</td>\n      <td>...</td>\n      <td>2.3</td>\n      <td>1.5</td>\n      <td>0.3</td>\n      <td>12.3</td>\n      <td>0.078</td>\n      <td>0.151</td>\n      <td>0.175</td>\n      <td>0.430</td>\n      <td>0.048</td>\n      <td>1996-97</td>\n    </tr>\n    <tr>\n      <th>2</th>\n      <td>2</td>\n      <td>Earl Cureton</td>\n      <td>TOR</td>\n      <td>39.0</td>\n      <td>205.74</td>\n      <td>95.254320</td>\n      <td>Detroit Mercy</td>\n      <td>USA</td>\n      <td>1979</td>\n      <td>3</td>\n      <td>...</td>\n      <td>0.8</td>\n      <td>1.0</td>\n      <td>0.4</td>\n      <td>-2.1</td>\n      <td>0.105</td>\n      <td>0.102</td>\n      <td>0.103</td>\n      <td>0.376</td>\n      <td>0.148</td>\n      <td>1996-97</td>\n    </tr>\n    <tr>\n      <th>3</th>\n      <td>3</td>\n      <td>Ed O'Bannon</td>\n      <td>DAL</td>\n      <td>24.0</td>\n      <td>203.20</td>\n      <td>100.697424</td>\n      <td>UCLA</td>\n      <td>USA</td>\n      <td>1995</td>\n      <td>1</td>\n      <td>...</td>\n      <td>3.7</td>\n      <td>2.3</td>\n      <td>0.6</td>\n      <td>-8.7</td>\n      <td>0.060</td>\n      <td>0.149</td>\n      <td>0.167</td>\n      <td>0.399</td>\n      <td>0.077</td>\n      <td>1996-97</td>\n    </tr>\n    <tr>\n      <th>4</th>\n      <td>4</td>\n      <td>Ed Pinckney</td>\n      <td>MIA</td>\n      <td>34.0</td>\n      <td>205.74</td>\n      <td>108.862080</td>\n      <td>Villanova</td>\n      <td>USA</td>\n      <td>1985</td>\n      <td>1</td>\n      <td>...</td>\n      <td>2.4</td>\n      <td>2.4</td>\n      <td>0.2</td>\n      <td>-11.2</td>\n      <td>0.109</td>\n      <td>0.179</td>\n      <td>0.127</td>\n      <td>0.611</td>\n      <td>0.040</td>\n      <td>1996-97</td>\n    </tr>\n    <tr>\n      <th>5</th>\n      <td>5</td>\n      <td>Eddie Johnson</td>\n      <td>HOU</td>\n      <td>38.0</td>\n      <td>200.66</td>\n      <td>97.522280</td>\n      <td>Illinois</td>\n      <td>USA</td>\n      <td>1981</td>\n      <td>2</td>\n      <td>...</td>\n      <td>8.2</td>\n      <td>2.7</td>\n      <td>1.0</td>\n      <td>4.1</td>\n      <td>0.034</td>\n      <td>0.126</td>\n      <td>0.220</td>\n      <td>0.541</td>\n      <td>0.102</td>\n      <td>1996-97</td>\n    </tr>\n    <tr>\n      <th>6</th>\n      <td>6</td>\n      <td>Eddie Jones</td>\n      <td>LAL</td>\n      <td>25.0</td>\n      <td>198.12</td>\n      <td>86.182480</td>\n      <td>Temple</td>\n      <td>USA</td>\n      <td>1994</td>\n      <td>1</td>\n      <td>...</td>\n      <td>17.2</td>\n      <td>4.1</td>\n      <td>3.4</td>\n      <td>4.1</td>\n      <td>0.035</td>\n      <td>0.091</td>\n      <td>0.209</td>\n      <td>0.559</td>\n      <td>0.149</td>\n      <td>1996-97</td>\n    </tr>\n    <tr>\n      <th>7</th>\n      <td>7</td>\n      <td>Elden Campbell</td>\n      <td>LAL</td>\n      <td>28.0</td>\n      <td>213.36</td>\n      <td>113.398000</td>\n      <td>Clemson</td>\n      <td>USA</td>\n      <td>1990</td>\n      <td>1</td>\n      <td>...</td>\n      <td>14.9</td>\n      <td>8.0</td>\n      <td>1.6</td>\n      <td>3.3</td>\n      <td>0.095</td>\n      <td>0.183</td>\n      <td>0.222</td>\n      <td>0.520</td>\n      <td>0.087</td>\n      <td>1996-97</td>\n    </tr>\n    <tr>\n      <th>8</th>\n      <td>8</td>\n      <td>Eldridge Recasner</td>\n      <td>ATL</td>\n      <td>29.0</td>\n      <td>193.04</td>\n      <td>86.182480</td>\n      <td>Washington</td>\n      <td>USA</td>\n      <td>1992</td>\n      <td>Undrafted</td>\n      <td>...</td>\n      <td>5.7</td>\n      <td>1.6</td>\n      <td>1.3</td>\n      <td>-0.3</td>\n      <td>0.036</td>\n      <td>0.076</td>\n      <td>0.172</td>\n      <td>0.539</td>\n      <td>0.141</td>\n      <td>1996-97</td>\n    </tr>\n    <tr>\n      <th>9</th>\n      <td>9</td>\n      <td>Elliot Perry</td>\n      <td>MIL</td>\n      <td>28.0</td>\n      <td>182.88</td>\n      <td>72.574720</td>\n      <td>Memphis</td>\n      <td>USA</td>\n      <td>1991</td>\n      <td>2</td>\n      <td>...</td>\n      <td>6.9</td>\n      <td>1.5</td>\n      <td>3.0</td>\n      <td>-1.2</td>\n      <td>0.018</td>\n      <td>0.081</td>\n      <td>0.177</td>\n      <td>0.557</td>\n      <td>0.262</td>\n      <td>1996-97</td>\n    </tr>\n  </tbody>\n</table>\n<p>10 rows × 22 columns</p>\n</div>"
     },
     "execution_count": 3,
     "metadata": {},
     "output_type": "execute_result"
    }
   ],
   "source": [
    "# -*-* code *-*-\n",
    "df.head(10)"
   ],
   "metadata": {
    "collapsed": false,
    "pycharm": {
     "name": "#%%\n"
    }
   }
  },
  {
   "cell_type": "markdown",
   "source": [
    "2-) How many records are there?"
   ],
   "metadata": {
    "collapsed": false,
    "pycharm": {
     "name": "#%% md\n"
    }
   }
  },
  {
   "cell_type": "code",
   "execution_count": 9,
   "outputs": [
    {
     "data": {
      "text/plain": "11145"
     },
     "execution_count": 9,
     "metadata": {},
     "output_type": "execute_result"
    }
   ],
   "source": [
    "# -*-* code *-*-\n",
    "len(df.index)"
   ],
   "metadata": {
    "collapsed": false,
    "pycharm": {
     "name": "#%%\n"
    }
   }
  },
  {
   "cell_type": "markdown",
   "source": [
    "3-) What is the average height of all players?"
   ],
   "metadata": {
    "collapsed": false,
    "pycharm": {
     "name": "#%% md\n"
    }
   }
  },
  {
   "cell_type": "code",
   "execution_count": 12,
   "outputs": [
    {
     "data": {
      "text/plain": "200.81281830417785"
     },
     "execution_count": 12,
     "metadata": {},
     "output_type": "execute_result"
    }
   ],
   "source": [
    "# -*-* code *-*-\n",
    "df[\"player_height\"].mean()"
   ],
   "metadata": {
    "collapsed": false,
    "pycharm": {
     "name": "#%%\n"
    }
   }
  },
  {
   "cell_type": "markdown",
   "source": [
    "4-) What is the maximum height of all players?"
   ],
   "metadata": {
    "collapsed": false,
    "pycharm": {
     "name": "#%% md\n"
    }
   }
  },
  {
   "cell_type": "code",
   "execution_count": 13,
   "outputs": [
    {
     "data": {
      "text/plain": "231.14"
     },
     "execution_count": 13,
     "metadata": {},
     "output_type": "execute_result"
    }
   ],
   "source": [
    "# -*-* code *-*-\n",
    "df[\"player_height\"].max()\n",
    "# df[\"player_height\"].min()  # min"
   ],
   "metadata": {
    "collapsed": false,
    "pycharm": {
     "name": "#%%\n"
    }
   }
  },
  {
   "cell_type": "markdown",
   "source": [
    "5-) Who is the player with the highest height?"
   ],
   "metadata": {
    "collapsed": false,
    "pycharm": {
     "name": "#%% md\n"
    }
   }
  },
  {
   "cell_type": "code",
   "execution_count": 24,
   "outputs": [
    {
     "name": "stdout",
     "output_type": "stream",
     "text": [
      "92      Gheorghe Muresan\n",
      "1212    Gheorghe Muresan\n",
      "1408    Gheorghe Muresan\n",
      "Name: player_name, dtype: object\n",
      "Gheorghe Muresan\n"
     ]
    }
   ],
   "source": [
    "# -*-* code *-*-\n",
    "mask = df[\"player_height\"] == df[\"player_height\"].max()\n",
    "longest_player = df[mask][\"player_name\"]\n",
    "print(longest_player)\n",
    "print(longest_player.iloc[0])"
   ],
   "metadata": {
    "collapsed": false,
    "pycharm": {
     "name": "#%%\n"
    }
   }
  },
  {
   "cell_type": "markdown",
   "source": [
    "6-) List player names and teams between the ages of 20-25 and sort in descending order."
   ],
   "metadata": {
    "collapsed": false,
    "pycharm": {
     "name": "#%% md\n"
    }
   }
  },
  {
   "cell_type": "code",
   "execution_count": 37,
   "outputs": [
    {
     "data": {
      "text/plain": "                    player_name team_abbreviation   age\n3                   Ed O'Bannon               DAL  24.0\n8058                 Jan Vesely               DEN  24.0\n3797                 Brian Cook               LAL  24.0\n3793           Curtis Borchardt               UTA  24.0\n3791                  DJ Mbenga               DAL  24.0\n...                         ...               ...   ...\n10731                 Ja Morant               MEM  20.0\n4440             Ersan Ilyasova               MIL  20.0\n3986   Martynas Andriuskevicius               CLE  20.0\n3985            Marvin Williams               ATL  20.0\n5794           Anthony Randolph               GSW  20.0\n\n[3531 rows x 3 columns]",
      "text/html": "<div>\n<style scoped>\n    .dataframe tbody tr th:only-of-type {\n        vertical-align: middle;\n    }\n\n    .dataframe tbody tr th {\n        vertical-align: top;\n    }\n\n    .dataframe thead th {\n        text-align: right;\n    }\n</style>\n<table border=\"1\" class=\"dataframe\">\n  <thead>\n    <tr style=\"text-align: right;\">\n      <th></th>\n      <th>player_name</th>\n      <th>team_abbreviation</th>\n      <th>age</th>\n    </tr>\n  </thead>\n  <tbody>\n    <tr>\n      <th>3</th>\n      <td>Ed O'Bannon</td>\n      <td>DAL</td>\n      <td>24.0</td>\n    </tr>\n    <tr>\n      <th>8058</th>\n      <td>Jan Vesely</td>\n      <td>DEN</td>\n      <td>24.0</td>\n    </tr>\n    <tr>\n      <th>3797</th>\n      <td>Brian Cook</td>\n      <td>LAL</td>\n      <td>24.0</td>\n    </tr>\n    <tr>\n      <th>3793</th>\n      <td>Curtis Borchardt</td>\n      <td>UTA</td>\n      <td>24.0</td>\n    </tr>\n    <tr>\n      <th>3791</th>\n      <td>DJ Mbenga</td>\n      <td>DAL</td>\n      <td>24.0</td>\n    </tr>\n    <tr>\n      <th>...</th>\n      <td>...</td>\n      <td>...</td>\n      <td>...</td>\n    </tr>\n    <tr>\n      <th>10731</th>\n      <td>Ja Morant</td>\n      <td>MEM</td>\n      <td>20.0</td>\n    </tr>\n    <tr>\n      <th>4440</th>\n      <td>Ersan Ilyasova</td>\n      <td>MIL</td>\n      <td>20.0</td>\n    </tr>\n    <tr>\n      <th>3986</th>\n      <td>Martynas Andriuskevicius</td>\n      <td>CLE</td>\n      <td>20.0</td>\n    </tr>\n    <tr>\n      <th>3985</th>\n      <td>Marvin Williams</td>\n      <td>ATL</td>\n      <td>20.0</td>\n    </tr>\n    <tr>\n      <th>5794</th>\n      <td>Anthony Randolph</td>\n      <td>GSW</td>\n      <td>20.0</td>\n    </tr>\n  </tbody>\n</table>\n<p>3531 rows × 3 columns</p>\n</div>"
     },
     "execution_count": 37,
     "metadata": {},
     "output_type": "execute_result"
    }
   ],
   "source": [
    "# -*-* code *-*-\n",
    "mask_age = (df[\"age\"]>=20) & (df[\"age\"] < 25)\n",
    "indexes = [\"player_name\", \"team_abbreviation\", \"age\"]\n",
    "filtered = df[mask_age][indexes]\n",
    "filtered.sort_values(\"age\", ascending=False)  # descending order."
   ],
   "metadata": {
    "collapsed": false,
    "pycharm": {
     "name": "#%%\n"
    }
   }
  },
  {
   "cell_type": "markdown",
   "source": [
    "7-) What team does \"John Holland\" play?"
   ],
   "metadata": {
    "collapsed": false,
    "pycharm": {
     "name": "#%% md\n"
    }
   }
  },
  {
   "cell_type": "code",
   "execution_count": 41,
   "outputs": [
    {
     "data": {
      "text/plain": "'CLE'"
     },
     "execution_count": 41,
     "metadata": {},
     "output_type": "execute_result"
    }
   ],
   "source": [
    "# -*-* code *-*-\n",
    "name = \"John Holland\"\n",
    "mask_name = df[\"player_name\"] == name\n",
    "df[mask_name][\"team_abbreviation\"].iloc[0]"
   ],
   "metadata": {
    "collapsed": false,
    "pycharm": {
     "name": "#%%\n"
    }
   }
  },
  {
   "cell_type": "markdown",
   "source": [
    "8-) What is the average height of the players by teams?"
   ],
   "metadata": {
    "collapsed": false
   }
  },
  {
   "cell_type": "code",
   "execution_count": 42,
   "outputs": [
    {
     "data": {
      "text/plain": "team_abbreviation\nATL    201.170653\nBKN    200.569286\nBOS    199.960981\nCHA    200.325669\nCHH    200.916854\nCHI    200.391545\nCLE    200.920513\nDAL    201.261927\nDEN    200.447796\nDET    200.184637\nGSW    200.710000\nHOU    200.816349\nIND    201.871806\nLAC    200.104987\nLAL    201.550027\nMEM    200.145270\nMIA    200.961912\nMIL    201.078544\nMIN    200.444863\nNJN    201.313619\nNOH    200.961958\nNOK    200.025000\nNOP    200.246393\nNYK    201.474717\nOKC    200.818051\nORL    200.418424\nPHI    200.902842\nPHX    201.059945\nPOR    201.339401\nSAC    200.787709\nSAS    200.297082\nSEA    201.650879\nTOR    200.972923\nUTA    200.737611\nVAN    199.531111\nWAS    201.062111\nName: player_height, dtype: float64"
     },
     "execution_count": 42,
     "metadata": {},
     "output_type": "execute_result"
    }
   ],
   "source": [
    "# -*-* code *-*-\n",
    "# \"by\" -> pandas groupby\n",
    "df.groupby(\"team_abbreviation\").mean()[\"player_height\"]"
   ],
   "metadata": {
    "collapsed": false,
    "pycharm": {
     "name": "#%%\n"
    }
   }
  },
  {
   "cell_type": "markdown",
   "source": [
    "9-) How many different teams are there?"
   ],
   "metadata": {
    "collapsed": false
   }
  },
  {
   "cell_type": "code",
   "execution_count": 46,
   "outputs": [
    {
     "name": "stdout",
     "output_type": "stream",
     "text": [
      "36\n"
     ]
    }
   ],
   "source": [
    "# -*-* code *-*-\n",
    "# print(len(df.groupby(\"team_abbreviation\")))\n",
    "print(df[\"team_abbreviation\"].nunique())  # second way."
   ],
   "metadata": {
    "collapsed": false,
    "pycharm": {
     "name": "#%%\n"
    }
   }
  },
  {
   "cell_type": "markdown",
   "source": [
    "10-) How many players are there in each team?"
   ],
   "metadata": {
    "collapsed": false
   }
  },
  {
   "cell_type": "code",
   "execution_count": 47,
   "outputs": [
    {
     "data": {
      "text/plain": "TOR    390\nCLE    390\nLAC    389\nMIA    387\nDAL    384\nATL    383\nPHI    380\nWAS    379\nHOU    378\nSAS    377\nGSW    376\nDEN    372\nMIL    371\nIND    371\nNYK    371\nLAL    371\nCHI    369\nORL    368\nPOR    367\nBOS    367\nMIN    366\nPHX    362\nUTA    360\nSAC    358\nDET    358\nMEM    315\nNJN    257\nCHA    254\nOKC    195\nSEA    182\nNOH    143\nBKN    140\nNOP    122\nCHH     89\nVAN     72\nNOK     32\nName: team_abbreviation, dtype: int64"
     },
     "execution_count": 47,
     "metadata": {},
     "output_type": "execute_result"
    }
   ],
   "source": [
    "# -*-* code *-*-\n",
    "df[\"team_abbreviation\"].value_counts()"
   ],
   "metadata": {
    "collapsed": false,
    "pycharm": {
     "name": "#%%\n"
    }
   }
  },
  {
   "cell_type": "markdown",
   "source": [
    "11.1-) Find the records containing the word \"and\"\n",
    "Note: only lowercases"
   ],
   "metadata": {
    "collapsed": false
   }
  },
  {
   "cell_type": "code",
   "execution_count": 62,
   "outputs": [
    {
     "data": {
      "text/plain": "       Unnamed: 0               player_name team_abbreviation   age  \\\n22             22          Erick Strickland               DAL  23.0   \n145           145     Aleksandar Djordjevic               POR  29.0   \n171           171            Cory Alexander               SAS  24.0   \n237           237          Shandon Anderson               UTA  23.0   \n250           250        Randolph Childress               DET  24.0   \n...           ...                       ...               ...   ...   \n10955       10955            Tyson Chandler               HOU  37.0   \n10972       10972           Wilson Chandler               BKN  32.0   \n11038       11038             Landry Shamet               LAC  22.0   \n11057       11057             Julius Randle               NYK  25.0   \n11102       11102  Nickeil Alexander-Walker               NOP  21.0   \n\n       player_height  player_weight        college country draft_year  \\\n22            190.50      95.254320       Nebraska     USA  Undrafted   \n145           187.96      89.811216           None     USA  Undrafted   \n171           185.42      86.182480       Virginia     USA       1995   \n237           198.12      94.347136        Georgia     USA       1996   \n250           187.96      85.275296    Wake Forest     USA       1995   \n...              ...            ...            ...     ...        ...   \n10955         213.36     106.594120           None     USA       2001   \n10972         203.20     106.594120         DePaul     USA       2007   \n11038         193.04      86.182480  Wichita State     USA       2018   \n11057         203.20     113.398000       Kentucky     USA       2014   \n11102         195.58      92.986360  Virginia Tech  Canada       2019   \n\n      draft_round  ...   pts  reb  ast  net_rating  oreb_pct  dreb_pct  \\\n22      Undrafted  ...  10.6  3.2  2.4        -6.4     0.032     0.112   \n145     Undrafted  ...   3.1  0.6  0.6         4.8     0.021     0.070   \n171             1  ...   7.2  1.5  3.2        -8.8     0.023     0.081   \n237             2  ...   5.9  2.8  0.8         2.5     0.065     0.139   \n250             1  ...   1.7  0.3  0.7        -0.9     0.008     0.037   \n...           ...  ...   ...  ...  ...         ...       ...       ...   \n10955           1  ...   1.3  2.5  0.2         5.7     0.097     0.172   \n10972           1  ...   5.9  4.1  1.1        -8.3     0.015     0.164   \n11038           1  ...   9.9  2.0  1.8         5.0     0.004     0.059   \n11057           1  ...  19.3  9.7  3.1        -5.7     0.067     0.223   \n11102           1  ...   5.1  2.0  1.8        -5.1     0.015     0.135   \n\n       usg_pct  ts_pct  ast_pct   season  \n22       0.216   0.510    0.161  1996-97  \n145      0.179   0.687    0.135  1996-97  \n171      0.218   0.528    0.300  1996-97  \n237      0.193   0.534    0.074  1996-97  \n250      0.176   0.448    0.205  1996-97  \n...        ...     ...      ...      ...  \n10955    0.057   0.717    0.037  2019-20  \n10972    0.130   0.529    0.078  2019-20  \n11038    0.129   0.611    0.085  2019-20  \n11057    0.270   0.532    0.160  2019-20  \n11102    0.227   0.441    0.207  2019-20  \n\n[361 rows x 22 columns]",
      "text/html": "<div>\n<style scoped>\n    .dataframe tbody tr th:only-of-type {\n        vertical-align: middle;\n    }\n\n    .dataframe tbody tr th {\n        vertical-align: top;\n    }\n\n    .dataframe thead th {\n        text-align: right;\n    }\n</style>\n<table border=\"1\" class=\"dataframe\">\n  <thead>\n    <tr style=\"text-align: right;\">\n      <th></th>\n      <th>Unnamed: 0</th>\n      <th>player_name</th>\n      <th>team_abbreviation</th>\n      <th>age</th>\n      <th>player_height</th>\n      <th>player_weight</th>\n      <th>college</th>\n      <th>country</th>\n      <th>draft_year</th>\n      <th>draft_round</th>\n      <th>...</th>\n      <th>pts</th>\n      <th>reb</th>\n      <th>ast</th>\n      <th>net_rating</th>\n      <th>oreb_pct</th>\n      <th>dreb_pct</th>\n      <th>usg_pct</th>\n      <th>ts_pct</th>\n      <th>ast_pct</th>\n      <th>season</th>\n    </tr>\n  </thead>\n  <tbody>\n    <tr>\n      <th>22</th>\n      <td>22</td>\n      <td>Erick Strickland</td>\n      <td>DAL</td>\n      <td>23.0</td>\n      <td>190.50</td>\n      <td>95.254320</td>\n      <td>Nebraska</td>\n      <td>USA</td>\n      <td>Undrafted</td>\n      <td>Undrafted</td>\n      <td>...</td>\n      <td>10.6</td>\n      <td>3.2</td>\n      <td>2.4</td>\n      <td>-6.4</td>\n      <td>0.032</td>\n      <td>0.112</td>\n      <td>0.216</td>\n      <td>0.510</td>\n      <td>0.161</td>\n      <td>1996-97</td>\n    </tr>\n    <tr>\n      <th>145</th>\n      <td>145</td>\n      <td>Aleksandar Djordjevic</td>\n      <td>POR</td>\n      <td>29.0</td>\n      <td>187.96</td>\n      <td>89.811216</td>\n      <td>None</td>\n      <td>USA</td>\n      <td>Undrafted</td>\n      <td>Undrafted</td>\n      <td>...</td>\n      <td>3.1</td>\n      <td>0.6</td>\n      <td>0.6</td>\n      <td>4.8</td>\n      <td>0.021</td>\n      <td>0.070</td>\n      <td>0.179</td>\n      <td>0.687</td>\n      <td>0.135</td>\n      <td>1996-97</td>\n    </tr>\n    <tr>\n      <th>171</th>\n      <td>171</td>\n      <td>Cory Alexander</td>\n      <td>SAS</td>\n      <td>24.0</td>\n      <td>185.42</td>\n      <td>86.182480</td>\n      <td>Virginia</td>\n      <td>USA</td>\n      <td>1995</td>\n      <td>1</td>\n      <td>...</td>\n      <td>7.2</td>\n      <td>1.5</td>\n      <td>3.2</td>\n      <td>-8.8</td>\n      <td>0.023</td>\n      <td>0.081</td>\n      <td>0.218</td>\n      <td>0.528</td>\n      <td>0.300</td>\n      <td>1996-97</td>\n    </tr>\n    <tr>\n      <th>237</th>\n      <td>237</td>\n      <td>Shandon Anderson</td>\n      <td>UTA</td>\n      <td>23.0</td>\n      <td>198.12</td>\n      <td>94.347136</td>\n      <td>Georgia</td>\n      <td>USA</td>\n      <td>1996</td>\n      <td>2</td>\n      <td>...</td>\n      <td>5.9</td>\n      <td>2.8</td>\n      <td>0.8</td>\n      <td>2.5</td>\n      <td>0.065</td>\n      <td>0.139</td>\n      <td>0.193</td>\n      <td>0.534</td>\n      <td>0.074</td>\n      <td>1996-97</td>\n    </tr>\n    <tr>\n      <th>250</th>\n      <td>250</td>\n      <td>Randolph Childress</td>\n      <td>DET</td>\n      <td>24.0</td>\n      <td>187.96</td>\n      <td>85.275296</td>\n      <td>Wake Forest</td>\n      <td>USA</td>\n      <td>1995</td>\n      <td>1</td>\n      <td>...</td>\n      <td>1.7</td>\n      <td>0.3</td>\n      <td>0.7</td>\n      <td>-0.9</td>\n      <td>0.008</td>\n      <td>0.037</td>\n      <td>0.176</td>\n      <td>0.448</td>\n      <td>0.205</td>\n      <td>1996-97</td>\n    </tr>\n    <tr>\n      <th>...</th>\n      <td>...</td>\n      <td>...</td>\n      <td>...</td>\n      <td>...</td>\n      <td>...</td>\n      <td>...</td>\n      <td>...</td>\n      <td>...</td>\n      <td>...</td>\n      <td>...</td>\n      <td>...</td>\n      <td>...</td>\n      <td>...</td>\n      <td>...</td>\n      <td>...</td>\n      <td>...</td>\n      <td>...</td>\n      <td>...</td>\n      <td>...</td>\n      <td>...</td>\n      <td>...</td>\n    </tr>\n    <tr>\n      <th>10955</th>\n      <td>10955</td>\n      <td>Tyson Chandler</td>\n      <td>HOU</td>\n      <td>37.0</td>\n      <td>213.36</td>\n      <td>106.594120</td>\n      <td>None</td>\n      <td>USA</td>\n      <td>2001</td>\n      <td>1</td>\n      <td>...</td>\n      <td>1.3</td>\n      <td>2.5</td>\n      <td>0.2</td>\n      <td>5.7</td>\n      <td>0.097</td>\n      <td>0.172</td>\n      <td>0.057</td>\n      <td>0.717</td>\n      <td>0.037</td>\n      <td>2019-20</td>\n    </tr>\n    <tr>\n      <th>10972</th>\n      <td>10972</td>\n      <td>Wilson Chandler</td>\n      <td>BKN</td>\n      <td>32.0</td>\n      <td>203.20</td>\n      <td>106.594120</td>\n      <td>DePaul</td>\n      <td>USA</td>\n      <td>2007</td>\n      <td>1</td>\n      <td>...</td>\n      <td>5.9</td>\n      <td>4.1</td>\n      <td>1.1</td>\n      <td>-8.3</td>\n      <td>0.015</td>\n      <td>0.164</td>\n      <td>0.130</td>\n      <td>0.529</td>\n      <td>0.078</td>\n      <td>2019-20</td>\n    </tr>\n    <tr>\n      <th>11038</th>\n      <td>11038</td>\n      <td>Landry Shamet</td>\n      <td>LAC</td>\n      <td>22.0</td>\n      <td>193.04</td>\n      <td>86.182480</td>\n      <td>Wichita State</td>\n      <td>USA</td>\n      <td>2018</td>\n      <td>1</td>\n      <td>...</td>\n      <td>9.9</td>\n      <td>2.0</td>\n      <td>1.8</td>\n      <td>5.0</td>\n      <td>0.004</td>\n      <td>0.059</td>\n      <td>0.129</td>\n      <td>0.611</td>\n      <td>0.085</td>\n      <td>2019-20</td>\n    </tr>\n    <tr>\n      <th>11057</th>\n      <td>11057</td>\n      <td>Julius Randle</td>\n      <td>NYK</td>\n      <td>25.0</td>\n      <td>203.20</td>\n      <td>113.398000</td>\n      <td>Kentucky</td>\n      <td>USA</td>\n      <td>2014</td>\n      <td>1</td>\n      <td>...</td>\n      <td>19.3</td>\n      <td>9.7</td>\n      <td>3.1</td>\n      <td>-5.7</td>\n      <td>0.067</td>\n      <td>0.223</td>\n      <td>0.270</td>\n      <td>0.532</td>\n      <td>0.160</td>\n      <td>2019-20</td>\n    </tr>\n    <tr>\n      <th>11102</th>\n      <td>11102</td>\n      <td>Nickeil Alexander-Walker</td>\n      <td>NOP</td>\n      <td>21.0</td>\n      <td>195.58</td>\n      <td>92.986360</td>\n      <td>Virginia Tech</td>\n      <td>Canada</td>\n      <td>2019</td>\n      <td>1</td>\n      <td>...</td>\n      <td>5.1</td>\n      <td>2.0</td>\n      <td>1.8</td>\n      <td>-5.1</td>\n      <td>0.015</td>\n      <td>0.135</td>\n      <td>0.227</td>\n      <td>0.441</td>\n      <td>0.207</td>\n      <td>2019-20</td>\n    </tr>\n  </tbody>\n</table>\n<p>361 rows × 22 columns</p>\n</div>"
     },
     "execution_count": 62,
     "metadata": {},
     "output_type": "execute_result"
    }
   ],
   "source": [
    "# -*-* code *-*-\n",
    "df.dropna(inplace=True)  # drop \"na\" values\n",
    "mask_contain = df[\"player_name\"].str.contains(\"and\")\n",
    "df[mask_contain]"
   ],
   "metadata": {
    "collapsed": false,
    "pycharm": {
     "name": "#%%\n"
    }
   }
  },
  {
   "cell_type": "markdown",
   "source": [
    "11.2-) Find the records containing the word \"and\"\n",
    "Note: ignore uppercase and lowercase"
   ],
   "metadata": {
    "collapsed": false
   }
  },
  {
   "cell_type": "code",
   "execution_count": 67,
   "outputs": [
    {
     "data": {
      "text/plain": "       Unnamed: 0               player_name team_abbreviation   age  \\\n22             22          Erick Strickland               DAL  23.0   \n97             97             Greg Anderson               SAS  33.0   \n145           145     Aleksandar Djordjevic               POR  29.0   \n151           151           Andrew DeClercq               GSW  24.0   \n152           152               Andrew Lang               MIL  31.0   \n...           ...                       ...               ...   ...   \n11038       11038             Landry Shamet               LAC  22.0   \n11055       11055     Juan Toscano-Anderson               GSW  26.0   \n11057       11057             Julius Randle               NYK  25.0   \n11058       11058           Justin Anderson               BKN  26.0   \n11102       11102  Nickeil Alexander-Walker               NOP  21.0   \n\n       player_height  player_weight        college country draft_year  \\\n22            190.50      95.254320       Nebraska     USA  Undrafted   \n97            208.28     113.398000        Houston     USA       1987   \n145           187.96      89.811216           None     USA  Undrafted   \n151           208.28     104.326160        Florida     USA       1995   \n152           210.82     124.737800       Arkansas     USA       1988   \n...              ...            ...            ...     ...        ...   \n11038         193.04      86.182480  Wichita State     USA       2018   \n11055         198.12      94.800728           None     USA  Undrafted   \n11057         203.20     113.398000       Kentucky     USA       2014   \n11058         195.58     104.779752       Virginia     USA       2015   \n11102         195.58      92.986360  Virginia Tech  Canada       2019   \n\n      draft_round  ...   pts  reb  ast  net_rating  oreb_pct  dreb_pct  \\\n22      Undrafted  ...  10.6  3.2  2.4        -6.4     0.032     0.112   \n97              1  ...   3.9  5.5  0.4       -14.2     0.109     0.219   \n145     Undrafted  ...   3.1  0.6  0.6         4.8     0.021     0.070   \n151             2  ...   5.3  4.2  0.5        -5.6     0.132     0.198   \n152             2  ...   5.3  5.3  0.5        -1.2     0.096     0.182   \n...           ...  ...   ...  ...  ...         ...       ...       ...   \n11038           1  ...   9.9  2.0  1.8         5.0     0.004     0.059   \n11055   Undrafted  ...   5.8  4.3  2.2       -12.6     0.031     0.163   \n11057           1  ...  19.3  9.7  3.1        -5.7     0.067     0.223   \n11058           1  ...   1.0  0.7  0.0       -25.4     0.000     0.091   \n11102           1  ...   5.1  2.0  1.8        -5.1     0.015     0.135   \n\n       usg_pct  ts_pct  ast_pct   season  \n22       0.216   0.510    0.161  1996-97  \n97       0.106   0.531    0.033  1996-97  \n145      0.179   0.687    0.135  1996-97  \n151      0.173   0.552    0.050  1996-97  \n152      0.123   0.498    0.031  1996-97  \n...        ...     ...      ...      ...  \n11038    0.129   0.611    0.085  2019-20  \n11055    0.124   0.537    0.145  2019-20  \n11057    0.270   0.532    0.160  2019-20  \n11058    0.159   0.218    0.000  2019-20  \n11102    0.227   0.441    0.207  2019-20  \n\n[650 rows x 22 columns]",
      "text/html": "<div>\n<style scoped>\n    .dataframe tbody tr th:only-of-type {\n        vertical-align: middle;\n    }\n\n    .dataframe tbody tr th {\n        vertical-align: top;\n    }\n\n    .dataframe thead th {\n        text-align: right;\n    }\n</style>\n<table border=\"1\" class=\"dataframe\">\n  <thead>\n    <tr style=\"text-align: right;\">\n      <th></th>\n      <th>Unnamed: 0</th>\n      <th>player_name</th>\n      <th>team_abbreviation</th>\n      <th>age</th>\n      <th>player_height</th>\n      <th>player_weight</th>\n      <th>college</th>\n      <th>country</th>\n      <th>draft_year</th>\n      <th>draft_round</th>\n      <th>...</th>\n      <th>pts</th>\n      <th>reb</th>\n      <th>ast</th>\n      <th>net_rating</th>\n      <th>oreb_pct</th>\n      <th>dreb_pct</th>\n      <th>usg_pct</th>\n      <th>ts_pct</th>\n      <th>ast_pct</th>\n      <th>season</th>\n    </tr>\n  </thead>\n  <tbody>\n    <tr>\n      <th>22</th>\n      <td>22</td>\n      <td>Erick Strickland</td>\n      <td>DAL</td>\n      <td>23.0</td>\n      <td>190.50</td>\n      <td>95.254320</td>\n      <td>Nebraska</td>\n      <td>USA</td>\n      <td>Undrafted</td>\n      <td>Undrafted</td>\n      <td>...</td>\n      <td>10.6</td>\n      <td>3.2</td>\n      <td>2.4</td>\n      <td>-6.4</td>\n      <td>0.032</td>\n      <td>0.112</td>\n      <td>0.216</td>\n      <td>0.510</td>\n      <td>0.161</td>\n      <td>1996-97</td>\n    </tr>\n    <tr>\n      <th>97</th>\n      <td>97</td>\n      <td>Greg Anderson</td>\n      <td>SAS</td>\n      <td>33.0</td>\n      <td>208.28</td>\n      <td>113.398000</td>\n      <td>Houston</td>\n      <td>USA</td>\n      <td>1987</td>\n      <td>1</td>\n      <td>...</td>\n      <td>3.9</td>\n      <td>5.5</td>\n      <td>0.4</td>\n      <td>-14.2</td>\n      <td>0.109</td>\n      <td>0.219</td>\n      <td>0.106</td>\n      <td>0.531</td>\n      <td>0.033</td>\n      <td>1996-97</td>\n    </tr>\n    <tr>\n      <th>145</th>\n      <td>145</td>\n      <td>Aleksandar Djordjevic</td>\n      <td>POR</td>\n      <td>29.0</td>\n      <td>187.96</td>\n      <td>89.811216</td>\n      <td>None</td>\n      <td>USA</td>\n      <td>Undrafted</td>\n      <td>Undrafted</td>\n      <td>...</td>\n      <td>3.1</td>\n      <td>0.6</td>\n      <td>0.6</td>\n      <td>4.8</td>\n      <td>0.021</td>\n      <td>0.070</td>\n      <td>0.179</td>\n      <td>0.687</td>\n      <td>0.135</td>\n      <td>1996-97</td>\n    </tr>\n    <tr>\n      <th>151</th>\n      <td>151</td>\n      <td>Andrew DeClercq</td>\n      <td>GSW</td>\n      <td>24.0</td>\n      <td>208.28</td>\n      <td>104.326160</td>\n      <td>Florida</td>\n      <td>USA</td>\n      <td>1995</td>\n      <td>2</td>\n      <td>...</td>\n      <td>5.3</td>\n      <td>4.2</td>\n      <td>0.5</td>\n      <td>-5.6</td>\n      <td>0.132</td>\n      <td>0.198</td>\n      <td>0.173</td>\n      <td>0.552</td>\n      <td>0.050</td>\n      <td>1996-97</td>\n    </tr>\n    <tr>\n      <th>152</th>\n      <td>152</td>\n      <td>Andrew Lang</td>\n      <td>MIL</td>\n      <td>31.0</td>\n      <td>210.82</td>\n      <td>124.737800</td>\n      <td>Arkansas</td>\n      <td>USA</td>\n      <td>1988</td>\n      <td>2</td>\n      <td>...</td>\n      <td>5.3</td>\n      <td>5.3</td>\n      <td>0.5</td>\n      <td>-1.2</td>\n      <td>0.096</td>\n      <td>0.182</td>\n      <td>0.123</td>\n      <td>0.498</td>\n      <td>0.031</td>\n      <td>1996-97</td>\n    </tr>\n    <tr>\n      <th>...</th>\n      <td>...</td>\n      <td>...</td>\n      <td>...</td>\n      <td>...</td>\n      <td>...</td>\n      <td>...</td>\n      <td>...</td>\n      <td>...</td>\n      <td>...</td>\n      <td>...</td>\n      <td>...</td>\n      <td>...</td>\n      <td>...</td>\n      <td>...</td>\n      <td>...</td>\n      <td>...</td>\n      <td>...</td>\n      <td>...</td>\n      <td>...</td>\n      <td>...</td>\n      <td>...</td>\n    </tr>\n    <tr>\n      <th>11038</th>\n      <td>11038</td>\n      <td>Landry Shamet</td>\n      <td>LAC</td>\n      <td>22.0</td>\n      <td>193.04</td>\n      <td>86.182480</td>\n      <td>Wichita State</td>\n      <td>USA</td>\n      <td>2018</td>\n      <td>1</td>\n      <td>...</td>\n      <td>9.9</td>\n      <td>2.0</td>\n      <td>1.8</td>\n      <td>5.0</td>\n      <td>0.004</td>\n      <td>0.059</td>\n      <td>0.129</td>\n      <td>0.611</td>\n      <td>0.085</td>\n      <td>2019-20</td>\n    </tr>\n    <tr>\n      <th>11055</th>\n      <td>11055</td>\n      <td>Juan Toscano-Anderson</td>\n      <td>GSW</td>\n      <td>26.0</td>\n      <td>198.12</td>\n      <td>94.800728</td>\n      <td>None</td>\n      <td>USA</td>\n      <td>Undrafted</td>\n      <td>Undrafted</td>\n      <td>...</td>\n      <td>5.8</td>\n      <td>4.3</td>\n      <td>2.2</td>\n      <td>-12.6</td>\n      <td>0.031</td>\n      <td>0.163</td>\n      <td>0.124</td>\n      <td>0.537</td>\n      <td>0.145</td>\n      <td>2019-20</td>\n    </tr>\n    <tr>\n      <th>11057</th>\n      <td>11057</td>\n      <td>Julius Randle</td>\n      <td>NYK</td>\n      <td>25.0</td>\n      <td>203.20</td>\n      <td>113.398000</td>\n      <td>Kentucky</td>\n      <td>USA</td>\n      <td>2014</td>\n      <td>1</td>\n      <td>...</td>\n      <td>19.3</td>\n      <td>9.7</td>\n      <td>3.1</td>\n      <td>-5.7</td>\n      <td>0.067</td>\n      <td>0.223</td>\n      <td>0.270</td>\n      <td>0.532</td>\n      <td>0.160</td>\n      <td>2019-20</td>\n    </tr>\n    <tr>\n      <th>11058</th>\n      <td>11058</td>\n      <td>Justin Anderson</td>\n      <td>BKN</td>\n      <td>26.0</td>\n      <td>195.58</td>\n      <td>104.779752</td>\n      <td>Virginia</td>\n      <td>USA</td>\n      <td>2015</td>\n      <td>1</td>\n      <td>...</td>\n      <td>1.0</td>\n      <td>0.7</td>\n      <td>0.0</td>\n      <td>-25.4</td>\n      <td>0.000</td>\n      <td>0.091</td>\n      <td>0.159</td>\n      <td>0.218</td>\n      <td>0.000</td>\n      <td>2019-20</td>\n    </tr>\n    <tr>\n      <th>11102</th>\n      <td>11102</td>\n      <td>Nickeil Alexander-Walker</td>\n      <td>NOP</td>\n      <td>21.0</td>\n      <td>195.58</td>\n      <td>92.986360</td>\n      <td>Virginia Tech</td>\n      <td>Canada</td>\n      <td>2019</td>\n      <td>1</td>\n      <td>...</td>\n      <td>5.1</td>\n      <td>2.0</td>\n      <td>1.8</td>\n      <td>-5.1</td>\n      <td>0.015</td>\n      <td>0.135</td>\n      <td>0.227</td>\n      <td>0.441</td>\n      <td>0.207</td>\n      <td>2019-20</td>\n    </tr>\n  </tbody>\n</table>\n<p>650 rows × 22 columns</p>\n</div>"
     },
     "execution_count": 67,
     "metadata": {},
     "output_type": "execute_result"
    }
   ],
   "source": [
    "# -*-* code *-*-\n",
    "df.dropna(inplace=True)  # drop \"na\" values\n",
    "\n",
    "def str_lower_find(name, ext):\n",
    "    return ext in name.lower()\n",
    "\n",
    "mask_contain = df[\"player_name\"].apply(func=str_lower_find, args=(\"and\",))\n",
    "df[mask_contain]"
   ],
   "metadata": {
    "collapsed": false,
    "pycharm": {
     "name": "#%%\n"
    }
   }
  }
 ],
 "metadata": {
  "kernelspec": {
   "display_name": "Python 3",
   "language": "python",
   "name": "python3"
  },
  "language_info": {
   "codemirror_mode": {
    "name": "ipython",
    "version": 2
   },
   "file_extension": ".py",
   "mimetype": "text/x-python",
   "name": "python",
   "nbconvert_exporter": "python",
   "pygments_lexer": "ipython2",
   "version": "2.7.6"
  }
 },
 "nbformat": 4,
 "nbformat_minor": 0
}