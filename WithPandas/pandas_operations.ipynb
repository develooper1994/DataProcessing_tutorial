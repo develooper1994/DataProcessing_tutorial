{
 "cells": [
  {
   "cell_type": "markdown",
   "source": [
    "#Other operations\n",
    "missing data, stats, ..."
   ],
   "metadata": {
    "collapsed": false,
    "pycharm": {
     "name": "#%% md\n"
    }
   }
  },
  {
   "cell_type": "code",
   "execution_count": 2,
   "metadata": {
    "collapsed": true
   },
   "outputs": [
    {
     "name": "stdout",
     "output_type": "stream",
     "text": [
      "DatetimeIndex(['2013-01-01', '2013-01-02', '2013-01-03', '2013-01-04',\n",
      "               '2013-01-05', '2013-01-06'],\n",
      "              dtype='datetime64[ns]', freq='D')\n"
     ]
    },
    {
     "data": {
      "text/plain": "                   A         B         C         D\n2013-01-01  0.628975 -0.050539  0.740319 -0.405434\n2013-01-02 -1.139188  1.982379 -0.155121 -0.133637\n2013-01-03  1.694619 -0.246373 -0.774335 -0.571744\n2013-01-04  2.212809 -0.753112  1.207536  0.317436\n2013-01-05 -0.450386 -2.333118  0.630317  1.601351\n2013-01-06 -0.077718 -0.459914  1.083592 -0.014645",
      "text/html": "<div>\n<style scoped>\n    .dataframe tbody tr th:only-of-type {\n        vertical-align: middle;\n    }\n\n    .dataframe tbody tr th {\n        vertical-align: top;\n    }\n\n    .dataframe thead th {\n        text-align: right;\n    }\n</style>\n<table border=\"1\" class=\"dataframe\">\n  <thead>\n    <tr style=\"text-align: right;\">\n      <th></th>\n      <th>A</th>\n      <th>B</th>\n      <th>C</th>\n      <th>D</th>\n    </tr>\n  </thead>\n  <tbody>\n    <tr>\n      <th>2013-01-01</th>\n      <td>0.628975</td>\n      <td>-0.050539</td>\n      <td>0.740319</td>\n      <td>-0.405434</td>\n    </tr>\n    <tr>\n      <th>2013-01-02</th>\n      <td>-1.139188</td>\n      <td>1.982379</td>\n      <td>-0.155121</td>\n      <td>-0.133637</td>\n    </tr>\n    <tr>\n      <th>2013-01-03</th>\n      <td>1.694619</td>\n      <td>-0.246373</td>\n      <td>-0.774335</td>\n      <td>-0.571744</td>\n    </tr>\n    <tr>\n      <th>2013-01-04</th>\n      <td>2.212809</td>\n      <td>-0.753112</td>\n      <td>1.207536</td>\n      <td>0.317436</td>\n    </tr>\n    <tr>\n      <th>2013-01-05</th>\n      <td>-0.450386</td>\n      <td>-2.333118</td>\n      <td>0.630317</td>\n      <td>1.601351</td>\n    </tr>\n    <tr>\n      <th>2013-01-06</th>\n      <td>-0.077718</td>\n      <td>-0.459914</td>\n      <td>1.083592</td>\n      <td>-0.014645</td>\n    </tr>\n  </tbody>\n</table>\n</div>"
     },
     "execution_count": 2,
     "metadata": {},
     "output_type": "execute_result"
    }
   ],
   "source": [
    "import numpy as np\n",
    "import pandas as pd\n",
    "s = pd.Series([1, 3, 5, np.nan, 6, 8])\n",
    "\n",
    "dates = pd.date_range('20130101', periods=6)\n",
    "print(dates)\n",
    "df = pd.DataFrame(np.random.randn(6, 4), index=dates, columns=list('ABCD'))\n",
    "df"
   ]
  },
  {
   "cell_type": "code",
   "execution_count": 3,
   "outputs": [],
   "source": [
    "df2 = pd.DataFrame({'A': 1.,\n",
    "    'B': pd.Timestamp('20130102'),\n",
    "    'C': pd.Series(1, index=list(range(4)), dtype='float32'),\n",
    "    'D': np.array([3] * 4, dtype='int32'),\n",
    "    'E': pd.Categorical([\"test\", \"train\", \"test\", \"train\"]),\n",
    "    'F': 'foo'})"
   ],
   "metadata": {
    "collapsed": false,
    "pycharm": {
     "name": "#%%\n"
    }
   }
  },
  {
   "cell_type": "markdown",
   "source": [
    "### Missing data"
   ],
   "metadata": {
    "collapsed": false,
    "pycharm": {
     "name": "#%% md\n"
    }
   }
  },
  {
   "cell_type": "code",
   "execution_count": 5,
   "outputs": [
    {
     "data": {
      "text/plain": "                   A         B         C         D    E\n2013-01-01  0.628975 -0.050539  0.740319 -0.405434  1.0\n2013-01-02 -1.139188  1.982379 -0.155121 -0.133637  1.0\n2013-01-03  1.694619 -0.246373 -0.774335 -0.571744  NaN\n2013-01-04  2.212809 -0.753112  1.207536  0.317436  NaN",
      "text/html": "<div>\n<style scoped>\n    .dataframe tbody tr th:only-of-type {\n        vertical-align: middle;\n    }\n\n    .dataframe tbody tr th {\n        vertical-align: top;\n    }\n\n    .dataframe thead th {\n        text-align: right;\n    }\n</style>\n<table border=\"1\" class=\"dataframe\">\n  <thead>\n    <tr style=\"text-align: right;\">\n      <th></th>\n      <th>A</th>\n      <th>B</th>\n      <th>C</th>\n      <th>D</th>\n      <th>E</th>\n    </tr>\n  </thead>\n  <tbody>\n    <tr>\n      <th>2013-01-01</th>\n      <td>0.628975</td>\n      <td>-0.050539</td>\n      <td>0.740319</td>\n      <td>-0.405434</td>\n      <td>1.0</td>\n    </tr>\n    <tr>\n      <th>2013-01-02</th>\n      <td>-1.139188</td>\n      <td>1.982379</td>\n      <td>-0.155121</td>\n      <td>-0.133637</td>\n      <td>1.0</td>\n    </tr>\n    <tr>\n      <th>2013-01-03</th>\n      <td>1.694619</td>\n      <td>-0.246373</td>\n      <td>-0.774335</td>\n      <td>-0.571744</td>\n      <td>NaN</td>\n    </tr>\n    <tr>\n      <th>2013-01-04</th>\n      <td>2.212809</td>\n      <td>-0.753112</td>\n      <td>1.207536</td>\n      <td>0.317436</td>\n      <td>NaN</td>\n    </tr>\n  </tbody>\n</table>\n</div>"
     },
     "execution_count": 5,
     "metadata": {},
     "output_type": "execute_result"
    }
   ],
   "source": [
    "df1 = df.reindex(index=dates[0:4], columns=list(df.columns) + ['E'])\n",
    "df1.loc[dates[0]:dates[1], 'E'] = 1\n",
    "df1"
   ],
   "metadata": {
    "collapsed": false,
    "pycharm": {
     "name": "#%%\n"
    }
   }
  },
  {
   "cell_type": "code",
   "execution_count": 6,
   "outputs": [
    {
     "data": {
      "text/plain": "                   A         B         C         D    E\n2013-01-01  0.628975 -0.050539  0.740319 -0.405434  1.0\n2013-01-02 -1.139188  1.982379 -0.155121 -0.133637  1.0",
      "text/html": "<div>\n<style scoped>\n    .dataframe tbody tr th:only-of-type {\n        vertical-align: middle;\n    }\n\n    .dataframe tbody tr th {\n        vertical-align: top;\n    }\n\n    .dataframe thead th {\n        text-align: right;\n    }\n</style>\n<table border=\"1\" class=\"dataframe\">\n  <thead>\n    <tr style=\"text-align: right;\">\n      <th></th>\n      <th>A</th>\n      <th>B</th>\n      <th>C</th>\n      <th>D</th>\n      <th>E</th>\n    </tr>\n  </thead>\n  <tbody>\n    <tr>\n      <th>2013-01-01</th>\n      <td>0.628975</td>\n      <td>-0.050539</td>\n      <td>0.740319</td>\n      <td>-0.405434</td>\n      <td>1.0</td>\n    </tr>\n    <tr>\n      <th>2013-01-02</th>\n      <td>-1.139188</td>\n      <td>1.982379</td>\n      <td>-0.155121</td>\n      <td>-0.133637</td>\n      <td>1.0</td>\n    </tr>\n  </tbody>\n</table>\n</div>"
     },
     "execution_count": 6,
     "metadata": {},
     "output_type": "execute_result"
    }
   ],
   "source": [
    "df1.dropna(how='any')"
   ],
   "metadata": {
    "collapsed": false,
    "pycharm": {
     "name": "#%%\n"
    }
   }
  },
  {
   "cell_type": "code",
   "execution_count": 7,
   "outputs": [
    {
     "data": {
      "text/plain": "                   A         B         C         D    E\n2013-01-01  0.628975 -0.050539  0.740319 -0.405434  1.0\n2013-01-02 -1.139188  1.982379 -0.155121 -0.133637  1.0\n2013-01-03  1.694619 -0.246373 -0.774335 -0.571744  5.0\n2013-01-04  2.212809 -0.753112  1.207536  0.317436  5.0",
      "text/html": "<div>\n<style scoped>\n    .dataframe tbody tr th:only-of-type {\n        vertical-align: middle;\n    }\n\n    .dataframe tbody tr th {\n        vertical-align: top;\n    }\n\n    .dataframe thead th {\n        text-align: right;\n    }\n</style>\n<table border=\"1\" class=\"dataframe\">\n  <thead>\n    <tr style=\"text-align: right;\">\n      <th></th>\n      <th>A</th>\n      <th>B</th>\n      <th>C</th>\n      <th>D</th>\n      <th>E</th>\n    </tr>\n  </thead>\n  <tbody>\n    <tr>\n      <th>2013-01-01</th>\n      <td>0.628975</td>\n      <td>-0.050539</td>\n      <td>0.740319</td>\n      <td>-0.405434</td>\n      <td>1.0</td>\n    </tr>\n    <tr>\n      <th>2013-01-02</th>\n      <td>-1.139188</td>\n      <td>1.982379</td>\n      <td>-0.155121</td>\n      <td>-0.133637</td>\n      <td>1.0</td>\n    </tr>\n    <tr>\n      <th>2013-01-03</th>\n      <td>1.694619</td>\n      <td>-0.246373</td>\n      <td>-0.774335</td>\n      <td>-0.571744</td>\n      <td>5.0</td>\n    </tr>\n    <tr>\n      <th>2013-01-04</th>\n      <td>2.212809</td>\n      <td>-0.753112</td>\n      <td>1.207536</td>\n      <td>0.317436</td>\n      <td>5.0</td>\n    </tr>\n  </tbody>\n</table>\n</div>"
     },
     "execution_count": 7,
     "metadata": {},
     "output_type": "execute_result"
    }
   ],
   "source": [
    "df1.fillna(value=5)"
   ],
   "metadata": {
    "collapsed": false,
    "pycharm": {
     "name": "#%%\n"
    }
   }
  },
  {
   "cell_type": "code",
   "execution_count": 8,
   "outputs": [
    {
     "data": {
      "text/plain": "                A      B      C      D      E\n2013-01-01  False  False  False  False  False\n2013-01-02  False  False  False  False  False\n2013-01-03  False  False  False  False   True\n2013-01-04  False  False  False  False   True",
      "text/html": "<div>\n<style scoped>\n    .dataframe tbody tr th:only-of-type {\n        vertical-align: middle;\n    }\n\n    .dataframe tbody tr th {\n        vertical-align: top;\n    }\n\n    .dataframe thead th {\n        text-align: right;\n    }\n</style>\n<table border=\"1\" class=\"dataframe\">\n  <thead>\n    <tr style=\"text-align: right;\">\n      <th></th>\n      <th>A</th>\n      <th>B</th>\n      <th>C</th>\n      <th>D</th>\n      <th>E</th>\n    </tr>\n  </thead>\n  <tbody>\n    <tr>\n      <th>2013-01-01</th>\n      <td>False</td>\n      <td>False</td>\n      <td>False</td>\n      <td>False</td>\n      <td>False</td>\n    </tr>\n    <tr>\n      <th>2013-01-02</th>\n      <td>False</td>\n      <td>False</td>\n      <td>False</td>\n      <td>False</td>\n      <td>False</td>\n    </tr>\n    <tr>\n      <th>2013-01-03</th>\n      <td>False</td>\n      <td>False</td>\n      <td>False</td>\n      <td>False</td>\n      <td>True</td>\n    </tr>\n    <tr>\n      <th>2013-01-04</th>\n      <td>False</td>\n      <td>False</td>\n      <td>False</td>\n      <td>False</td>\n      <td>True</td>\n    </tr>\n  </tbody>\n</table>\n</div>"
     },
     "execution_count": 8,
     "metadata": {},
     "output_type": "execute_result"
    }
   ],
   "source": [
    "pd.isna(df1)\n"
   ],
   "metadata": {
    "collapsed": false,
    "pycharm": {
     "name": "#%%\n"
    }
   }
  },
  {
   "cell_type": "markdown",
   "source": [
    "### Stats"
   ],
   "metadata": {
    "collapsed": false,
    "pycharm": {
     "name": "#%% md\n"
    }
   }
  },
  {
   "cell_type": "code",
   "execution_count": 9,
   "outputs": [
    {
     "data": {
      "text/plain": "              A         B         C         D    E\ncount  4.000000  4.000000  4.000000  4.000000  2.0\nmean   0.849304  0.233089  0.254600 -0.198345  1.0\nstd    1.480580  1.203182  0.888930  0.388386  0.0\nmin   -1.139188 -0.753112 -0.774335 -0.571744  1.0\n25%    0.186934 -0.373058 -0.309925 -0.447012  1.0\n50%    1.161797 -0.148456  0.292599 -0.269536  1.0\n75%    1.824166  0.457691  0.857123 -0.020869  1.0\nmax    2.212809  1.982379  1.207536  0.317436  1.0",
      "text/html": "<div>\n<style scoped>\n    .dataframe tbody tr th:only-of-type {\n        vertical-align: middle;\n    }\n\n    .dataframe tbody tr th {\n        vertical-align: top;\n    }\n\n    .dataframe thead th {\n        text-align: right;\n    }\n</style>\n<table border=\"1\" class=\"dataframe\">\n  <thead>\n    <tr style=\"text-align: right;\">\n      <th></th>\n      <th>A</th>\n      <th>B</th>\n      <th>C</th>\n      <th>D</th>\n      <th>E</th>\n    </tr>\n  </thead>\n  <tbody>\n    <tr>\n      <th>count</th>\n      <td>4.000000</td>\n      <td>4.000000</td>\n      <td>4.000000</td>\n      <td>4.000000</td>\n      <td>2.0</td>\n    </tr>\n    <tr>\n      <th>mean</th>\n      <td>0.849304</td>\n      <td>0.233089</td>\n      <td>0.254600</td>\n      <td>-0.198345</td>\n      <td>1.0</td>\n    </tr>\n    <tr>\n      <th>std</th>\n      <td>1.480580</td>\n      <td>1.203182</td>\n      <td>0.888930</td>\n      <td>0.388386</td>\n      <td>0.0</td>\n    </tr>\n    <tr>\n      <th>min</th>\n      <td>-1.139188</td>\n      <td>-0.753112</td>\n      <td>-0.774335</td>\n      <td>-0.571744</td>\n      <td>1.0</td>\n    </tr>\n    <tr>\n      <th>25%</th>\n      <td>0.186934</td>\n      <td>-0.373058</td>\n      <td>-0.309925</td>\n      <td>-0.447012</td>\n      <td>1.0</td>\n    </tr>\n    <tr>\n      <th>50%</th>\n      <td>1.161797</td>\n      <td>-0.148456</td>\n      <td>0.292599</td>\n      <td>-0.269536</td>\n      <td>1.0</td>\n    </tr>\n    <tr>\n      <th>75%</th>\n      <td>1.824166</td>\n      <td>0.457691</td>\n      <td>0.857123</td>\n      <td>-0.020869</td>\n      <td>1.0</td>\n    </tr>\n    <tr>\n      <th>max</th>\n      <td>2.212809</td>\n      <td>1.982379</td>\n      <td>1.207536</td>\n      <td>0.317436</td>\n      <td>1.0</td>\n    </tr>\n  </tbody>\n</table>\n</div>"
     },
     "execution_count": 9,
     "metadata": {},
     "output_type": "execute_result"
    }
   ],
   "source": [
    "df1.describe()"
   ],
   "metadata": {
    "collapsed": false,
    "pycharm": {
     "name": "#%%\n"
    }
   }
  },
  {
   "cell_type": "code",
   "execution_count": 12,
   "outputs": [
    {
     "data": {
      "text/plain": "A    3.397214\nB    0.932355\nC    1.018398\nD   -0.793380\nE    2.000000\ndtype: float64"
     },
     "execution_count": 12,
     "metadata": {},
     "output_type": "execute_result"
    }
   ],
   "source": [
    "df1.sum()  # default axis=0"
   ],
   "metadata": {
    "collapsed": false,
    "pycharm": {
     "name": "#%%\n"
    }
   }
  },
  {
   "cell_type": "code",
   "execution_count": 13,
   "outputs": [
    {
     "data": {
      "text/plain": "2013-01-01    1.913321\n2013-01-02    1.554433\n2013-01-03    0.102166\n2013-01-04    2.984668\nFreq: D, dtype: float64"
     },
     "execution_count": 13,
     "metadata": {},
     "output_type": "execute_result"
    }
   ],
   "source": [
    "df1.sum(axis=1)"
   ],
   "metadata": {
    "collapsed": false,
    "pycharm": {
     "name": "#%%\n"
    }
   }
  },
  {
   "cell_type": "code",
   "execution_count": 14,
   "outputs": [
    {
     "data": {
      "text/plain": "2013-01-01    NaN\n2013-01-02    NaN\n2013-01-03    1.0\n2013-01-04    3.0\n2013-01-05    5.0\n2013-01-06    NaN\nFreq: D, dtype: float64"
     },
     "execution_count": 14,
     "metadata": {},
     "output_type": "execute_result"
    }
   ],
   "source": [
    "s = pd.Series([1, 3, 5, np.nan, 6, 8], index=dates).shift(2)\n",
    "s\n",
    "\n"
   ],
   "metadata": {
    "collapsed": false,
    "pycharm": {
     "name": "#%%\n"
    }
   }
  },
  {
   "cell_type": "code",
   "execution_count": 16,
   "outputs": [
    {
     "data": {
      "text/plain": "                   A         B         C         D\n2013-01-01  0.628975 -0.050539  0.740319 -0.405434\n2013-01-02 -1.139188  1.982379 -0.155121 -0.133637\n2013-01-03  1.694619 -0.246373 -0.774335 -0.571744\n2013-01-04  2.212809 -0.753112  1.207536  0.317436\n2013-01-05 -0.450386 -2.333118  0.630317  1.601351\n2013-01-06 -0.077718 -0.459914  1.083592 -0.014645",
      "text/html": "<div>\n<style scoped>\n    .dataframe tbody tr th:only-of-type {\n        vertical-align: middle;\n    }\n\n    .dataframe tbody tr th {\n        vertical-align: top;\n    }\n\n    .dataframe thead th {\n        text-align: right;\n    }\n</style>\n<table border=\"1\" class=\"dataframe\">\n  <thead>\n    <tr style=\"text-align: right;\">\n      <th></th>\n      <th>A</th>\n      <th>B</th>\n      <th>C</th>\n      <th>D</th>\n    </tr>\n  </thead>\n  <tbody>\n    <tr>\n      <th>2013-01-01</th>\n      <td>0.628975</td>\n      <td>-0.050539</td>\n      <td>0.740319</td>\n      <td>-0.405434</td>\n    </tr>\n    <tr>\n      <th>2013-01-02</th>\n      <td>-1.139188</td>\n      <td>1.982379</td>\n      <td>-0.155121</td>\n      <td>-0.133637</td>\n    </tr>\n    <tr>\n      <th>2013-01-03</th>\n      <td>1.694619</td>\n      <td>-0.246373</td>\n      <td>-0.774335</td>\n      <td>-0.571744</td>\n    </tr>\n    <tr>\n      <th>2013-01-04</th>\n      <td>2.212809</td>\n      <td>-0.753112</td>\n      <td>1.207536</td>\n      <td>0.317436</td>\n    </tr>\n    <tr>\n      <th>2013-01-05</th>\n      <td>-0.450386</td>\n      <td>-2.333118</td>\n      <td>0.630317</td>\n      <td>1.601351</td>\n    </tr>\n    <tr>\n      <th>2013-01-06</th>\n      <td>-0.077718</td>\n      <td>-0.459914</td>\n      <td>1.083592</td>\n      <td>-0.014645</td>\n    </tr>\n  </tbody>\n</table>\n</div>"
     },
     "execution_count": 16,
     "metadata": {},
     "output_type": "execute_result"
    }
   ],
   "source": [
    "df"
   ],
   "metadata": {
    "collapsed": false,
    "pycharm": {
     "name": "#%%\n"
    }
   }
  },
  {
   "cell_type": "code",
   "execution_count": null,
   "outputs": [],
   "source": [
    "df.sub(s, axis='index')  # subtract from dataframe or series"
   ],
   "metadata": {
    "collapsed": false,
    "pycharm": {
     "name": "#%%\n"
    }
   }
  },
  {
   "cell_type": "markdown",
   "source": [
    "### Histogramming"
   ],
   "metadata": {
    "collapsed": false,
    "pycharm": {
     "name": "#%% md\n"
    }
   }
  },
  {
   "cell_type": "code",
   "execution_count": 23,
   "outputs": [
    {
     "data": {
      "text/plain": "3    3\n0    3\n5    2\n4    2\ndtype: int64"
     },
     "execution_count": 23,
     "metadata": {},
     "output_type": "execute_result"
    }
   ],
   "source": [
    "s = pd.Series(np.random.randint(0, 7, size=10))\n",
    "s.value_counts()"
   ],
   "metadata": {
    "collapsed": false,
    "pycharm": {
     "name": "#%%\n"
    }
   }
  },
  {
   "cell_type": "markdown",
   "source": [
    "### String process"
   ],
   "metadata": {
    "collapsed": false
   }
  },
  {
   "cell_type": "code",
   "execution_count": 24,
   "outputs": [
    {
     "data": {
      "text/plain": "0       a\n1       b\n2       c\n3    aaba\n4    baca\n5     NaN\n6    caba\n7     dog\n8     cat\ndtype: object"
     },
     "execution_count": 24,
     "metadata": {},
     "output_type": "execute_result"
    }
   ],
   "source": [
    "s = pd.Series(['A', 'B', 'C', 'Aaba', 'Baca', np.nan, 'CABA', 'dog', 'cat'])\n",
    "s.str.lower()"
   ],
   "metadata": {
    "collapsed": false,
    "pycharm": {
     "name": "#%%\n"
    }
   }
  },
  {
   "cell_type": "markdown",
   "source": [
    "### Merge\n",
    "Concat, Join"
   ],
   "metadata": {
    "collapsed": false
   }
  },
  {
   "cell_type": "markdown",
   "source": [
    "Concat"
   ],
   "metadata": {
    "collapsed": false
   }
  },
  {
   "cell_type": "code",
   "source": [
    "df = pd.DataFrame(np.random.randn(10, 4))\n",
    "df"
   ],
   "metadata": {
    "collapsed": false,
    "pycharm": {
     "name": "#%%\n"
    }
   },
   "execution_count": 26,
   "outputs": [
    {
     "data": {
      "text/plain": "          0         1         2         3\n0 -1.633722 -0.231319 -0.962862  1.158949\n1  1.013141  1.218017  0.103905 -3.599998\n2 -0.768008 -2.520732 -0.283218  0.214540\n3 -0.062998  0.628587 -1.603904 -1.940352\n4  0.929307  2.208476 -1.528970  0.396325\n5 -0.409758  1.321448  0.118690 -1.355096\n6 -0.692140  1.142976  1.049110 -0.702224\n7 -0.307296  0.777030  0.869808  1.631430\n8  1.134492  0.525172 -0.268441  0.896173\n9  1.610214  0.824158  0.877043  0.888239",
      "text/html": "<div>\n<style scoped>\n    .dataframe tbody tr th:only-of-type {\n        vertical-align: middle;\n    }\n\n    .dataframe tbody tr th {\n        vertical-align: top;\n    }\n\n    .dataframe thead th {\n        text-align: right;\n    }\n</style>\n<table border=\"1\" class=\"dataframe\">\n  <thead>\n    <tr style=\"text-align: right;\">\n      <th></th>\n      <th>0</th>\n      <th>1</th>\n      <th>2</th>\n      <th>3</th>\n    </tr>\n  </thead>\n  <tbody>\n    <tr>\n      <th>0</th>\n      <td>-1.633722</td>\n      <td>-0.231319</td>\n      <td>-0.962862</td>\n      <td>1.158949</td>\n    </tr>\n    <tr>\n      <th>1</th>\n      <td>1.013141</td>\n      <td>1.218017</td>\n      <td>0.103905</td>\n      <td>-3.599998</td>\n    </tr>\n    <tr>\n      <th>2</th>\n      <td>-0.768008</td>\n      <td>-2.520732</td>\n      <td>-0.283218</td>\n      <td>0.214540</td>\n    </tr>\n    <tr>\n      <th>3</th>\n      <td>-0.062998</td>\n      <td>0.628587</td>\n      <td>-1.603904</td>\n      <td>-1.940352</td>\n    </tr>\n    <tr>\n      <th>4</th>\n      <td>0.929307</td>\n      <td>2.208476</td>\n      <td>-1.528970</td>\n      <td>0.396325</td>\n    </tr>\n    <tr>\n      <th>5</th>\n      <td>-0.409758</td>\n      <td>1.321448</td>\n      <td>0.118690</td>\n      <td>-1.355096</td>\n    </tr>\n    <tr>\n      <th>6</th>\n      <td>-0.692140</td>\n      <td>1.142976</td>\n      <td>1.049110</td>\n      <td>-0.702224</td>\n    </tr>\n    <tr>\n      <th>7</th>\n      <td>-0.307296</td>\n      <td>0.777030</td>\n      <td>0.869808</td>\n      <td>1.631430</td>\n    </tr>\n    <tr>\n      <th>8</th>\n      <td>1.134492</td>\n      <td>0.525172</td>\n      <td>-0.268441</td>\n      <td>0.896173</td>\n    </tr>\n    <tr>\n      <th>9</th>\n      <td>1.610214</td>\n      <td>0.824158</td>\n      <td>0.877043</td>\n      <td>0.888239</td>\n    </tr>\n  </tbody>\n</table>\n</div>"
     },
     "execution_count": 26,
     "metadata": {},
     "output_type": "execute_result"
    }
   ]
  },
  {
   "cell_type": "code",
   "execution_count": 29,
   "outputs": [
    {
     "data": {
      "text/plain": "          0         1         2         3\n0 -1.633722 -0.231319 -0.962862  1.158949\n1  1.013141  1.218017  0.103905 -3.599998\n2 -0.768008 -2.520732 -0.283218  0.214540\n3 -0.062998  0.628587 -1.603904 -1.940352\n4  0.929307  2.208476 -1.528970  0.396325\n5 -0.409758  1.321448  0.118690 -1.355096\n6 -0.692140  1.142976  1.049110 -0.702224\n7 -0.307296  0.777030  0.869808  1.631430\n8  1.134492  0.525172 -0.268441  0.896173\n9  1.610214  0.824158  0.877043  0.888239",
      "text/html": "<div>\n<style scoped>\n    .dataframe tbody tr th:only-of-type {\n        vertical-align: middle;\n    }\n\n    .dataframe tbody tr th {\n        vertical-align: top;\n    }\n\n    .dataframe thead th {\n        text-align: right;\n    }\n</style>\n<table border=\"1\" class=\"dataframe\">\n  <thead>\n    <tr style=\"text-align: right;\">\n      <th></th>\n      <th>0</th>\n      <th>1</th>\n      <th>2</th>\n      <th>3</th>\n    </tr>\n  </thead>\n  <tbody>\n    <tr>\n      <th>0</th>\n      <td>-1.633722</td>\n      <td>-0.231319</td>\n      <td>-0.962862</td>\n      <td>1.158949</td>\n    </tr>\n    <tr>\n      <th>1</th>\n      <td>1.013141</td>\n      <td>1.218017</td>\n      <td>0.103905</td>\n      <td>-3.599998</td>\n    </tr>\n    <tr>\n      <th>2</th>\n      <td>-0.768008</td>\n      <td>-2.520732</td>\n      <td>-0.283218</td>\n      <td>0.214540</td>\n    </tr>\n    <tr>\n      <th>3</th>\n      <td>-0.062998</td>\n      <td>0.628587</td>\n      <td>-1.603904</td>\n      <td>-1.940352</td>\n    </tr>\n    <tr>\n      <th>4</th>\n      <td>0.929307</td>\n      <td>2.208476</td>\n      <td>-1.528970</td>\n      <td>0.396325</td>\n    </tr>\n    <tr>\n      <th>5</th>\n      <td>-0.409758</td>\n      <td>1.321448</td>\n      <td>0.118690</td>\n      <td>-1.355096</td>\n    </tr>\n    <tr>\n      <th>6</th>\n      <td>-0.692140</td>\n      <td>1.142976</td>\n      <td>1.049110</td>\n      <td>-0.702224</td>\n    </tr>\n    <tr>\n      <th>7</th>\n      <td>-0.307296</td>\n      <td>0.777030</td>\n      <td>0.869808</td>\n      <td>1.631430</td>\n    </tr>\n    <tr>\n      <th>8</th>\n      <td>1.134492</td>\n      <td>0.525172</td>\n      <td>-0.268441</td>\n      <td>0.896173</td>\n    </tr>\n    <tr>\n      <th>9</th>\n      <td>1.610214</td>\n      <td>0.824158</td>\n      <td>0.877043</td>\n      <td>0.888239</td>\n    </tr>\n  </tbody>\n</table>\n</div>"
     },
     "execution_count": 29,
     "metadata": {},
     "output_type": "execute_result"
    }
   ],
   "source": [
    "pieces = [df[:3], df[3:5], df[5:7], df[7:]]\n",
    "pd.concat(pieces)"
   ],
   "metadata": {
    "collapsed": false,
    "pycharm": {
     "name": "#%%\n"
    }
   }
  },
  {
   "cell_type": "markdown",
   "source": [
    "### Join"
   ],
   "metadata": {
    "collapsed": false,
    "pycharm": {
     "name": "#%% md\n"
    }
   }
  },
  {
   "cell_type": "markdown",
   "source": [
    "#### same classes"
   ],
   "metadata": {
    "collapsed": false,
    "pycharm": {
     "name": "#%% md\n"
    }
   }
  },
  {
   "cell_type": "code",
   "execution_count": 33,
   "outputs": [
    {
     "data": {
      "text/plain": "   key  lval\n0  foo     1\n1  foo     2",
      "text/html": "<div>\n<style scoped>\n    .dataframe tbody tr th:only-of-type {\n        vertical-align: middle;\n    }\n\n    .dataframe tbody tr th {\n        vertical-align: top;\n    }\n\n    .dataframe thead th {\n        text-align: right;\n    }\n</style>\n<table border=\"1\" class=\"dataframe\">\n  <thead>\n    <tr style=\"text-align: right;\">\n      <th></th>\n      <th>key</th>\n      <th>lval</th>\n    </tr>\n  </thead>\n  <tbody>\n    <tr>\n      <th>0</th>\n      <td>foo</td>\n      <td>1</td>\n    </tr>\n    <tr>\n      <th>1</th>\n      <td>foo</td>\n      <td>2</td>\n    </tr>\n  </tbody>\n</table>\n</div>"
     },
     "execution_count": 33,
     "metadata": {},
     "output_type": "execute_result"
    }
   ],
   "source": [
    "left = pd.DataFrame({'key': ['foo', 'foo'], 'lval': [1, 2]})\n",
    "right = pd.DataFrame({'key': ['foo', 'foo'], 'rval': [4, 5]})\n",
    "left"
   ],
   "metadata": {
    "collapsed": false,
    "pycharm": {
     "name": "#%%\n"
    }
   }
  },
  {
   "cell_type": "code",
   "execution_count": 34,
   "outputs": [
    {
     "data": {
      "text/plain": "   key  rval\n0  foo     4\n1  foo     5",
      "text/html": "<div>\n<style scoped>\n    .dataframe tbody tr th:only-of-type {\n        vertical-align: middle;\n    }\n\n    .dataframe tbody tr th {\n        vertical-align: top;\n    }\n\n    .dataframe thead th {\n        text-align: right;\n    }\n</style>\n<table border=\"1\" class=\"dataframe\">\n  <thead>\n    <tr style=\"text-align: right;\">\n      <th></th>\n      <th>key</th>\n      <th>rval</th>\n    </tr>\n  </thead>\n  <tbody>\n    <tr>\n      <th>0</th>\n      <td>foo</td>\n      <td>4</td>\n    </tr>\n    <tr>\n      <th>1</th>\n      <td>foo</td>\n      <td>5</td>\n    </tr>\n  </tbody>\n</table>\n</div>"
     },
     "execution_count": 34,
     "metadata": {},
     "output_type": "execute_result"
    }
   ],
   "source": [
    "right"
   ],
   "metadata": {
    "collapsed": false,
    "pycharm": {
     "name": "#%%\n"
    }
   }
  },
  {
   "cell_type": "code",
   "execution_count": 35,
   "outputs": [
    {
     "data": {
      "text/plain": "   key  lval  rval\n0  foo     1     4\n1  foo     1     5\n2  foo     2     4\n3  foo     2     5",
      "text/html": "<div>\n<style scoped>\n    .dataframe tbody tr th:only-of-type {\n        vertical-align: middle;\n    }\n\n    .dataframe tbody tr th {\n        vertical-align: top;\n    }\n\n    .dataframe thead th {\n        text-align: right;\n    }\n</style>\n<table border=\"1\" class=\"dataframe\">\n  <thead>\n    <tr style=\"text-align: right;\">\n      <th></th>\n      <th>key</th>\n      <th>lval</th>\n      <th>rval</th>\n    </tr>\n  </thead>\n  <tbody>\n    <tr>\n      <th>0</th>\n      <td>foo</td>\n      <td>1</td>\n      <td>4</td>\n    </tr>\n    <tr>\n      <th>1</th>\n      <td>foo</td>\n      <td>1</td>\n      <td>5</td>\n    </tr>\n    <tr>\n      <th>2</th>\n      <td>foo</td>\n      <td>2</td>\n      <td>4</td>\n    </tr>\n    <tr>\n      <th>3</th>\n      <td>foo</td>\n      <td>2</td>\n      <td>5</td>\n    </tr>\n  </tbody>\n</table>\n</div>"
     },
     "execution_count": 35,
     "metadata": {},
     "output_type": "execute_result"
    }
   ],
   "source": [
    "pd.merge(left, right, on='key')"
   ],
   "metadata": {
    "collapsed": false,
    "pycharm": {
     "name": "#%%\n"
    }
   }
  },
  {
   "cell_type": "markdown",
   "source": [
    "#### different classes"
   ],
   "metadata": {
    "collapsed": false
   }
  },
  {
   "cell_type": "code",
   "execution_count": 37,
   "outputs": [
    {
     "data": {
      "text/plain": "   key  lval  rval\n0  foo     1     4\n1  bar     2     5",
      "text/html": "<div>\n<style scoped>\n    .dataframe tbody tr th:only-of-type {\n        vertical-align: middle;\n    }\n\n    .dataframe tbody tr th {\n        vertical-align: top;\n    }\n\n    .dataframe thead th {\n        text-align: right;\n    }\n</style>\n<table border=\"1\" class=\"dataframe\">\n  <thead>\n    <tr style=\"text-align: right;\">\n      <th></th>\n      <th>key</th>\n      <th>lval</th>\n      <th>rval</th>\n    </tr>\n  </thead>\n  <tbody>\n    <tr>\n      <th>0</th>\n      <td>foo</td>\n      <td>1</td>\n      <td>4</td>\n    </tr>\n    <tr>\n      <th>1</th>\n      <td>bar</td>\n      <td>2</td>\n      <td>5</td>\n    </tr>\n  </tbody>\n</table>\n</div>"
     },
     "execution_count": 37,
     "metadata": {},
     "output_type": "execute_result"
    }
   ],
   "source": [
    "left = pd.DataFrame({'key': ['foo', 'bar'], 'lval': [1, 2]})\n",
    "right = pd.DataFrame({'key': ['foo', 'bar'], 'rval': [4, 5]})\n",
    "pd.merge(left, right, on='key')\n"
   ],
   "metadata": {
    "collapsed": false,
    "pycharm": {
     "name": "#%%\n"
    }
   }
  }
 ],
 "metadata": {
  "kernelspec": {
   "display_name": "Python 3",
   "language": "python",
   "name": "python3"
  },
  "language_info": {
   "codemirror_mode": {
    "name": "ipython",
    "version": 2
   },
   "file_extension": ".py",
   "mimetype": "text/x-python",
   "name": "python",
   "nbconvert_exporter": "python",
   "pygments_lexer": "ipython2",
   "version": "2.7.6"
  }
 },
 "nbformat": 4,
 "nbformat_minor": 0
}