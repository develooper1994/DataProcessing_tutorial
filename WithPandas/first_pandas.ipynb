{
 "cells": [
  {
   "cell_type": "markdown",
   "source": [
    "# Pandas Series, DataFrame\n",
    "Pandas more processes\n",
    "data more easily than SQL."
   ],
   "metadata": {
    "collapsed": false,
    "pycharm": {
     "name": "#%% md\n"
    }
   }
  },
  {
   "cell_type": "code",
   "execution_count": 2,
   "metadata": {
    "collapsed": true
   },
   "outputs": [
    {
     "name": "stdout",
     "output_type": "stream",
     "text": [
      "D:\\datasets\\csv\\airports.csv\n"
     ]
    }
   ],
   "source": [
    "import path\n",
    "import pprint\n",
    "\n",
    "import numpy as np\n",
    "import pandas as pd\n",
    "import sqlite3\n",
    "\n",
    "dataset_path = r\"D:\\datasets\\csv\"\n",
    "dataset_name = r\"airports.csv\"\n",
    "dataset = dataset_path + \"\\\\\" + dataset_name\n",
    "print(dataset)"
   ]
  },
  {
   "cell_type": "code",
   "execution_count": 3,
   "outputs": [
    {
     "data": {
      "text/plain": "       id ident           type                                name  \\\n0    6523   00A       heliport                   Total Rf Heliport   \n1  323361  00AA  small_airport                Aero B Ranch Airport   \n2    6524  00AK  small_airport                        Lowell Field   \n3    6525  00AL  small_airport                        Epps Airpark   \n4    6526  00AR         closed  Newport Hospital & Clinic Heliport   \n\n   latitude_deg  longitude_deg  elevation_ft continent iso_country iso_region  \\\n0     40.070801     -74.933601          11.0       NaN          US      US-PA   \n1     38.704022    -101.473911        3435.0       NaN          US      US-KS   \n2     59.949200    -151.695999         450.0       NaN          US      US-AK   \n3     34.864799     -86.770302         820.0       NaN          US      US-AL   \n4     35.608700     -91.254898         237.0       NaN          US      US-AR   \n\n   municipality scheduled_service gps_code iata_code local_code home_link  \\\n0      Bensalem                no      00A       NaN        00A       NaN   \n1         Leoti                no     00AA       NaN       00AA       NaN   \n2  Anchor Point                no     00AK       NaN       00AK       NaN   \n3       Harvest                no     00AL       NaN       00AL       NaN   \n4       Newport                no      NaN       NaN        NaN       NaN   \n\n  wikipedia_link keywords  \n0            NaN      NaN  \n1            NaN      NaN  \n2            NaN      NaN  \n3            NaN      NaN  \n4            NaN     00AR  ",
      "text/html": "<div>\n<style scoped>\n    .dataframe tbody tr th:only-of-type {\n        vertical-align: middle;\n    }\n\n    .dataframe tbody tr th {\n        vertical-align: top;\n    }\n\n    .dataframe thead th {\n        text-align: right;\n    }\n</style>\n<table border=\"1\" class=\"dataframe\">\n  <thead>\n    <tr style=\"text-align: right;\">\n      <th></th>\n      <th>id</th>\n      <th>ident</th>\n      <th>type</th>\n      <th>name</th>\n      <th>latitude_deg</th>\n      <th>longitude_deg</th>\n      <th>elevation_ft</th>\n      <th>continent</th>\n      <th>iso_country</th>\n      <th>iso_region</th>\n      <th>municipality</th>\n      <th>scheduled_service</th>\n      <th>gps_code</th>\n      <th>iata_code</th>\n      <th>local_code</th>\n      <th>home_link</th>\n      <th>wikipedia_link</th>\n      <th>keywords</th>\n    </tr>\n  </thead>\n  <tbody>\n    <tr>\n      <th>0</th>\n      <td>6523</td>\n      <td>00A</td>\n      <td>heliport</td>\n      <td>Total Rf Heliport</td>\n      <td>40.070801</td>\n      <td>-74.933601</td>\n      <td>11.0</td>\n      <td>NaN</td>\n      <td>US</td>\n      <td>US-PA</td>\n      <td>Bensalem</td>\n      <td>no</td>\n      <td>00A</td>\n      <td>NaN</td>\n      <td>00A</td>\n      <td>NaN</td>\n      <td>NaN</td>\n      <td>NaN</td>\n    </tr>\n    <tr>\n      <th>1</th>\n      <td>323361</td>\n      <td>00AA</td>\n      <td>small_airport</td>\n      <td>Aero B Ranch Airport</td>\n      <td>38.704022</td>\n      <td>-101.473911</td>\n      <td>3435.0</td>\n      <td>NaN</td>\n      <td>US</td>\n      <td>US-KS</td>\n      <td>Leoti</td>\n      <td>no</td>\n      <td>00AA</td>\n      <td>NaN</td>\n      <td>00AA</td>\n      <td>NaN</td>\n      <td>NaN</td>\n      <td>NaN</td>\n    </tr>\n    <tr>\n      <th>2</th>\n      <td>6524</td>\n      <td>00AK</td>\n      <td>small_airport</td>\n      <td>Lowell Field</td>\n      <td>59.949200</td>\n      <td>-151.695999</td>\n      <td>450.0</td>\n      <td>NaN</td>\n      <td>US</td>\n      <td>US-AK</td>\n      <td>Anchor Point</td>\n      <td>no</td>\n      <td>00AK</td>\n      <td>NaN</td>\n      <td>00AK</td>\n      <td>NaN</td>\n      <td>NaN</td>\n      <td>NaN</td>\n    </tr>\n    <tr>\n      <th>3</th>\n      <td>6525</td>\n      <td>00AL</td>\n      <td>small_airport</td>\n      <td>Epps Airpark</td>\n      <td>34.864799</td>\n      <td>-86.770302</td>\n      <td>820.0</td>\n      <td>NaN</td>\n      <td>US</td>\n      <td>US-AL</td>\n      <td>Harvest</td>\n      <td>no</td>\n      <td>00AL</td>\n      <td>NaN</td>\n      <td>00AL</td>\n      <td>NaN</td>\n      <td>NaN</td>\n      <td>NaN</td>\n    </tr>\n    <tr>\n      <th>4</th>\n      <td>6526</td>\n      <td>00AR</td>\n      <td>closed</td>\n      <td>Newport Hospital &amp; Clinic Heliport</td>\n      <td>35.608700</td>\n      <td>-91.254898</td>\n      <td>237.0</td>\n      <td>NaN</td>\n      <td>US</td>\n      <td>US-AR</td>\n      <td>Newport</td>\n      <td>no</td>\n      <td>NaN</td>\n      <td>NaN</td>\n      <td>NaN</td>\n      <td>NaN</td>\n      <td>NaN</td>\n      <td>00AR</td>\n    </tr>\n  </tbody>\n</table>\n</div>"
     },
     "execution_count": 3,
     "metadata": {},
     "output_type": "execute_result"
    }
   ],
   "source": [
    "df = pd.read_csv(dataset)\n",
    "# df = pd.read_json(dataset)\n",
    "# df = pd.read_excel(dataset)\n",
    "\n",
    "# connection = sqlite3.connect(dataset)\n",
    "# df = pd.read_sql_query(r\"SELECT * FROM airport\", connection)"
   ],
   "metadata": {
    "collapsed": false,
    "pycharm": {
     "name": "#%%\n"
    }
   }
  },
  {
   "cell_type": "markdown",
   "source": [
    "First records"
   ],
   "metadata": {
    "collapsed": false,
    "pycharm": {
     "name": "#%% md\n"
    }
   }
  },
  {
   "cell_type": "code",
   "source": [
    "df.head()  # same -> df.head(5)\n"
   ],
   "metadata": {
    "collapsed": false,
    "pycharm": {
     "name": "#%%\n"
    }
   },
   "execution_count": null,
   "outputs": []
  },
  {
   "cell_type": "markdown",
   "source": [
    "last records"
   ],
   "metadata": {
    "collapsed": false
   }
  },
  {
   "cell_type": "code",
   "execution_count": 39,
   "outputs": [
    {
     "data": {
      "text/plain": "           id    ident                   type  \\\n57126   32753     ZYYY         medium_airport   \n57127   46378  ZZ-0001               heliport   \n57128  307326  ZZ-0002          small_airport   \n57129  313629     ZZZZ          small_airport   \n57130  329884  00A00AA  heliportsmall_airport   \n\n                                        name  latitude_deg  longitude_deg  \\\n57126                Shenyang Dongta Airport     41.784401     123.496002   \n57127                        Sealand Helipad     51.894444       1.482500   \n57128              Glorioso Islands Airstrip    -11.584278      47.296389   \n57129                 Satsuma Iōjima Airport     30.784722     130.270556   \n57130  Total Rf HeliportAero B Ranch Airport     78.774823    -176.407512   \n\n       elevation_ft continent iso_country  iso_region      municipality  \\\n57126           NaN        AS          CN       CN-21          Shenyang   \n57127          40.0        EU          GB      GB-ENG           Sealand   \n57128          11.0        AF          TF      TF-U-A  Grande Glorieuse   \n57129         338.0        AS          JP       JP-46      Mishima-Mura   \n57130        3446.0       NaN        USUS  US-PAUS-KS     BensalemLeoti   \n\n      scheduled_service gps_code iata_code local_code  \\\n57126                no     ZYYY       NaN        NaN   \n57127                no      NaN       NaN        NaN   \n57128                no      NaN       NaN        NaN   \n57129                no     RJX7       NaN       RJX7   \n57130              nono  00A00AA       NaN    00A00AA   \n\n                        home_link  \\\n57126                         NaN   \n57127  http://www.sealandgov.org/   \n57128                         NaN   \n57129                         NaN   \n57130                         NaN   \n\n                                          wikipedia_link              keywords  \n57126                                                NaN                   NaN  \n57127  https://en.wikipedia.org/wiki/Principality_of_...  Roughs Tower Helipad  \n57128                                                NaN                   NaN  \n57129  http://wikimapia.org/6705190/Satsuma-Iwo-jima-...  SATSUMA,IWOJIMA,RJX7  \n57130                                                NaN                   NaN  ",
      "text/html": "<div>\n<style scoped>\n    .dataframe tbody tr th:only-of-type {\n        vertical-align: middle;\n    }\n\n    .dataframe tbody tr th {\n        vertical-align: top;\n    }\n\n    .dataframe thead th {\n        text-align: right;\n    }\n</style>\n<table border=\"1\" class=\"dataframe\">\n  <thead>\n    <tr style=\"text-align: right;\">\n      <th></th>\n      <th>id</th>\n      <th>ident</th>\n      <th>type</th>\n      <th>name</th>\n      <th>latitude_deg</th>\n      <th>longitude_deg</th>\n      <th>elevation_ft</th>\n      <th>continent</th>\n      <th>iso_country</th>\n      <th>iso_region</th>\n      <th>municipality</th>\n      <th>scheduled_service</th>\n      <th>gps_code</th>\n      <th>iata_code</th>\n      <th>local_code</th>\n      <th>home_link</th>\n      <th>wikipedia_link</th>\n      <th>keywords</th>\n    </tr>\n  </thead>\n  <tbody>\n    <tr>\n      <th>57126</th>\n      <td>32753</td>\n      <td>ZYYY</td>\n      <td>medium_airport</td>\n      <td>Shenyang Dongta Airport</td>\n      <td>41.784401</td>\n      <td>123.496002</td>\n      <td>NaN</td>\n      <td>AS</td>\n      <td>CN</td>\n      <td>CN-21</td>\n      <td>Shenyang</td>\n      <td>no</td>\n      <td>ZYYY</td>\n      <td>NaN</td>\n      <td>NaN</td>\n      <td>NaN</td>\n      <td>NaN</td>\n      <td>NaN</td>\n    </tr>\n    <tr>\n      <th>57127</th>\n      <td>46378</td>\n      <td>ZZ-0001</td>\n      <td>heliport</td>\n      <td>Sealand Helipad</td>\n      <td>51.894444</td>\n      <td>1.482500</td>\n      <td>40.0</td>\n      <td>EU</td>\n      <td>GB</td>\n      <td>GB-ENG</td>\n      <td>Sealand</td>\n      <td>no</td>\n      <td>NaN</td>\n      <td>NaN</td>\n      <td>NaN</td>\n      <td>http://www.sealandgov.org/</td>\n      <td>https://en.wikipedia.org/wiki/Principality_of_...</td>\n      <td>Roughs Tower Helipad</td>\n    </tr>\n    <tr>\n      <th>57128</th>\n      <td>307326</td>\n      <td>ZZ-0002</td>\n      <td>small_airport</td>\n      <td>Glorioso Islands Airstrip</td>\n      <td>-11.584278</td>\n      <td>47.296389</td>\n      <td>11.0</td>\n      <td>AF</td>\n      <td>TF</td>\n      <td>TF-U-A</td>\n      <td>Grande Glorieuse</td>\n      <td>no</td>\n      <td>NaN</td>\n      <td>NaN</td>\n      <td>NaN</td>\n      <td>NaN</td>\n      <td>NaN</td>\n      <td>NaN</td>\n    </tr>\n    <tr>\n      <th>57129</th>\n      <td>313629</td>\n      <td>ZZZZ</td>\n      <td>small_airport</td>\n      <td>Satsuma Iōjima Airport</td>\n      <td>30.784722</td>\n      <td>130.270556</td>\n      <td>338.0</td>\n      <td>AS</td>\n      <td>JP</td>\n      <td>JP-46</td>\n      <td>Mishima-Mura</td>\n      <td>no</td>\n      <td>RJX7</td>\n      <td>NaN</td>\n      <td>RJX7</td>\n      <td>NaN</td>\n      <td>http://wikimapia.org/6705190/Satsuma-Iwo-jima-...</td>\n      <td>SATSUMA,IWOJIMA,RJX7</td>\n    </tr>\n    <tr>\n      <th>57130</th>\n      <td>329884</td>\n      <td>00A00AA</td>\n      <td>heliportsmall_airport</td>\n      <td>Total Rf HeliportAero B Ranch Airport</td>\n      <td>78.774823</td>\n      <td>-176.407512</td>\n      <td>3446.0</td>\n      <td>NaN</td>\n      <td>USUS</td>\n      <td>US-PAUS-KS</td>\n      <td>BensalemLeoti</td>\n      <td>nono</td>\n      <td>00A00AA</td>\n      <td>NaN</td>\n      <td>00A00AA</td>\n      <td>NaN</td>\n      <td>NaN</td>\n      <td>NaN</td>\n    </tr>\n  </tbody>\n</table>\n</div>"
     },
     "execution_count": 39,
     "metadata": {},
     "output_type": "execute_result"
    }
   ],
   "source": [
    "df.tail()"
   ],
   "metadata": {
    "collapsed": false,
    "pycharm": {
     "name": "#%%\n"
    }
   }
  },
  {
   "cell_type": "code",
   "execution_count": 4,
   "outputs": [
    {
     "data": {
      "text/plain": "Index(['id', 'ident', 'type', 'name', 'latitude_deg', 'longitude_deg',\n       'elevation_ft', 'continent', 'iso_country', 'iso_region',\n       'municipality', 'scheduled_service', 'gps_code', 'iata_code',\n       'local_code', 'home_link', 'wikipedia_link', 'keywords'],\n      dtype='object')"
     },
     "execution_count": 4,
     "metadata": {},
     "output_type": "execute_result"
    }
   ],
   "source": [
    "df.columns"
   ],
   "metadata": {
    "collapsed": false,
    "pycharm": {
     "name": "#%%\n"
    }
   }
  },
  {
   "cell_type": "code",
   "execution_count": 5,
   "outputs": [
    {
     "name": "stdout",
     "output_type": "stream",
     "text": [
      "(57130, 18)\n",
      "2\n",
      "id                     int64\n",
      "ident                 object\n",
      "type                  object\n",
      "name                  object\n",
      "latitude_deg         float64\n",
      "longitude_deg        float64\n",
      "elevation_ft         float64\n",
      "continent             object\n",
      "iso_country           object\n",
      "iso_region            object\n",
      "municipality          object\n",
      "scheduled_service     object\n",
      "gps_code              object\n",
      "iata_code             object\n",
      "local_code            object\n",
      "home_link             object\n",
      "wikipedia_link        object\n",
      "keywords              object\n",
      "dtype: object\n"
     ]
    }
   ],
   "source": [
    "print(df.shape)\n",
    "print(df.ndim)\n",
    "print(df.dtypes)"
   ],
   "metadata": {
    "collapsed": false,
    "pycharm": {
     "name": "#%%\n"
    }
   }
  },
  {
   "cell_type": "code",
   "execution_count": 6,
   "outputs": [
    {
     "name": "stdout",
     "output_type": "stream",
     "text": [
      "<class 'pandas.core.frame.DataFrame'>\n",
      "RangeIndex: 57130 entries, 0 to 57129\n",
      "Data columns (total 18 columns):\n",
      " #   Column             Non-Null Count  Dtype  \n",
      "---  ------             --------------  -----  \n",
      " 0   id                 57130 non-null  int64  \n",
      " 1   ident              57130 non-null  object \n",
      " 2   type               57130 non-null  object \n",
      " 3   name               57130 non-null  object \n",
      " 4   latitude_deg       57130 non-null  float64\n",
      " 5   longitude_deg      57130 non-null  float64\n",
      " 6   elevation_ft       49320 non-null  float64\n",
      " 7   continent          28710 non-null  object \n",
      " 8   iso_country        56884 non-null  object \n",
      " 9   iso_region         57130 non-null  object \n",
      " 10  municipality       51246 non-null  object \n",
      " 11  scheduled_service  57130 non-null  object \n",
      " 12  gps_code           41322 non-null  object \n",
      " 13  iata_code          9229 non-null   object \n",
      " 14  local_code         29559 non-null  object \n",
      " 15  home_link          3100 non-null   object \n",
      " 16  wikipedia_link     10029 non-null  object \n",
      " 17  keywords           10504 non-null  object \n",
      "dtypes: float64(3), int64(1), object(14)\n",
      "memory usage: 7.8+ MB\n"
     ]
    }
   ],
   "source": [
    "df.info()"
   ],
   "metadata": {
    "collapsed": false,
    "pycharm": {
     "name": "#%%\n"
    }
   }
  },
  {
   "cell_type": "code",
   "execution_count": 7,
   "outputs": [
    {
     "data": {
      "text/plain": "                  id  latitude_deg  longitude_deg  elevation_ft\ncount   57130.000000  57130.000000   57130.000000  49320.000000\nmean    92701.573744     25.696515     -34.598165   1251.924818\nstd    127196.235995     27.219547      80.003492   1611.666233\nmin         2.000000    -90.000000    -179.876999  -1266.000000\n25%     14410.250000      8.133008     -92.082676    207.000000\n50%     28835.500000     36.292601     -71.559849    722.000000\n75%     45727.750000     43.783300      14.661181   1510.000000\nmax    335222.000000     90.000000     179.975700  22000.000000",
      "text/html": "<div>\n<style scoped>\n    .dataframe tbody tr th:only-of-type {\n        vertical-align: middle;\n    }\n\n    .dataframe tbody tr th {\n        vertical-align: top;\n    }\n\n    .dataframe thead th {\n        text-align: right;\n    }\n</style>\n<table border=\"1\" class=\"dataframe\">\n  <thead>\n    <tr style=\"text-align: right;\">\n      <th></th>\n      <th>id</th>\n      <th>latitude_deg</th>\n      <th>longitude_deg</th>\n      <th>elevation_ft</th>\n    </tr>\n  </thead>\n  <tbody>\n    <tr>\n      <th>count</th>\n      <td>57130.000000</td>\n      <td>57130.000000</td>\n      <td>57130.000000</td>\n      <td>49320.000000</td>\n    </tr>\n    <tr>\n      <th>mean</th>\n      <td>92701.573744</td>\n      <td>25.696515</td>\n      <td>-34.598165</td>\n      <td>1251.924818</td>\n    </tr>\n    <tr>\n      <th>std</th>\n      <td>127196.235995</td>\n      <td>27.219547</td>\n      <td>80.003492</td>\n      <td>1611.666233</td>\n    </tr>\n    <tr>\n      <th>min</th>\n      <td>2.000000</td>\n      <td>-90.000000</td>\n      <td>-179.876999</td>\n      <td>-1266.000000</td>\n    </tr>\n    <tr>\n      <th>25%</th>\n      <td>14410.250000</td>\n      <td>8.133008</td>\n      <td>-92.082676</td>\n      <td>207.000000</td>\n    </tr>\n    <tr>\n      <th>50%</th>\n      <td>28835.500000</td>\n      <td>36.292601</td>\n      <td>-71.559849</td>\n      <td>722.000000</td>\n    </tr>\n    <tr>\n      <th>75%</th>\n      <td>45727.750000</td>\n      <td>43.783300</td>\n      <td>14.661181</td>\n      <td>1510.000000</td>\n    </tr>\n    <tr>\n      <th>max</th>\n      <td>335222.000000</td>\n      <td>90.000000</td>\n      <td>179.975700</td>\n      <td>22000.000000</td>\n    </tr>\n  </tbody>\n</table>\n</div>"
     },
     "execution_count": 7,
     "metadata": {},
     "output_type": "execute_result"
    }
   ],
   "source": [
    "df.describe()"
   ],
   "metadata": {
    "collapsed": false,
    "pycharm": {
     "name": "#%%\n"
    }
   }
  },
  {
   "cell_type": "markdown",
   "source": [
    "# Indexing\n",
    "### indexing With only integer"
   ],
   "metadata": {
    "collapsed": false,
    "pycharm": {
     "name": "#%% md\n"
    }
   }
  },
  {
   "cell_type": "code",
   "execution_count": 8,
   "outputs": [
    {
     "data": {
      "text/plain": "        id ident           type                            name  latitude_deg  \\\n100   6612  01NE  small_airport                  Detour Airport     40.843601   \n101   6613  01NH  small_airport                  Moore Airfield     43.644500   \n102   6614  01NJ       heliport  Albert Guido Memorial Heliport     40.741798   \n103  45537  01NM  small_airport          Champion Ranch Airport     33.008611   \n104   6615  01NV  small_airport           Lantana Ranch Airport     38.763901   \n\n     longitude_deg  elevation_ft continent iso_country iso_region  \\\n100    -100.653000        3000.0       NaN          US      US-NE   \n101     -72.086998         835.0       NaN          US      US-NH   \n102     -74.137100          10.0       NaN          US      US-NJ   \n103    -104.540278        3630.0       NaN          US      US-NM   \n104    -119.027000        4600.0       NaN          US      US-NV   \n\n    municipality scheduled_service gps_code iata_code local_code home_link  \\\n100    Wellfleet                no     01NE       NaN       01NE       NaN   \n101       Canaan                no     01NH       NaN       01NH       NaN   \n102       Newark                no     01NJ       NaN       01NJ       NaN   \n103      Artesia                no     01NM       NaN       01NM       NaN   \n104    Yerington                no     01NV       NaN       01NV       NaN   \n\n    wikipedia_link keywords  \n100            NaN      NaN  \n101            NaN  Enfield  \n102            NaN      NaN  \n103            NaN      NaN  \n104            NaN      NaN  ",
      "text/html": "<div>\n<style scoped>\n    .dataframe tbody tr th:only-of-type {\n        vertical-align: middle;\n    }\n\n    .dataframe tbody tr th {\n        vertical-align: top;\n    }\n\n    .dataframe thead th {\n        text-align: right;\n    }\n</style>\n<table border=\"1\" class=\"dataframe\">\n  <thead>\n    <tr style=\"text-align: right;\">\n      <th></th>\n      <th>id</th>\n      <th>ident</th>\n      <th>type</th>\n      <th>name</th>\n      <th>latitude_deg</th>\n      <th>longitude_deg</th>\n      <th>elevation_ft</th>\n      <th>continent</th>\n      <th>iso_country</th>\n      <th>iso_region</th>\n      <th>municipality</th>\n      <th>scheduled_service</th>\n      <th>gps_code</th>\n      <th>iata_code</th>\n      <th>local_code</th>\n      <th>home_link</th>\n      <th>wikipedia_link</th>\n      <th>keywords</th>\n    </tr>\n  </thead>\n  <tbody>\n    <tr>\n      <th>100</th>\n      <td>6612</td>\n      <td>01NE</td>\n      <td>small_airport</td>\n      <td>Detour Airport</td>\n      <td>40.843601</td>\n      <td>-100.653000</td>\n      <td>3000.0</td>\n      <td>NaN</td>\n      <td>US</td>\n      <td>US-NE</td>\n      <td>Wellfleet</td>\n      <td>no</td>\n      <td>01NE</td>\n      <td>NaN</td>\n      <td>01NE</td>\n      <td>NaN</td>\n      <td>NaN</td>\n      <td>NaN</td>\n    </tr>\n    <tr>\n      <th>101</th>\n      <td>6613</td>\n      <td>01NH</td>\n      <td>small_airport</td>\n      <td>Moore Airfield</td>\n      <td>43.644500</td>\n      <td>-72.086998</td>\n      <td>835.0</td>\n      <td>NaN</td>\n      <td>US</td>\n      <td>US-NH</td>\n      <td>Canaan</td>\n      <td>no</td>\n      <td>01NH</td>\n      <td>NaN</td>\n      <td>01NH</td>\n      <td>NaN</td>\n      <td>NaN</td>\n      <td>Enfield</td>\n    </tr>\n    <tr>\n      <th>102</th>\n      <td>6614</td>\n      <td>01NJ</td>\n      <td>heliport</td>\n      <td>Albert Guido Memorial Heliport</td>\n      <td>40.741798</td>\n      <td>-74.137100</td>\n      <td>10.0</td>\n      <td>NaN</td>\n      <td>US</td>\n      <td>US-NJ</td>\n      <td>Newark</td>\n      <td>no</td>\n      <td>01NJ</td>\n      <td>NaN</td>\n      <td>01NJ</td>\n      <td>NaN</td>\n      <td>NaN</td>\n      <td>NaN</td>\n    </tr>\n    <tr>\n      <th>103</th>\n      <td>45537</td>\n      <td>01NM</td>\n      <td>small_airport</td>\n      <td>Champion Ranch Airport</td>\n      <td>33.008611</td>\n      <td>-104.540278</td>\n      <td>3630.0</td>\n      <td>NaN</td>\n      <td>US</td>\n      <td>US-NM</td>\n      <td>Artesia</td>\n      <td>no</td>\n      <td>01NM</td>\n      <td>NaN</td>\n      <td>01NM</td>\n      <td>NaN</td>\n      <td>NaN</td>\n      <td>NaN</td>\n    </tr>\n    <tr>\n      <th>104</th>\n      <td>6615</td>\n      <td>01NV</td>\n      <td>small_airport</td>\n      <td>Lantana Ranch Airport</td>\n      <td>38.763901</td>\n      <td>-119.027000</td>\n      <td>4600.0</td>\n      <td>NaN</td>\n      <td>US</td>\n      <td>US-NV</td>\n      <td>Yerington</td>\n      <td>no</td>\n      <td>01NV</td>\n      <td>NaN</td>\n      <td>01NV</td>\n      <td>NaN</td>\n      <td>NaN</td>\n      <td>NaN</td>\n    </tr>\n  </tbody>\n</table>\n</div>"
     },
     "execution_count": 8,
     "metadata": {},
     "output_type": "execute_result"
    }
   ],
   "source": [
    "df.iloc[100:105, :]\n"
   ],
   "metadata": {
    "collapsed": false,
    "pycharm": {
     "name": "#%%\n"
    }
   }
  },
  {
   "cell_type": "markdown",
   "source": [
    "### indexing With integer or string"
   ],
   "metadata": {
    "collapsed": false
   }
  },
  {
   "cell_type": "code",
   "execution_count": 9,
   "outputs": [
    {
     "data": {
      "text/plain": "    ident           type                            name\n100  01NE  small_airport                  Detour Airport\n101  01NH  small_airport                  Moore Airfield\n102  01NJ       heliport  Albert Guido Memorial Heliport\n103  01NM  small_airport          Champion Ranch Airport\n104  01NV  small_airport           Lantana Ranch Airport\n105  01NY         closed        Vassar Hospital Heliport",
      "text/html": "<div>\n<style scoped>\n    .dataframe tbody tr th:only-of-type {\n        vertical-align: middle;\n    }\n\n    .dataframe tbody tr th {\n        vertical-align: top;\n    }\n\n    .dataframe thead th {\n        text-align: right;\n    }\n</style>\n<table border=\"1\" class=\"dataframe\">\n  <thead>\n    <tr style=\"text-align: right;\">\n      <th></th>\n      <th>ident</th>\n      <th>type</th>\n      <th>name</th>\n    </tr>\n  </thead>\n  <tbody>\n    <tr>\n      <th>100</th>\n      <td>01NE</td>\n      <td>small_airport</td>\n      <td>Detour Airport</td>\n    </tr>\n    <tr>\n      <th>101</th>\n      <td>01NH</td>\n      <td>small_airport</td>\n      <td>Moore Airfield</td>\n    </tr>\n    <tr>\n      <th>102</th>\n      <td>01NJ</td>\n      <td>heliport</td>\n      <td>Albert Guido Memorial Heliport</td>\n    </tr>\n    <tr>\n      <th>103</th>\n      <td>01NM</td>\n      <td>small_airport</td>\n      <td>Champion Ranch Airport</td>\n    </tr>\n    <tr>\n      <th>104</th>\n      <td>01NV</td>\n      <td>small_airport</td>\n      <td>Lantana Ranch Airport</td>\n    </tr>\n    <tr>\n      <th>105</th>\n      <td>01NY</td>\n      <td>closed</td>\n      <td>Vassar Hospital Heliport</td>\n    </tr>\n  </tbody>\n</table>\n</div>"
     },
     "execution_count": 9,
     "metadata": {},
     "output_type": "execute_result"
    }
   ],
   "source": [
    "df.loc[100:105, \"ident\":\"name\"]\n"
   ],
   "metadata": {
    "collapsed": false,
    "pycharm": {
     "name": "#%%\n"
    }
   }
  },
  {
   "cell_type": "markdown",
   "source": [
    "### change the dataframe"
   ],
   "metadata": {
    "collapsed": false,
    "pycharm": {
     "name": "#%% md\n"
    }
   }
  },
  {
   "cell_type": "code",
   "execution_count": 15,
   "outputs": [
    {
     "data": {
      "text/plain": "     id ident           type                            name  latitude_deg  \\\n100   0  01NE  small_airport                  Detour Airport     40.843601   \n101   1  01NH  small_airport                  Moore Airfield     43.644500   \n102   2  01NJ       heliport  Albert Guido Memorial Heliport     40.741798   \n103   3  01NM  small_airport          Champion Ranch Airport     33.008611   \n104   4  01NV  small_airport           Lantana Ranch Airport     38.763901   \n105   5  01NY         closed        Vassar Hospital Heliport     41.694187   \n\n     longitude_deg  elevation_ft continent iso_country iso_region  \\\n100    -100.653000        3000.0       NaN          US      US-NE   \n101     -72.086998         835.0       NaN          US      US-NH   \n102     -74.137100          10.0       NaN          US      US-NJ   \n103    -104.540278        3630.0       NaN          US      US-NM   \n104    -119.027000        4600.0       NaN          US      US-NV   \n105     -73.935582         100.0       NaN          US      US-NY   \n\n     municipality scheduled_service gps_code iata_code local_code home_link  \\\n100     Wellfleet                no     01NE       NaN       01NE       NaN   \n101        Canaan                no     01NH       NaN       01NH       NaN   \n102        Newark                no     01NJ       NaN       01NJ       NaN   \n103       Artesia                no     01NM       NaN       01NM       NaN   \n104     Yerington                no     01NV       NaN       01NV       NaN   \n105  Poughkeepsie                no      NaN       NaN        NaN       NaN   \n\n    wikipedia_link keywords  \n100            NaN      NaN  \n101            NaN  Enfield  \n102            NaN      NaN  \n103            NaN      NaN  \n104            NaN      NaN  \n105            NaN     01NY  ",
      "text/html": "<div>\n<style scoped>\n    .dataframe tbody tr th:only-of-type {\n        vertical-align: middle;\n    }\n\n    .dataframe tbody tr th {\n        vertical-align: top;\n    }\n\n    .dataframe thead th {\n        text-align: right;\n    }\n</style>\n<table border=\"1\" class=\"dataframe\">\n  <thead>\n    <tr style=\"text-align: right;\">\n      <th></th>\n      <th>id</th>\n      <th>ident</th>\n      <th>type</th>\n      <th>name</th>\n      <th>latitude_deg</th>\n      <th>longitude_deg</th>\n      <th>elevation_ft</th>\n      <th>continent</th>\n      <th>iso_country</th>\n      <th>iso_region</th>\n      <th>municipality</th>\n      <th>scheduled_service</th>\n      <th>gps_code</th>\n      <th>iata_code</th>\n      <th>local_code</th>\n      <th>home_link</th>\n      <th>wikipedia_link</th>\n      <th>keywords</th>\n    </tr>\n  </thead>\n  <tbody>\n    <tr>\n      <th>100</th>\n      <td>0</td>\n      <td>01NE</td>\n      <td>small_airport</td>\n      <td>Detour Airport</td>\n      <td>40.843601</td>\n      <td>-100.653000</td>\n      <td>3000.0</td>\n      <td>NaN</td>\n      <td>US</td>\n      <td>US-NE</td>\n      <td>Wellfleet</td>\n      <td>no</td>\n      <td>01NE</td>\n      <td>NaN</td>\n      <td>01NE</td>\n      <td>NaN</td>\n      <td>NaN</td>\n      <td>NaN</td>\n    </tr>\n    <tr>\n      <th>101</th>\n      <td>1</td>\n      <td>01NH</td>\n      <td>small_airport</td>\n      <td>Moore Airfield</td>\n      <td>43.644500</td>\n      <td>-72.086998</td>\n      <td>835.0</td>\n      <td>NaN</td>\n      <td>US</td>\n      <td>US-NH</td>\n      <td>Canaan</td>\n      <td>no</td>\n      <td>01NH</td>\n      <td>NaN</td>\n      <td>01NH</td>\n      <td>NaN</td>\n      <td>NaN</td>\n      <td>Enfield</td>\n    </tr>\n    <tr>\n      <th>102</th>\n      <td>2</td>\n      <td>01NJ</td>\n      <td>heliport</td>\n      <td>Albert Guido Memorial Heliport</td>\n      <td>40.741798</td>\n      <td>-74.137100</td>\n      <td>10.0</td>\n      <td>NaN</td>\n      <td>US</td>\n      <td>US-NJ</td>\n      <td>Newark</td>\n      <td>no</td>\n      <td>01NJ</td>\n      <td>NaN</td>\n      <td>01NJ</td>\n      <td>NaN</td>\n      <td>NaN</td>\n      <td>NaN</td>\n    </tr>\n    <tr>\n      <th>103</th>\n      <td>3</td>\n      <td>01NM</td>\n      <td>small_airport</td>\n      <td>Champion Ranch Airport</td>\n      <td>33.008611</td>\n      <td>-104.540278</td>\n      <td>3630.0</td>\n      <td>NaN</td>\n      <td>US</td>\n      <td>US-NM</td>\n      <td>Artesia</td>\n      <td>no</td>\n      <td>01NM</td>\n      <td>NaN</td>\n      <td>01NM</td>\n      <td>NaN</td>\n      <td>NaN</td>\n      <td>NaN</td>\n    </tr>\n    <tr>\n      <th>104</th>\n      <td>4</td>\n      <td>01NV</td>\n      <td>small_airport</td>\n      <td>Lantana Ranch Airport</td>\n      <td>38.763901</td>\n      <td>-119.027000</td>\n      <td>4600.0</td>\n      <td>NaN</td>\n      <td>US</td>\n      <td>US-NV</td>\n      <td>Yerington</td>\n      <td>no</td>\n      <td>01NV</td>\n      <td>NaN</td>\n      <td>01NV</td>\n      <td>NaN</td>\n      <td>NaN</td>\n      <td>NaN</td>\n    </tr>\n    <tr>\n      <th>105</th>\n      <td>5</td>\n      <td>01NY</td>\n      <td>closed</td>\n      <td>Vassar Hospital Heliport</td>\n      <td>41.694187</td>\n      <td>-73.935582</td>\n      <td>100.0</td>\n      <td>NaN</td>\n      <td>US</td>\n      <td>US-NY</td>\n      <td>Poughkeepsie</td>\n      <td>no</td>\n      <td>NaN</td>\n      <td>NaN</td>\n      <td>NaN</td>\n      <td>NaN</td>\n      <td>NaN</td>\n      <td>01NY</td>\n    </tr>\n  </tbody>\n</table>\n</div>"
     },
     "execution_count": 15,
     "metadata": {},
     "output_type": "execute_result"
    }
   ],
   "source": [
    "df.loc[100:105,\"id\"] = list(range(6))\n",
    "df.loc[100:105, :]"
   ],
   "metadata": {
    "collapsed": false,
    "pycharm": {
     "name": "#%%\n"
    }
   }
  },
  {
   "cell_type": "markdown",
   "source": [
    "### iloc vs loc\n",
    "iloc : inclusive indexing, doesn't include last index\n",
    "loc : exclusive inclusive indexing, includes last index"
   ],
   "metadata": {
    "collapsed": false
   }
  },
  {
   "cell_type": "markdown",
   "source": [
    "### expand the dataframe"
   ],
   "metadata": {
    "collapsed": false,
    "pycharm": {
     "name": "#%% md\n"
    }
   }
  },
  {
   "cell_type": "code",
   "execution_count": null,
   "outputs": [],
   "source": [
    "df.loc[57130] = df.loc[0] + df.loc[1]\n",
    "\n",
    "df"
   ],
   "metadata": {
    "collapsed": false,
    "pycharm": {
     "name": "#%%\n"
    }
   }
  },
  {
   "cell_type": "markdown",
   "source": [
    "## remove from dataframe"
   ],
   "metadata": {
    "collapsed": false,
    "pycharm": {
     "name": "#%% md\n"
    }
   }
  },
  {
   "cell_type": "markdown",
   "source": [
    "### row remove"
   ],
   "metadata": {
    "collapsed": false
   }
  },
  {
   "cell_type": "code",
   "execution_count": 23,
   "outputs": [
    {
     "data": {
      "text/plain": "           id    ident                   type  \\\n0        6523      00A               heliport   \n1      323361     00AA          small_airport   \n3        6525     00AL          small_airport   \n4        6526     00AR                 closed   \n5      322127     00AS          small_airport   \n...       ...      ...                    ...   \n57126   32753     ZYYY         medium_airport   \n57127   46378  ZZ-0001               heliport   \n57128  307326  ZZ-0002          small_airport   \n57129  313629     ZZZZ          small_airport   \n57130  329884  00A00AA  heliportsmall_airport   \n\n                                        name  latitude_deg  longitude_deg  \\\n0                          Total Rf Heliport     40.070801     -74.933601   \n1                       Aero B Ranch Airport     38.704022    -101.473911   \n3                               Epps Airpark     34.864799     -86.770302   \n4         Newport Hospital & Clinic Heliport     35.608700     -91.254898   \n5                             Fulton Airport     34.942803     -97.818019   \n...                                      ...           ...            ...   \n57126                Shenyang Dongta Airport     41.784401     123.496002   \n57127                        Sealand Helipad     51.894444       1.482500   \n57128              Glorioso Islands Airstrip    -11.584278      47.296389   \n57129                 Satsuma Iōjima Airport     30.784722     130.270556   \n57130  Total Rf HeliportAero B Ranch Airport     78.774823    -176.407512   \n\n       elevation_ft continent iso_country  iso_region      municipality  \\\n0              11.0       NaN          US       US-PA          Bensalem   \n1            3435.0       NaN          US       US-KS             Leoti   \n3             820.0       NaN          US       US-AL           Harvest   \n4             237.0       NaN          US       US-AR           Newport   \n5            1100.0       NaN          US       US-OK              Alex   \n...             ...       ...         ...         ...               ...   \n57126           NaN        AS          CN       CN-21          Shenyang   \n57127          40.0        EU          GB      GB-ENG           Sealand   \n57128          11.0        AF          TF      TF-U-A  Grande Glorieuse   \n57129         338.0        AS          JP       JP-46      Mishima-Mura   \n57130        3446.0       NaN        USUS  US-PAUS-KS     BensalemLeoti   \n\n      scheduled_service gps_code iata_code local_code  \\\n0                    no      00A       NaN        00A   \n1                    no     00AA       NaN       00AA   \n3                    no     00AL       NaN       00AL   \n4                    no      NaN       NaN        NaN   \n5                    no     00AS       NaN       00AS   \n...                 ...      ...       ...        ...   \n57126                no     ZYYY       NaN        NaN   \n57127                no      NaN       NaN        NaN   \n57128                no      NaN       NaN        NaN   \n57129                no     RJX7       NaN       RJX7   \n57130              nono  00A00AA       NaN    00A00AA   \n\n                        home_link  \\\n0                             NaN   \n1                             NaN   \n3                             NaN   \n4                             NaN   \n5                             NaN   \n...                           ...   \n57126                         NaN   \n57127  http://www.sealandgov.org/   \n57128                         NaN   \n57129                         NaN   \n57130                         NaN   \n\n                                          wikipedia_link              keywords  \n0                                                    NaN                   NaN  \n1                                                    NaN                   NaN  \n3                                                    NaN                   NaN  \n4                                                    NaN                  00AR  \n5                                                    NaN                   NaN  \n...                                                  ...                   ...  \n57126                                                NaN                   NaN  \n57127  https://en.wikipedia.org/wiki/Principality_of_...  Roughs Tower Helipad  \n57128                                                NaN                   NaN  \n57129  http://wikimapia.org/6705190/Satsuma-Iwo-jima-...  SATSUMA,IWOJIMA,RJX7  \n57130                                                NaN                   NaN  \n\n[57130 rows x 18 columns]",
      "text/html": "<div>\n<style scoped>\n    .dataframe tbody tr th:only-of-type {\n        vertical-align: middle;\n    }\n\n    .dataframe tbody tr th {\n        vertical-align: top;\n    }\n\n    .dataframe thead th {\n        text-align: right;\n    }\n</style>\n<table border=\"1\" class=\"dataframe\">\n  <thead>\n    <tr style=\"text-align: right;\">\n      <th></th>\n      <th>id</th>\n      <th>ident</th>\n      <th>type</th>\n      <th>name</th>\n      <th>latitude_deg</th>\n      <th>longitude_deg</th>\n      <th>elevation_ft</th>\n      <th>continent</th>\n      <th>iso_country</th>\n      <th>iso_region</th>\n      <th>municipality</th>\n      <th>scheduled_service</th>\n      <th>gps_code</th>\n      <th>iata_code</th>\n      <th>local_code</th>\n      <th>home_link</th>\n      <th>wikipedia_link</th>\n      <th>keywords</th>\n    </tr>\n  </thead>\n  <tbody>\n    <tr>\n      <th>0</th>\n      <td>6523</td>\n      <td>00A</td>\n      <td>heliport</td>\n      <td>Total Rf Heliport</td>\n      <td>40.070801</td>\n      <td>-74.933601</td>\n      <td>11.0</td>\n      <td>NaN</td>\n      <td>US</td>\n      <td>US-PA</td>\n      <td>Bensalem</td>\n      <td>no</td>\n      <td>00A</td>\n      <td>NaN</td>\n      <td>00A</td>\n      <td>NaN</td>\n      <td>NaN</td>\n      <td>NaN</td>\n    </tr>\n    <tr>\n      <th>1</th>\n      <td>323361</td>\n      <td>00AA</td>\n      <td>small_airport</td>\n      <td>Aero B Ranch Airport</td>\n      <td>38.704022</td>\n      <td>-101.473911</td>\n      <td>3435.0</td>\n      <td>NaN</td>\n      <td>US</td>\n      <td>US-KS</td>\n      <td>Leoti</td>\n      <td>no</td>\n      <td>00AA</td>\n      <td>NaN</td>\n      <td>00AA</td>\n      <td>NaN</td>\n      <td>NaN</td>\n      <td>NaN</td>\n    </tr>\n    <tr>\n      <th>3</th>\n      <td>6525</td>\n      <td>00AL</td>\n      <td>small_airport</td>\n      <td>Epps Airpark</td>\n      <td>34.864799</td>\n      <td>-86.770302</td>\n      <td>820.0</td>\n      <td>NaN</td>\n      <td>US</td>\n      <td>US-AL</td>\n      <td>Harvest</td>\n      <td>no</td>\n      <td>00AL</td>\n      <td>NaN</td>\n      <td>00AL</td>\n      <td>NaN</td>\n      <td>NaN</td>\n      <td>NaN</td>\n    </tr>\n    <tr>\n      <th>4</th>\n      <td>6526</td>\n      <td>00AR</td>\n      <td>closed</td>\n      <td>Newport Hospital &amp; Clinic Heliport</td>\n      <td>35.608700</td>\n      <td>-91.254898</td>\n      <td>237.0</td>\n      <td>NaN</td>\n      <td>US</td>\n      <td>US-AR</td>\n      <td>Newport</td>\n      <td>no</td>\n      <td>NaN</td>\n      <td>NaN</td>\n      <td>NaN</td>\n      <td>NaN</td>\n      <td>NaN</td>\n      <td>00AR</td>\n    </tr>\n    <tr>\n      <th>5</th>\n      <td>322127</td>\n      <td>00AS</td>\n      <td>small_airport</td>\n      <td>Fulton Airport</td>\n      <td>34.942803</td>\n      <td>-97.818019</td>\n      <td>1100.0</td>\n      <td>NaN</td>\n      <td>US</td>\n      <td>US-OK</td>\n      <td>Alex</td>\n      <td>no</td>\n      <td>00AS</td>\n      <td>NaN</td>\n      <td>00AS</td>\n      <td>NaN</td>\n      <td>NaN</td>\n      <td>NaN</td>\n    </tr>\n    <tr>\n      <th>...</th>\n      <td>...</td>\n      <td>...</td>\n      <td>...</td>\n      <td>...</td>\n      <td>...</td>\n      <td>...</td>\n      <td>...</td>\n      <td>...</td>\n      <td>...</td>\n      <td>...</td>\n      <td>...</td>\n      <td>...</td>\n      <td>...</td>\n      <td>...</td>\n      <td>...</td>\n      <td>...</td>\n      <td>...</td>\n      <td>...</td>\n    </tr>\n    <tr>\n      <th>57126</th>\n      <td>32753</td>\n      <td>ZYYY</td>\n      <td>medium_airport</td>\n      <td>Shenyang Dongta Airport</td>\n      <td>41.784401</td>\n      <td>123.496002</td>\n      <td>NaN</td>\n      <td>AS</td>\n      <td>CN</td>\n      <td>CN-21</td>\n      <td>Shenyang</td>\n      <td>no</td>\n      <td>ZYYY</td>\n      <td>NaN</td>\n      <td>NaN</td>\n      <td>NaN</td>\n      <td>NaN</td>\n      <td>NaN</td>\n    </tr>\n    <tr>\n      <th>57127</th>\n      <td>46378</td>\n      <td>ZZ-0001</td>\n      <td>heliport</td>\n      <td>Sealand Helipad</td>\n      <td>51.894444</td>\n      <td>1.482500</td>\n      <td>40.0</td>\n      <td>EU</td>\n      <td>GB</td>\n      <td>GB-ENG</td>\n      <td>Sealand</td>\n      <td>no</td>\n      <td>NaN</td>\n      <td>NaN</td>\n      <td>NaN</td>\n      <td>http://www.sealandgov.org/</td>\n      <td>https://en.wikipedia.org/wiki/Principality_of_...</td>\n      <td>Roughs Tower Helipad</td>\n    </tr>\n    <tr>\n      <th>57128</th>\n      <td>307326</td>\n      <td>ZZ-0002</td>\n      <td>small_airport</td>\n      <td>Glorioso Islands Airstrip</td>\n      <td>-11.584278</td>\n      <td>47.296389</td>\n      <td>11.0</td>\n      <td>AF</td>\n      <td>TF</td>\n      <td>TF-U-A</td>\n      <td>Grande Glorieuse</td>\n      <td>no</td>\n      <td>NaN</td>\n      <td>NaN</td>\n      <td>NaN</td>\n      <td>NaN</td>\n      <td>NaN</td>\n      <td>NaN</td>\n    </tr>\n    <tr>\n      <th>57129</th>\n      <td>313629</td>\n      <td>ZZZZ</td>\n      <td>small_airport</td>\n      <td>Satsuma Iōjima Airport</td>\n      <td>30.784722</td>\n      <td>130.270556</td>\n      <td>338.0</td>\n      <td>AS</td>\n      <td>JP</td>\n      <td>JP-46</td>\n      <td>Mishima-Mura</td>\n      <td>no</td>\n      <td>RJX7</td>\n      <td>NaN</td>\n      <td>RJX7</td>\n      <td>NaN</td>\n      <td>http://wikimapia.org/6705190/Satsuma-Iwo-jima-...</td>\n      <td>SATSUMA,IWOJIMA,RJX7</td>\n    </tr>\n    <tr>\n      <th>57130</th>\n      <td>329884</td>\n      <td>00A00AA</td>\n      <td>heliportsmall_airport</td>\n      <td>Total Rf HeliportAero B Ranch Airport</td>\n      <td>78.774823</td>\n      <td>-176.407512</td>\n      <td>3446.0</td>\n      <td>NaN</td>\n      <td>USUS</td>\n      <td>US-PAUS-KS</td>\n      <td>BensalemLeoti</td>\n      <td>nono</td>\n      <td>00A00AA</td>\n      <td>NaN</td>\n      <td>00A00AA</td>\n      <td>NaN</td>\n      <td>NaN</td>\n      <td>NaN</td>\n    </tr>\n  </tbody>\n</table>\n<p>57130 rows × 18 columns</p>\n</div>"
     },
     "execution_count": 23,
     "metadata": {},
     "output_type": "execute_result"
    }
   ],
   "source": [
    "df.drop(2, axis=0)"
   ],
   "metadata": {
    "collapsed": false,
    "pycharm": {
     "name": "#%%\n"
    }
   }
  },
  {
   "cell_type": "markdown",
   "source": [
    "### coloumn remove"
   ],
   "metadata": {
    "collapsed": false
   }
  },
  {
   "cell_type": "code",
   "execution_count": 24,
   "outputs": [
    {
     "data": {
      "text/plain": "           id                   type                                   name  \\\n0        6523               heliport                      Total Rf Heliport   \n1      323361          small_airport                   Aero B Ranch Airport   \n2      329884  heliportsmall_airport  Total Rf HeliportAero B Ranch Airport   \n3        6525          small_airport                           Epps Airpark   \n4        6526                 closed     Newport Hospital & Clinic Heliport   \n...       ...                    ...                                    ...   \n57126   32753         medium_airport                Shenyang Dongta Airport   \n57127   46378               heliport                        Sealand Helipad   \n57128  307326          small_airport              Glorioso Islands Airstrip   \n57129  313629          small_airport                 Satsuma Iōjima Airport   \n57130  329884  heliportsmall_airport  Total Rf HeliportAero B Ranch Airport   \n\n       latitude_deg  longitude_deg  elevation_ft continent iso_country  \\\n0         40.070801     -74.933601          11.0       NaN          US   \n1         38.704022    -101.473911        3435.0       NaN          US   \n2         78.774823    -176.407512        3446.0       NaN        USUS   \n3         34.864799     -86.770302         820.0       NaN          US   \n4         35.608700     -91.254898         237.0       NaN          US   \n...             ...            ...           ...       ...         ...   \n57126     41.784401     123.496002           NaN        AS          CN   \n57127     51.894444       1.482500          40.0        EU          GB   \n57128    -11.584278      47.296389          11.0        AF          TF   \n57129     30.784722     130.270556         338.0        AS          JP   \n57130     78.774823    -176.407512        3446.0       NaN        USUS   \n\n       iso_region      municipality scheduled_service gps_code iata_code  \\\n0           US-PA          Bensalem                no      00A       NaN   \n1           US-KS             Leoti                no     00AA       NaN   \n2      US-PAUS-KS     BensalemLeoti              nono  00A00AA       NaN   \n3           US-AL           Harvest                no     00AL       NaN   \n4           US-AR           Newport                no      NaN       NaN   \n...           ...               ...               ...      ...       ...   \n57126       CN-21          Shenyang                no     ZYYY       NaN   \n57127      GB-ENG           Sealand                no      NaN       NaN   \n57128      TF-U-A  Grande Glorieuse                no      NaN       NaN   \n57129       JP-46      Mishima-Mura                no     RJX7       NaN   \n57130  US-PAUS-KS     BensalemLeoti              nono  00A00AA       NaN   \n\n      local_code                   home_link  \\\n0            00A                         NaN   \n1           00AA                         NaN   \n2        00A00AA                         NaN   \n3           00AL                         NaN   \n4            NaN                         NaN   \n...          ...                         ...   \n57126        NaN                         NaN   \n57127        NaN  http://www.sealandgov.org/   \n57128        NaN                         NaN   \n57129       RJX7                         NaN   \n57130    00A00AA                         NaN   \n\n                                          wikipedia_link              keywords  \n0                                                    NaN                   NaN  \n1                                                    NaN                   NaN  \n2                                                    NaN                   NaN  \n3                                                    NaN                   NaN  \n4                                                    NaN                  00AR  \n...                                                  ...                   ...  \n57126                                                NaN                   NaN  \n57127  https://en.wikipedia.org/wiki/Principality_of_...  Roughs Tower Helipad  \n57128                                                NaN                   NaN  \n57129  http://wikimapia.org/6705190/Satsuma-Iwo-jima-...  SATSUMA,IWOJIMA,RJX7  \n57130                                                NaN                   NaN  \n\n[57131 rows x 17 columns]",
      "text/html": "<div>\n<style scoped>\n    .dataframe tbody tr th:only-of-type {\n        vertical-align: middle;\n    }\n\n    .dataframe tbody tr th {\n        vertical-align: top;\n    }\n\n    .dataframe thead th {\n        text-align: right;\n    }\n</style>\n<table border=\"1\" class=\"dataframe\">\n  <thead>\n    <tr style=\"text-align: right;\">\n      <th></th>\n      <th>id</th>\n      <th>type</th>\n      <th>name</th>\n      <th>latitude_deg</th>\n      <th>longitude_deg</th>\n      <th>elevation_ft</th>\n      <th>continent</th>\n      <th>iso_country</th>\n      <th>iso_region</th>\n      <th>municipality</th>\n      <th>scheduled_service</th>\n      <th>gps_code</th>\n      <th>iata_code</th>\n      <th>local_code</th>\n      <th>home_link</th>\n      <th>wikipedia_link</th>\n      <th>keywords</th>\n    </tr>\n  </thead>\n  <tbody>\n    <tr>\n      <th>0</th>\n      <td>6523</td>\n      <td>heliport</td>\n      <td>Total Rf Heliport</td>\n      <td>40.070801</td>\n      <td>-74.933601</td>\n      <td>11.0</td>\n      <td>NaN</td>\n      <td>US</td>\n      <td>US-PA</td>\n      <td>Bensalem</td>\n      <td>no</td>\n      <td>00A</td>\n      <td>NaN</td>\n      <td>00A</td>\n      <td>NaN</td>\n      <td>NaN</td>\n      <td>NaN</td>\n    </tr>\n    <tr>\n      <th>1</th>\n      <td>323361</td>\n      <td>small_airport</td>\n      <td>Aero B Ranch Airport</td>\n      <td>38.704022</td>\n      <td>-101.473911</td>\n      <td>3435.0</td>\n      <td>NaN</td>\n      <td>US</td>\n      <td>US-KS</td>\n      <td>Leoti</td>\n      <td>no</td>\n      <td>00AA</td>\n      <td>NaN</td>\n      <td>00AA</td>\n      <td>NaN</td>\n      <td>NaN</td>\n      <td>NaN</td>\n    </tr>\n    <tr>\n      <th>2</th>\n      <td>329884</td>\n      <td>heliportsmall_airport</td>\n      <td>Total Rf HeliportAero B Ranch Airport</td>\n      <td>78.774823</td>\n      <td>-176.407512</td>\n      <td>3446.0</td>\n      <td>NaN</td>\n      <td>USUS</td>\n      <td>US-PAUS-KS</td>\n      <td>BensalemLeoti</td>\n      <td>nono</td>\n      <td>00A00AA</td>\n      <td>NaN</td>\n      <td>00A00AA</td>\n      <td>NaN</td>\n      <td>NaN</td>\n      <td>NaN</td>\n    </tr>\n    <tr>\n      <th>3</th>\n      <td>6525</td>\n      <td>small_airport</td>\n      <td>Epps Airpark</td>\n      <td>34.864799</td>\n      <td>-86.770302</td>\n      <td>820.0</td>\n      <td>NaN</td>\n      <td>US</td>\n      <td>US-AL</td>\n      <td>Harvest</td>\n      <td>no</td>\n      <td>00AL</td>\n      <td>NaN</td>\n      <td>00AL</td>\n      <td>NaN</td>\n      <td>NaN</td>\n      <td>NaN</td>\n    </tr>\n    <tr>\n      <th>4</th>\n      <td>6526</td>\n      <td>closed</td>\n      <td>Newport Hospital &amp; Clinic Heliport</td>\n      <td>35.608700</td>\n      <td>-91.254898</td>\n      <td>237.0</td>\n      <td>NaN</td>\n      <td>US</td>\n      <td>US-AR</td>\n      <td>Newport</td>\n      <td>no</td>\n      <td>NaN</td>\n      <td>NaN</td>\n      <td>NaN</td>\n      <td>NaN</td>\n      <td>NaN</td>\n      <td>00AR</td>\n    </tr>\n    <tr>\n      <th>...</th>\n      <td>...</td>\n      <td>...</td>\n      <td>...</td>\n      <td>...</td>\n      <td>...</td>\n      <td>...</td>\n      <td>...</td>\n      <td>...</td>\n      <td>...</td>\n      <td>...</td>\n      <td>...</td>\n      <td>...</td>\n      <td>...</td>\n      <td>...</td>\n      <td>...</td>\n      <td>...</td>\n      <td>...</td>\n    </tr>\n    <tr>\n      <th>57126</th>\n      <td>32753</td>\n      <td>medium_airport</td>\n      <td>Shenyang Dongta Airport</td>\n      <td>41.784401</td>\n      <td>123.496002</td>\n      <td>NaN</td>\n      <td>AS</td>\n      <td>CN</td>\n      <td>CN-21</td>\n      <td>Shenyang</td>\n      <td>no</td>\n      <td>ZYYY</td>\n      <td>NaN</td>\n      <td>NaN</td>\n      <td>NaN</td>\n      <td>NaN</td>\n      <td>NaN</td>\n    </tr>\n    <tr>\n      <th>57127</th>\n      <td>46378</td>\n      <td>heliport</td>\n      <td>Sealand Helipad</td>\n      <td>51.894444</td>\n      <td>1.482500</td>\n      <td>40.0</td>\n      <td>EU</td>\n      <td>GB</td>\n      <td>GB-ENG</td>\n      <td>Sealand</td>\n      <td>no</td>\n      <td>NaN</td>\n      <td>NaN</td>\n      <td>NaN</td>\n      <td>http://www.sealandgov.org/</td>\n      <td>https://en.wikipedia.org/wiki/Principality_of_...</td>\n      <td>Roughs Tower Helipad</td>\n    </tr>\n    <tr>\n      <th>57128</th>\n      <td>307326</td>\n      <td>small_airport</td>\n      <td>Glorioso Islands Airstrip</td>\n      <td>-11.584278</td>\n      <td>47.296389</td>\n      <td>11.0</td>\n      <td>AF</td>\n      <td>TF</td>\n      <td>TF-U-A</td>\n      <td>Grande Glorieuse</td>\n      <td>no</td>\n      <td>NaN</td>\n      <td>NaN</td>\n      <td>NaN</td>\n      <td>NaN</td>\n      <td>NaN</td>\n      <td>NaN</td>\n    </tr>\n    <tr>\n      <th>57129</th>\n      <td>313629</td>\n      <td>small_airport</td>\n      <td>Satsuma Iōjima Airport</td>\n      <td>30.784722</td>\n      <td>130.270556</td>\n      <td>338.0</td>\n      <td>AS</td>\n      <td>JP</td>\n      <td>JP-46</td>\n      <td>Mishima-Mura</td>\n      <td>no</td>\n      <td>RJX7</td>\n      <td>NaN</td>\n      <td>RJX7</td>\n      <td>NaN</td>\n      <td>http://wikimapia.org/6705190/Satsuma-Iwo-jima-...</td>\n      <td>SATSUMA,IWOJIMA,RJX7</td>\n    </tr>\n    <tr>\n      <th>57130</th>\n      <td>329884</td>\n      <td>heliportsmall_airport</td>\n      <td>Total Rf HeliportAero B Ranch Airport</td>\n      <td>78.774823</td>\n      <td>-176.407512</td>\n      <td>3446.0</td>\n      <td>NaN</td>\n      <td>USUS</td>\n      <td>US-PAUS-KS</td>\n      <td>BensalemLeoti</td>\n      <td>nono</td>\n      <td>00A00AA</td>\n      <td>NaN</td>\n      <td>00A00AA</td>\n      <td>NaN</td>\n      <td>NaN</td>\n      <td>NaN</td>\n    </tr>\n  </tbody>\n</table>\n<p>57131 rows × 17 columns</p>\n</div>"
     },
     "execution_count": 24,
     "metadata": {},
     "output_type": "execute_result"
    }
   ],
   "source": [
    "df.drop(\"ident\", axis=1)\n",
    "# df.drop(\"ident\", axis=1, inplace=True)  # change original dataframe on it.\n",
    "# inplace=False  # default"
   ],
   "metadata": {
    "collapsed": false,
    "pycharm": {
     "name": "#%%\n"
    }
   }
  },
  {
   "cell_type": "code",
   "execution_count": 27,
   "outputs": [
    {
     "data": {
      "text/plain": "           id    ident                   type  \\\n0        6523      00A               heliport   \n1      323361     00AA          small_airport   \n2      329884  00A00AA  heliportsmall_airport   \n3        6525     00AL          small_airport   \n4        6526     00AR                 closed   \n...       ...      ...                    ...   \n57126   32753     ZYYY         medium_airport   \n57127   46378  ZZ-0001               heliport   \n57128  307326  ZZ-0002          small_airport   \n57129  313629     ZZZZ          small_airport   \n57130  329884  00A00AA  heliportsmall_airport   \n\n                                        name  latitude_deg  longitude_deg  \\\n0                          Total Rf Heliport     40.070801     -74.933601   \n1                       Aero B Ranch Airport     38.704022    -101.473911   \n2      Total Rf HeliportAero B Ranch Airport     78.774823    -176.407512   \n3                               Epps Airpark     34.864799     -86.770302   \n4         Newport Hospital & Clinic Heliport     35.608700     -91.254898   \n...                                      ...           ...            ...   \n57126                Shenyang Dongta Airport     41.784401     123.496002   \n57127                        Sealand Helipad     51.894444       1.482500   \n57128              Glorioso Islands Airstrip    -11.584278      47.296389   \n57129                 Satsuma Iōjima Airport     30.784722     130.270556   \n57130  Total Rf HeliportAero B Ranch Airport     78.774823    -176.407512   \n\n       elevation_ft continent iso_country  iso_region      municipality  \\\n0              11.0       NaN          US       US-PA          Bensalem   \n1            3435.0       NaN          US       US-KS             Leoti   \n2            3446.0       NaN        USUS  US-PAUS-KS     BensalemLeoti   \n3             820.0       NaN          US       US-AL           Harvest   \n4             237.0       NaN          US       US-AR           Newport   \n...             ...       ...         ...         ...               ...   \n57126           NaN        AS          CN       CN-21          Shenyang   \n57127          40.0        EU          GB      GB-ENG           Sealand   \n57128          11.0        AF          TF      TF-U-A  Grande Glorieuse   \n57129         338.0        AS          JP       JP-46      Mishima-Mura   \n57130        3446.0       NaN        USUS  US-PAUS-KS     BensalemLeoti   \n\n      scheduled_service gps_code iata_code local_code  \\\n0                    no      00A       NaN        00A   \n1                    no     00AA       NaN       00AA   \n2                  nono  00A00AA       NaN    00A00AA   \n3                    no     00AL       NaN       00AL   \n4                    no      NaN       NaN        NaN   \n...                 ...      ...       ...        ...   \n57126                no     ZYYY       NaN        NaN   \n57127                no      NaN       NaN        NaN   \n57128                no      NaN       NaN        NaN   \n57129                no     RJX7       NaN       RJX7   \n57130              nono  00A00AA       NaN    00A00AA   \n\n                        home_link  \\\n0                             NaN   \n1                             NaN   \n2                             NaN   \n3                             NaN   \n4                             NaN   \n...                           ...   \n57126                         NaN   \n57127  http://www.sealandgov.org/   \n57128                         NaN   \n57129                         NaN   \n57130                         NaN   \n\n                                          wikipedia_link              keywords  \n0                                                    NaN                   NaN  \n1                                                    NaN                   NaN  \n2                                                    NaN                   NaN  \n3                                                    NaN                   NaN  \n4                                                    NaN                  00AR  \n...                                                  ...                   ...  \n57126                                                NaN                   NaN  \n57127  https://en.wikipedia.org/wiki/Principality_of_...  Roughs Tower Helipad  \n57128                                                NaN                   NaN  \n57129  http://wikimapia.org/6705190/Satsuma-Iwo-jima-...  SATSUMA,IWOJIMA,RJX7  \n57130                                                NaN                   NaN  \n\n[57131 rows x 18 columns]",
      "text/html": "<div>\n<style scoped>\n    .dataframe tbody tr th:only-of-type {\n        vertical-align: middle;\n    }\n\n    .dataframe tbody tr th {\n        vertical-align: top;\n    }\n\n    .dataframe thead th {\n        text-align: right;\n    }\n</style>\n<table border=\"1\" class=\"dataframe\">\n  <thead>\n    <tr style=\"text-align: right;\">\n      <th></th>\n      <th>id</th>\n      <th>ident</th>\n      <th>type</th>\n      <th>name</th>\n      <th>latitude_deg</th>\n      <th>longitude_deg</th>\n      <th>elevation_ft</th>\n      <th>continent</th>\n      <th>iso_country</th>\n      <th>iso_region</th>\n      <th>municipality</th>\n      <th>scheduled_service</th>\n      <th>gps_code</th>\n      <th>iata_code</th>\n      <th>local_code</th>\n      <th>home_link</th>\n      <th>wikipedia_link</th>\n      <th>keywords</th>\n    </tr>\n  </thead>\n  <tbody>\n    <tr>\n      <th>0</th>\n      <td>6523</td>\n      <td>00A</td>\n      <td>heliport</td>\n      <td>Total Rf Heliport</td>\n      <td>40.070801</td>\n      <td>-74.933601</td>\n      <td>11.0</td>\n      <td>NaN</td>\n      <td>US</td>\n      <td>US-PA</td>\n      <td>Bensalem</td>\n      <td>no</td>\n      <td>00A</td>\n      <td>NaN</td>\n      <td>00A</td>\n      <td>NaN</td>\n      <td>NaN</td>\n      <td>NaN</td>\n    </tr>\n    <tr>\n      <th>1</th>\n      <td>323361</td>\n      <td>00AA</td>\n      <td>small_airport</td>\n      <td>Aero B Ranch Airport</td>\n      <td>38.704022</td>\n      <td>-101.473911</td>\n      <td>3435.0</td>\n      <td>NaN</td>\n      <td>US</td>\n      <td>US-KS</td>\n      <td>Leoti</td>\n      <td>no</td>\n      <td>00AA</td>\n      <td>NaN</td>\n      <td>00AA</td>\n      <td>NaN</td>\n      <td>NaN</td>\n      <td>NaN</td>\n    </tr>\n    <tr>\n      <th>2</th>\n      <td>329884</td>\n      <td>00A00AA</td>\n      <td>heliportsmall_airport</td>\n      <td>Total Rf HeliportAero B Ranch Airport</td>\n      <td>78.774823</td>\n      <td>-176.407512</td>\n      <td>3446.0</td>\n      <td>NaN</td>\n      <td>USUS</td>\n      <td>US-PAUS-KS</td>\n      <td>BensalemLeoti</td>\n      <td>nono</td>\n      <td>00A00AA</td>\n      <td>NaN</td>\n      <td>00A00AA</td>\n      <td>NaN</td>\n      <td>NaN</td>\n      <td>NaN</td>\n    </tr>\n    <tr>\n      <th>3</th>\n      <td>6525</td>\n      <td>00AL</td>\n      <td>small_airport</td>\n      <td>Epps Airpark</td>\n      <td>34.864799</td>\n      <td>-86.770302</td>\n      <td>820.0</td>\n      <td>NaN</td>\n      <td>US</td>\n      <td>US-AL</td>\n      <td>Harvest</td>\n      <td>no</td>\n      <td>00AL</td>\n      <td>NaN</td>\n      <td>00AL</td>\n      <td>NaN</td>\n      <td>NaN</td>\n      <td>NaN</td>\n    </tr>\n    <tr>\n      <th>4</th>\n      <td>6526</td>\n      <td>00AR</td>\n      <td>closed</td>\n      <td>Newport Hospital &amp; Clinic Heliport</td>\n      <td>35.608700</td>\n      <td>-91.254898</td>\n      <td>237.0</td>\n      <td>NaN</td>\n      <td>US</td>\n      <td>US-AR</td>\n      <td>Newport</td>\n      <td>no</td>\n      <td>NaN</td>\n      <td>NaN</td>\n      <td>NaN</td>\n      <td>NaN</td>\n      <td>NaN</td>\n      <td>00AR</td>\n    </tr>\n    <tr>\n      <th>...</th>\n      <td>...</td>\n      <td>...</td>\n      <td>...</td>\n      <td>...</td>\n      <td>...</td>\n      <td>...</td>\n      <td>...</td>\n      <td>...</td>\n      <td>...</td>\n      <td>...</td>\n      <td>...</td>\n      <td>...</td>\n      <td>...</td>\n      <td>...</td>\n      <td>...</td>\n      <td>...</td>\n      <td>...</td>\n      <td>...</td>\n    </tr>\n    <tr>\n      <th>57126</th>\n      <td>32753</td>\n      <td>ZYYY</td>\n      <td>medium_airport</td>\n      <td>Shenyang Dongta Airport</td>\n      <td>41.784401</td>\n      <td>123.496002</td>\n      <td>NaN</td>\n      <td>AS</td>\n      <td>CN</td>\n      <td>CN-21</td>\n      <td>Shenyang</td>\n      <td>no</td>\n      <td>ZYYY</td>\n      <td>NaN</td>\n      <td>NaN</td>\n      <td>NaN</td>\n      <td>NaN</td>\n      <td>NaN</td>\n    </tr>\n    <tr>\n      <th>57127</th>\n      <td>46378</td>\n      <td>ZZ-0001</td>\n      <td>heliport</td>\n      <td>Sealand Helipad</td>\n      <td>51.894444</td>\n      <td>1.482500</td>\n      <td>40.0</td>\n      <td>EU</td>\n      <td>GB</td>\n      <td>GB-ENG</td>\n      <td>Sealand</td>\n      <td>no</td>\n      <td>NaN</td>\n      <td>NaN</td>\n      <td>NaN</td>\n      <td>http://www.sealandgov.org/</td>\n      <td>https://en.wikipedia.org/wiki/Principality_of_...</td>\n      <td>Roughs Tower Helipad</td>\n    </tr>\n    <tr>\n      <th>57128</th>\n      <td>307326</td>\n      <td>ZZ-0002</td>\n      <td>small_airport</td>\n      <td>Glorioso Islands Airstrip</td>\n      <td>-11.584278</td>\n      <td>47.296389</td>\n      <td>11.0</td>\n      <td>AF</td>\n      <td>TF</td>\n      <td>TF-U-A</td>\n      <td>Grande Glorieuse</td>\n      <td>no</td>\n      <td>NaN</td>\n      <td>NaN</td>\n      <td>NaN</td>\n      <td>NaN</td>\n      <td>NaN</td>\n      <td>NaN</td>\n    </tr>\n    <tr>\n      <th>57129</th>\n      <td>313629</td>\n      <td>ZZZZ</td>\n      <td>small_airport</td>\n      <td>Satsuma Iōjima Airport</td>\n      <td>30.784722</td>\n      <td>130.270556</td>\n      <td>338.0</td>\n      <td>AS</td>\n      <td>JP</td>\n      <td>JP-46</td>\n      <td>Mishima-Mura</td>\n      <td>no</td>\n      <td>RJX7</td>\n      <td>NaN</td>\n      <td>RJX7</td>\n      <td>NaN</td>\n      <td>http://wikimapia.org/6705190/Satsuma-Iwo-jima-...</td>\n      <td>SATSUMA,IWOJIMA,RJX7</td>\n    </tr>\n    <tr>\n      <th>57130</th>\n      <td>329884</td>\n      <td>00A00AA</td>\n      <td>heliportsmall_airport</td>\n      <td>Total Rf HeliportAero B Ranch Airport</td>\n      <td>78.774823</td>\n      <td>-176.407512</td>\n      <td>3446.0</td>\n      <td>NaN</td>\n      <td>USUS</td>\n      <td>US-PAUS-KS</td>\n      <td>BensalemLeoti</td>\n      <td>nono</td>\n      <td>00A00AA</td>\n      <td>NaN</td>\n      <td>00A00AA</td>\n      <td>NaN</td>\n      <td>NaN</td>\n      <td>NaN</td>\n    </tr>\n  </tbody>\n</table>\n<p>57131 rows × 18 columns</p>\n</div>"
     },
     "execution_count": 27,
     "metadata": {},
     "output_type": "execute_result"
    }
   ],
   "source": [
    "# df not changed\n",
    "df"
   ],
   "metadata": {
    "collapsed": false,
    "pycharm": {
     "name": "#%%\n"
    }
   }
  },
  {
   "cell_type": "markdown",
   "source": [
    "### To numpy"
   ],
   "metadata": {
    "collapsed": false,
    "pycharm": {
     "name": "#%% md\n"
    }
   }
  },
  {
   "cell_type": "code",
   "execution_count": 29,
   "outputs": [
    {
     "data": {
      "text/plain": "array([[6523, '00A', 'heliport', ..., nan, nan, nan],\n       [323361, '00AA', 'small_airport', ..., nan, nan, nan],\n       [329884, '00A00AA', 'heliportsmall_airport', ..., nan, nan, nan],\n       ...,\n       [307326, 'ZZ-0002', 'small_airport', ..., nan, nan, nan],\n       [313629, 'ZZZZ', 'small_airport', ..., nan,\n        'http://wikimapia.org/6705190/Satsuma-Iwo-jima-Airport',\n        'SATSUMA,IWOJIMA,RJX7'],\n       [329884, '00A00AA', 'heliportsmall_airport', ..., nan, nan, nan]],\n      dtype=object)"
     },
     "execution_count": 29,
     "metadata": {},
     "output_type": "execute_result"
    }
   ],
   "source": [
    "df.to_numpy()"
   ],
   "metadata": {
    "collapsed": false,
    "pycharm": {
     "name": "#%%\n"
    }
   }
  },
  {
   "cell_type": "markdown",
   "source": [
    "### Transpose"
   ],
   "metadata": {
    "collapsed": false
   }
  },
  {
   "cell_type": "code",
   "execution_count": null,
   "outputs": [],
   "source": [
    "df.T"
   ],
   "metadata": {
    "collapsed": false,
    "pycharm": {
     "name": "#%%\n"
    }
   }
  },
  {
   "cell_type": "markdown",
   "source": [
    "### Masking - basic filtring"
   ],
   "metadata": {
    "collapsed": false
   }
  },
  {
   "cell_type": "code",
   "execution_count": 37,
   "outputs": [
    {
     "name": "stdout",
     "output_type": "stream",
     "text": [
      "0        False\n",
      "1         True\n",
      "2         True\n",
      "3        False\n",
      "4        False\n",
      "         ...  \n",
      "57126     True\n",
      "57127     True\n",
      "57128     True\n",
      "57129     True\n",
      "57130     True\n",
      "Name: id, Length: 57131, dtype: bool\n",
      "0        False\n",
      "1        False\n",
      "2         True\n",
      "3        False\n",
      "4         True\n",
      "         ...  \n",
      "57126    False\n",
      "57127     True\n",
      "57128     True\n",
      "57129    False\n",
      "57130     True\n",
      "Name: id, Length: 57131, dtype: bool\n",
      "0        False\n",
      "1        False\n",
      "2        False\n",
      "3        False\n",
      "4         True\n",
      "         ...  \n",
      "57126    False\n",
      "57127    False\n",
      "57128    False\n",
      "57129    False\n",
      "57130    False\n",
      "Name: type, Length: 57131, dtype: bool\n",
      "0        False\n",
      "1         True\n",
      "2         True\n",
      "3        False\n",
      "4         True\n",
      "         ...  \n",
      "57126     True\n",
      "57127     True\n",
      "57128     True\n",
      "57129     True\n",
      "57130     True\n",
      "Length: 57131, dtype: bool\n"
     ]
    },
    {
     "data": {
      "text/plain": "           id    ident                   type  \\\n1      323361     00AA          small_airport   \n2      329884  00A00AA  heliportsmall_airport   \n4        6526     00AR                 closed   \n5      322127     00AS          small_airport   \n6        6527     00AZ          small_airport   \n...       ...      ...                    ...   \n57126   32753     ZYYY         medium_airport   \n57127   46378  ZZ-0001               heliport   \n57128  307326  ZZ-0002          small_airport   \n57129  313629     ZZZZ          small_airport   \n57130  329884  00A00AA  heliportsmall_airport   \n\n                                        name  latitude_deg  longitude_deg  \\\n1                       Aero B Ranch Airport     38.704022    -101.473911   \n2      Total Rf HeliportAero B Ranch Airport     78.774823    -176.407512   \n4         Newport Hospital & Clinic Heliport     35.608700     -91.254898   \n5                             Fulton Airport     34.942803     -97.818019   \n6                             Cordes Airport     34.305599    -112.165001   \n...                                      ...           ...            ...   \n57126                Shenyang Dongta Airport     41.784401     123.496002   \n57127                        Sealand Helipad     51.894444       1.482500   \n57128              Glorioso Islands Airstrip    -11.584278      47.296389   \n57129                 Satsuma Iōjima Airport     30.784722     130.270556   \n57130  Total Rf HeliportAero B Ranch Airport     78.774823    -176.407512   \n\n       elevation_ft continent iso_country  iso_region      municipality  \\\n1            3435.0       NaN          US       US-KS             Leoti   \n2            3446.0       NaN        USUS  US-PAUS-KS     BensalemLeoti   \n4             237.0       NaN          US       US-AR           Newport   \n5            1100.0       NaN          US       US-OK              Alex   \n6            3810.0       NaN          US       US-AZ            Cordes   \n...             ...       ...         ...         ...               ...   \n57126           NaN        AS          CN       CN-21          Shenyang   \n57127          40.0        EU          GB      GB-ENG           Sealand   \n57128          11.0        AF          TF      TF-U-A  Grande Glorieuse   \n57129         338.0        AS          JP       JP-46      Mishima-Mura   \n57130        3446.0       NaN        USUS  US-PAUS-KS     BensalemLeoti   \n\n      scheduled_service gps_code iata_code local_code  \\\n1                    no     00AA       NaN       00AA   \n2                  nono  00A00AA       NaN    00A00AA   \n4                    no      NaN       NaN        NaN   \n5                    no     00AS       NaN       00AS   \n6                    no     00AZ       NaN       00AZ   \n...                 ...      ...       ...        ...   \n57126                no     ZYYY       NaN        NaN   \n57127                no      NaN       NaN        NaN   \n57128                no      NaN       NaN        NaN   \n57129                no     RJX7       NaN       RJX7   \n57130              nono  00A00AA       NaN    00A00AA   \n\n                        home_link  \\\n1                             NaN   \n2                             NaN   \n4                             NaN   \n5                             NaN   \n6                             NaN   \n...                           ...   \n57126                         NaN   \n57127  http://www.sealandgov.org/   \n57128                         NaN   \n57129                         NaN   \n57130                         NaN   \n\n                                          wikipedia_link              keywords  \n1                                                    NaN                   NaN  \n2                                                    NaN                   NaN  \n4                                                    NaN                  00AR  \n5                                                    NaN                   NaN  \n6                                                    NaN                   NaN  \n...                                                  ...                   ...  \n57126                                                NaN                   NaN  \n57127  https://en.wikipedia.org/wiki/Principality_of_...  Roughs Tower Helipad  \n57128                                                NaN                   NaN  \n57129  http://wikimapia.org/6705190/Satsuma-Iwo-jima-...  SATSUMA,IWOJIMA,RJX7  \n57130                                                NaN                   NaN  \n\n[50812 rows x 18 columns]",
      "text/html": "<div>\n<style scoped>\n    .dataframe tbody tr th:only-of-type {\n        vertical-align: middle;\n    }\n\n    .dataframe tbody tr th {\n        vertical-align: top;\n    }\n\n    .dataframe thead th {\n        text-align: right;\n    }\n</style>\n<table border=\"1\" class=\"dataframe\">\n  <thead>\n    <tr style=\"text-align: right;\">\n      <th></th>\n      <th>id</th>\n      <th>ident</th>\n      <th>type</th>\n      <th>name</th>\n      <th>latitude_deg</th>\n      <th>longitude_deg</th>\n      <th>elevation_ft</th>\n      <th>continent</th>\n      <th>iso_country</th>\n      <th>iso_region</th>\n      <th>municipality</th>\n      <th>scheduled_service</th>\n      <th>gps_code</th>\n      <th>iata_code</th>\n      <th>local_code</th>\n      <th>home_link</th>\n      <th>wikipedia_link</th>\n      <th>keywords</th>\n    </tr>\n  </thead>\n  <tbody>\n    <tr>\n      <th>1</th>\n      <td>323361</td>\n      <td>00AA</td>\n      <td>small_airport</td>\n      <td>Aero B Ranch Airport</td>\n      <td>38.704022</td>\n      <td>-101.473911</td>\n      <td>3435.0</td>\n      <td>NaN</td>\n      <td>US</td>\n      <td>US-KS</td>\n      <td>Leoti</td>\n      <td>no</td>\n      <td>00AA</td>\n      <td>NaN</td>\n      <td>00AA</td>\n      <td>NaN</td>\n      <td>NaN</td>\n      <td>NaN</td>\n    </tr>\n    <tr>\n      <th>2</th>\n      <td>329884</td>\n      <td>00A00AA</td>\n      <td>heliportsmall_airport</td>\n      <td>Total Rf HeliportAero B Ranch Airport</td>\n      <td>78.774823</td>\n      <td>-176.407512</td>\n      <td>3446.0</td>\n      <td>NaN</td>\n      <td>USUS</td>\n      <td>US-PAUS-KS</td>\n      <td>BensalemLeoti</td>\n      <td>nono</td>\n      <td>00A00AA</td>\n      <td>NaN</td>\n      <td>00A00AA</td>\n      <td>NaN</td>\n      <td>NaN</td>\n      <td>NaN</td>\n    </tr>\n    <tr>\n      <th>4</th>\n      <td>6526</td>\n      <td>00AR</td>\n      <td>closed</td>\n      <td>Newport Hospital &amp; Clinic Heliport</td>\n      <td>35.608700</td>\n      <td>-91.254898</td>\n      <td>237.0</td>\n      <td>NaN</td>\n      <td>US</td>\n      <td>US-AR</td>\n      <td>Newport</td>\n      <td>no</td>\n      <td>NaN</td>\n      <td>NaN</td>\n      <td>NaN</td>\n      <td>NaN</td>\n      <td>NaN</td>\n      <td>00AR</td>\n    </tr>\n    <tr>\n      <th>5</th>\n      <td>322127</td>\n      <td>00AS</td>\n      <td>small_airport</td>\n      <td>Fulton Airport</td>\n      <td>34.942803</td>\n      <td>-97.818019</td>\n      <td>1100.0</td>\n      <td>NaN</td>\n      <td>US</td>\n      <td>US-OK</td>\n      <td>Alex</td>\n      <td>no</td>\n      <td>00AS</td>\n      <td>NaN</td>\n      <td>00AS</td>\n      <td>NaN</td>\n      <td>NaN</td>\n      <td>NaN</td>\n    </tr>\n    <tr>\n      <th>6</th>\n      <td>6527</td>\n      <td>00AZ</td>\n      <td>small_airport</td>\n      <td>Cordes Airport</td>\n      <td>34.305599</td>\n      <td>-112.165001</td>\n      <td>3810.0</td>\n      <td>NaN</td>\n      <td>US</td>\n      <td>US-AZ</td>\n      <td>Cordes</td>\n      <td>no</td>\n      <td>00AZ</td>\n      <td>NaN</td>\n      <td>00AZ</td>\n      <td>NaN</td>\n      <td>NaN</td>\n      <td>NaN</td>\n    </tr>\n    <tr>\n      <th>...</th>\n      <td>...</td>\n      <td>...</td>\n      <td>...</td>\n      <td>...</td>\n      <td>...</td>\n      <td>...</td>\n      <td>...</td>\n      <td>...</td>\n      <td>...</td>\n      <td>...</td>\n      <td>...</td>\n      <td>...</td>\n      <td>...</td>\n      <td>...</td>\n      <td>...</td>\n      <td>...</td>\n      <td>...</td>\n      <td>...</td>\n    </tr>\n    <tr>\n      <th>57126</th>\n      <td>32753</td>\n      <td>ZYYY</td>\n      <td>medium_airport</td>\n      <td>Shenyang Dongta Airport</td>\n      <td>41.784401</td>\n      <td>123.496002</td>\n      <td>NaN</td>\n      <td>AS</td>\n      <td>CN</td>\n      <td>CN-21</td>\n      <td>Shenyang</td>\n      <td>no</td>\n      <td>ZYYY</td>\n      <td>NaN</td>\n      <td>NaN</td>\n      <td>NaN</td>\n      <td>NaN</td>\n      <td>NaN</td>\n    </tr>\n    <tr>\n      <th>57127</th>\n      <td>46378</td>\n      <td>ZZ-0001</td>\n      <td>heliport</td>\n      <td>Sealand Helipad</td>\n      <td>51.894444</td>\n      <td>1.482500</td>\n      <td>40.0</td>\n      <td>EU</td>\n      <td>GB</td>\n      <td>GB-ENG</td>\n      <td>Sealand</td>\n      <td>no</td>\n      <td>NaN</td>\n      <td>NaN</td>\n      <td>NaN</td>\n      <td>http://www.sealandgov.org/</td>\n      <td>https://en.wikipedia.org/wiki/Principality_of_...</td>\n      <td>Roughs Tower Helipad</td>\n    </tr>\n    <tr>\n      <th>57128</th>\n      <td>307326</td>\n      <td>ZZ-0002</td>\n      <td>small_airport</td>\n      <td>Glorioso Islands Airstrip</td>\n      <td>-11.584278</td>\n      <td>47.296389</td>\n      <td>11.0</td>\n      <td>AF</td>\n      <td>TF</td>\n      <td>TF-U-A</td>\n      <td>Grande Glorieuse</td>\n      <td>no</td>\n      <td>NaN</td>\n      <td>NaN</td>\n      <td>NaN</td>\n      <td>NaN</td>\n      <td>NaN</td>\n      <td>NaN</td>\n    </tr>\n    <tr>\n      <th>57129</th>\n      <td>313629</td>\n      <td>ZZZZ</td>\n      <td>small_airport</td>\n      <td>Satsuma Iōjima Airport</td>\n      <td>30.784722</td>\n      <td>130.270556</td>\n      <td>338.0</td>\n      <td>AS</td>\n      <td>JP</td>\n      <td>JP-46</td>\n      <td>Mishima-Mura</td>\n      <td>no</td>\n      <td>RJX7</td>\n      <td>NaN</td>\n      <td>RJX7</td>\n      <td>NaN</td>\n      <td>http://wikimapia.org/6705190/Satsuma-Iwo-jima-...</td>\n      <td>SATSUMA,IWOJIMA,RJX7</td>\n    </tr>\n    <tr>\n      <th>57130</th>\n      <td>329884</td>\n      <td>00A00AA</td>\n      <td>heliportsmall_airport</td>\n      <td>Total Rf HeliportAero B Ranch Airport</td>\n      <td>78.774823</td>\n      <td>-176.407512</td>\n      <td>3446.0</td>\n      <td>NaN</td>\n      <td>USUS</td>\n      <td>US-PAUS-KS</td>\n      <td>BensalemLeoti</td>\n      <td>nono</td>\n      <td>00A00AA</td>\n      <td>NaN</td>\n      <td>00A00AA</td>\n      <td>NaN</td>\n      <td>NaN</td>\n      <td>NaN</td>\n    </tr>\n  </tbody>\n</table>\n<p>50812 rows × 18 columns</p>\n</div>"
     },
     "execution_count": 37,
     "metadata": {},
     "output_type": "execute_result"
    }
   ],
   "source": [
    "# df > 6526  # there is not a greater than for between string and int.\n",
    "mask1 = df[\"id\"] > 6526\n",
    "mask2 = df[\"id\"] % 2 == 0  # even numbers\n",
    "mask3 = df[\"type\"] ==\"closed\"\n",
    "mask4 = mask1 | (mask2 & mask3)\n",
    "print(mask1)\n",
    "print(mask2)\n",
    "print(mask3)\n",
    "print(mask4)\n",
    "df[mask4]"
   ],
   "metadata": {
    "collapsed": false,
    "pycharm": {
     "name": "#%%\n"
    }
   }
  },
  {
   "cell_type": "markdown",
   "source": [
    "#### second way\n",
    "not common"
   ],
   "metadata": {
    "collapsed": false
   }
  },
  {
   "cell_type": "code",
   "execution_count": 38,
   "outputs": [
    {
     "data": {
      "text/plain": "           id    ident                   type  \\\n1      323361     00AA          small_airport   \n2      329884  00A00AA  heliportsmall_airport   \n4        6526     00AR                 closed   \n5      322127     00AS          small_airport   \n6        6527     00AZ          small_airport   \n...       ...      ...                    ...   \n57126   32753     ZYYY         medium_airport   \n57127   46378  ZZ-0001               heliport   \n57128  307326  ZZ-0002          small_airport   \n57129  313629     ZZZZ          small_airport   \n57130  329884  00A00AA  heliportsmall_airport   \n\n                                        name  latitude_deg  longitude_deg  \\\n1                       Aero B Ranch Airport     38.704022    -101.473911   \n2      Total Rf HeliportAero B Ranch Airport     78.774823    -176.407512   \n4         Newport Hospital & Clinic Heliport     35.608700     -91.254898   \n5                             Fulton Airport     34.942803     -97.818019   \n6                             Cordes Airport     34.305599    -112.165001   \n...                                      ...           ...            ...   \n57126                Shenyang Dongta Airport     41.784401     123.496002   \n57127                        Sealand Helipad     51.894444       1.482500   \n57128              Glorioso Islands Airstrip    -11.584278      47.296389   \n57129                 Satsuma Iōjima Airport     30.784722     130.270556   \n57130  Total Rf HeliportAero B Ranch Airport     78.774823    -176.407512   \n\n       elevation_ft continent iso_country  iso_region      municipality  \\\n1            3435.0       NaN          US       US-KS             Leoti   \n2            3446.0       NaN        USUS  US-PAUS-KS     BensalemLeoti   \n4             237.0       NaN          US       US-AR           Newport   \n5            1100.0       NaN          US       US-OK              Alex   \n6            3810.0       NaN          US       US-AZ            Cordes   \n...             ...       ...         ...         ...               ...   \n57126           NaN        AS          CN       CN-21          Shenyang   \n57127          40.0        EU          GB      GB-ENG           Sealand   \n57128          11.0        AF          TF      TF-U-A  Grande Glorieuse   \n57129         338.0        AS          JP       JP-46      Mishima-Mura   \n57130        3446.0       NaN        USUS  US-PAUS-KS     BensalemLeoti   \n\n      scheduled_service gps_code iata_code local_code  \\\n1                    no     00AA       NaN       00AA   \n2                  nono  00A00AA       NaN    00A00AA   \n4                    no      NaN       NaN        NaN   \n5                    no     00AS       NaN       00AS   \n6                    no     00AZ       NaN       00AZ   \n...                 ...      ...       ...        ...   \n57126                no     ZYYY       NaN        NaN   \n57127                no      NaN       NaN        NaN   \n57128                no      NaN       NaN        NaN   \n57129                no     RJX7       NaN       RJX7   \n57130              nono  00A00AA       NaN    00A00AA   \n\n                        home_link  \\\n1                             NaN   \n2                             NaN   \n4                             NaN   \n5                             NaN   \n6                             NaN   \n...                           ...   \n57126                         NaN   \n57127  http://www.sealandgov.org/   \n57128                         NaN   \n57129                         NaN   \n57130                         NaN   \n\n                                          wikipedia_link              keywords  \n1                                                    NaN                   NaN  \n2                                                    NaN                   NaN  \n4                                                    NaN                  00AR  \n5                                                    NaN                   NaN  \n6                                                    NaN                   NaN  \n...                                                  ...                   ...  \n57126                                                NaN                   NaN  \n57127  https://en.wikipedia.org/wiki/Principality_of_...  Roughs Tower Helipad  \n57128                                                NaN                   NaN  \n57129  http://wikimapia.org/6705190/Satsuma-Iwo-jima-...  SATSUMA,IWOJIMA,RJX7  \n57130                                                NaN                   NaN  \n\n[50812 rows x 18 columns]",
      "text/html": "<div>\n<style scoped>\n    .dataframe tbody tr th:only-of-type {\n        vertical-align: middle;\n    }\n\n    .dataframe tbody tr th {\n        vertical-align: top;\n    }\n\n    .dataframe thead th {\n        text-align: right;\n    }\n</style>\n<table border=\"1\" class=\"dataframe\">\n  <thead>\n    <tr style=\"text-align: right;\">\n      <th></th>\n      <th>id</th>\n      <th>ident</th>\n      <th>type</th>\n      <th>name</th>\n      <th>latitude_deg</th>\n      <th>longitude_deg</th>\n      <th>elevation_ft</th>\n      <th>continent</th>\n      <th>iso_country</th>\n      <th>iso_region</th>\n      <th>municipality</th>\n      <th>scheduled_service</th>\n      <th>gps_code</th>\n      <th>iata_code</th>\n      <th>local_code</th>\n      <th>home_link</th>\n      <th>wikipedia_link</th>\n      <th>keywords</th>\n    </tr>\n  </thead>\n  <tbody>\n    <tr>\n      <th>1</th>\n      <td>323361</td>\n      <td>00AA</td>\n      <td>small_airport</td>\n      <td>Aero B Ranch Airport</td>\n      <td>38.704022</td>\n      <td>-101.473911</td>\n      <td>3435.0</td>\n      <td>NaN</td>\n      <td>US</td>\n      <td>US-KS</td>\n      <td>Leoti</td>\n      <td>no</td>\n      <td>00AA</td>\n      <td>NaN</td>\n      <td>00AA</td>\n      <td>NaN</td>\n      <td>NaN</td>\n      <td>NaN</td>\n    </tr>\n    <tr>\n      <th>2</th>\n      <td>329884</td>\n      <td>00A00AA</td>\n      <td>heliportsmall_airport</td>\n      <td>Total Rf HeliportAero B Ranch Airport</td>\n      <td>78.774823</td>\n      <td>-176.407512</td>\n      <td>3446.0</td>\n      <td>NaN</td>\n      <td>USUS</td>\n      <td>US-PAUS-KS</td>\n      <td>BensalemLeoti</td>\n      <td>nono</td>\n      <td>00A00AA</td>\n      <td>NaN</td>\n      <td>00A00AA</td>\n      <td>NaN</td>\n      <td>NaN</td>\n      <td>NaN</td>\n    </tr>\n    <tr>\n      <th>4</th>\n      <td>6526</td>\n      <td>00AR</td>\n      <td>closed</td>\n      <td>Newport Hospital &amp; Clinic Heliport</td>\n      <td>35.608700</td>\n      <td>-91.254898</td>\n      <td>237.0</td>\n      <td>NaN</td>\n      <td>US</td>\n      <td>US-AR</td>\n      <td>Newport</td>\n      <td>no</td>\n      <td>NaN</td>\n      <td>NaN</td>\n      <td>NaN</td>\n      <td>NaN</td>\n      <td>NaN</td>\n      <td>00AR</td>\n    </tr>\n    <tr>\n      <th>5</th>\n      <td>322127</td>\n      <td>00AS</td>\n      <td>small_airport</td>\n      <td>Fulton Airport</td>\n      <td>34.942803</td>\n      <td>-97.818019</td>\n      <td>1100.0</td>\n      <td>NaN</td>\n      <td>US</td>\n      <td>US-OK</td>\n      <td>Alex</td>\n      <td>no</td>\n      <td>00AS</td>\n      <td>NaN</td>\n      <td>00AS</td>\n      <td>NaN</td>\n      <td>NaN</td>\n      <td>NaN</td>\n    </tr>\n    <tr>\n      <th>6</th>\n      <td>6527</td>\n      <td>00AZ</td>\n      <td>small_airport</td>\n      <td>Cordes Airport</td>\n      <td>34.305599</td>\n      <td>-112.165001</td>\n      <td>3810.0</td>\n      <td>NaN</td>\n      <td>US</td>\n      <td>US-AZ</td>\n      <td>Cordes</td>\n      <td>no</td>\n      <td>00AZ</td>\n      <td>NaN</td>\n      <td>00AZ</td>\n      <td>NaN</td>\n      <td>NaN</td>\n      <td>NaN</td>\n    </tr>\n    <tr>\n      <th>...</th>\n      <td>...</td>\n      <td>...</td>\n      <td>...</td>\n      <td>...</td>\n      <td>...</td>\n      <td>...</td>\n      <td>...</td>\n      <td>...</td>\n      <td>...</td>\n      <td>...</td>\n      <td>...</td>\n      <td>...</td>\n      <td>...</td>\n      <td>...</td>\n      <td>...</td>\n      <td>...</td>\n      <td>...</td>\n      <td>...</td>\n    </tr>\n    <tr>\n      <th>57126</th>\n      <td>32753</td>\n      <td>ZYYY</td>\n      <td>medium_airport</td>\n      <td>Shenyang Dongta Airport</td>\n      <td>41.784401</td>\n      <td>123.496002</td>\n      <td>NaN</td>\n      <td>AS</td>\n      <td>CN</td>\n      <td>CN-21</td>\n      <td>Shenyang</td>\n      <td>no</td>\n      <td>ZYYY</td>\n      <td>NaN</td>\n      <td>NaN</td>\n      <td>NaN</td>\n      <td>NaN</td>\n      <td>NaN</td>\n    </tr>\n    <tr>\n      <th>57127</th>\n      <td>46378</td>\n      <td>ZZ-0001</td>\n      <td>heliport</td>\n      <td>Sealand Helipad</td>\n      <td>51.894444</td>\n      <td>1.482500</td>\n      <td>40.0</td>\n      <td>EU</td>\n      <td>GB</td>\n      <td>GB-ENG</td>\n      <td>Sealand</td>\n      <td>no</td>\n      <td>NaN</td>\n      <td>NaN</td>\n      <td>NaN</td>\n      <td>http://www.sealandgov.org/</td>\n      <td>https://en.wikipedia.org/wiki/Principality_of_...</td>\n      <td>Roughs Tower Helipad</td>\n    </tr>\n    <tr>\n      <th>57128</th>\n      <td>307326</td>\n      <td>ZZ-0002</td>\n      <td>small_airport</td>\n      <td>Glorioso Islands Airstrip</td>\n      <td>-11.584278</td>\n      <td>47.296389</td>\n      <td>11.0</td>\n      <td>AF</td>\n      <td>TF</td>\n      <td>TF-U-A</td>\n      <td>Grande Glorieuse</td>\n      <td>no</td>\n      <td>NaN</td>\n      <td>NaN</td>\n      <td>NaN</td>\n      <td>NaN</td>\n      <td>NaN</td>\n      <td>NaN</td>\n    </tr>\n    <tr>\n      <th>57129</th>\n      <td>313629</td>\n      <td>ZZZZ</td>\n      <td>small_airport</td>\n      <td>Satsuma Iōjima Airport</td>\n      <td>30.784722</td>\n      <td>130.270556</td>\n      <td>338.0</td>\n      <td>AS</td>\n      <td>JP</td>\n      <td>JP-46</td>\n      <td>Mishima-Mura</td>\n      <td>no</td>\n      <td>RJX7</td>\n      <td>NaN</td>\n      <td>RJX7</td>\n      <td>NaN</td>\n      <td>http://wikimapia.org/6705190/Satsuma-Iwo-jima-...</td>\n      <td>SATSUMA,IWOJIMA,RJX7</td>\n    </tr>\n    <tr>\n      <th>57130</th>\n      <td>329884</td>\n      <td>00A00AA</td>\n      <td>heliportsmall_airport</td>\n      <td>Total Rf HeliportAero B Ranch Airport</td>\n      <td>78.774823</td>\n      <td>-176.407512</td>\n      <td>3446.0</td>\n      <td>NaN</td>\n      <td>USUS</td>\n      <td>US-PAUS-KS</td>\n      <td>BensalemLeoti</td>\n      <td>nono</td>\n      <td>00A00AA</td>\n      <td>NaN</td>\n      <td>00A00AA</td>\n      <td>NaN</td>\n      <td>NaN</td>\n      <td>NaN</td>\n    </tr>\n  </tbody>\n</table>\n<p>50812 rows × 18 columns</p>\n</div>"
     },
     "execution_count": 38,
     "metadata": {},
     "output_type": "execute_result"
    }
   ],
   "source": [
    "query = \"id>6526 | (id%2==0 & type=='closed') \"\n",
    "df.query(query)\n"
   ],
   "metadata": {
    "collapsed": false,
    "pycharm": {
     "name": "#%%\n"
    }
   }
  }
 ],
 "metadata": {
  "kernelspec": {
   "display_name": "Python 3",
   "language": "python",
   "name": "python3"
  },
  "language_info": {
   "codemirror_mode": {
    "name": "ipython",
    "version": 2
   },
   "file_extension": ".py",
   "mimetype": "text/x-python",
   "name": "python",
   "nbconvert_exporter": "python",
   "pygments_lexer": "ipython2",
   "version": "2.7.6"
  }
 },
 "nbformat": 4,
 "nbformat_minor": 0
}