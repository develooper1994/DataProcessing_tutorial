{
 "cells": [
  {
   "cell_type": "code",
   "execution_count": null,
   "outputs": [],
   "source": [
    "# Pandas Series, DataFrame"
   ],
   "metadata": {
    "collapsed": false,
    "pycharm": {
     "name": "#%%\n"
    }
   }
  },
  {
   "cell_type": "code",
   "execution_count": 5,
   "metadata": {
    "collapsed": true
   },
   "outputs": [
    {
     "name": "stdout",
     "output_type": "stream",
     "text": [
      "D:\\datasets\\csv\\airports.csv\n"
     ]
    }
   ],
   "source": [
    "import path\n",
    "import pprint\n",
    "\n",
    "import numpy as np\n",
    "import pandas as pd\n",
    "\n",
    "dataset_path = r\"D:\\datasets\\csv\"\n",
    "dataset_name = r\"airports.csv\"\n",
    "dataset = dataset_path + \"\\\\\" + dataset_name\n",
    "print(dataset)"
   ]
  },
  {
   "cell_type": "code",
   "execution_count": 15,
   "outputs": [
    {
     "data": {
      "text/plain": "       id ident           type                                name  \\\n0    6523   00A       heliport                   Total Rf Heliport   \n1  323361  00AA  small_airport                Aero B Ranch Airport   \n2    6524  00AK  small_airport                        Lowell Field   \n3    6525  00AL  small_airport                        Epps Airpark   \n4    6526  00AR         closed  Newport Hospital & Clinic Heliport   \n\n   latitude_deg  longitude_deg  elevation_ft continent iso_country iso_region  \\\n0     40.070801     -74.933601          11.0       NaN          US      US-PA   \n1     38.704022    -101.473911        3435.0       NaN          US      US-KS   \n2     59.949200    -151.695999         450.0       NaN          US      US-AK   \n3     34.864799     -86.770302         820.0       NaN          US      US-AL   \n4     35.608700     -91.254898         237.0       NaN          US      US-AR   \n\n   municipality scheduled_service gps_code iata_code local_code home_link  \\\n0      Bensalem                no      00A       NaN        00A       NaN   \n1         Leoti                no     00AA       NaN       00AA       NaN   \n2  Anchor Point                no     00AK       NaN       00AK       NaN   \n3       Harvest                no     00AL       NaN       00AL       NaN   \n4       Newport                no      NaN       NaN        NaN       NaN   \n\n  wikipedia_link keywords  \n0            NaN      NaN  \n1            NaN      NaN  \n2            NaN      NaN  \n3            NaN      NaN  \n4            NaN     00AR  ",
      "text/html": "<div>\n<style scoped>\n    .dataframe tbody tr th:only-of-type {\n        vertical-align: middle;\n    }\n\n    .dataframe tbody tr th {\n        vertical-align: top;\n    }\n\n    .dataframe thead th {\n        text-align: right;\n    }\n</style>\n<table border=\"1\" class=\"dataframe\">\n  <thead>\n    <tr style=\"text-align: right;\">\n      <th></th>\n      <th>id</th>\n      <th>ident</th>\n      <th>type</th>\n      <th>name</th>\n      <th>latitude_deg</th>\n      <th>longitude_deg</th>\n      <th>elevation_ft</th>\n      <th>continent</th>\n      <th>iso_country</th>\n      <th>iso_region</th>\n      <th>municipality</th>\n      <th>scheduled_service</th>\n      <th>gps_code</th>\n      <th>iata_code</th>\n      <th>local_code</th>\n      <th>home_link</th>\n      <th>wikipedia_link</th>\n      <th>keywords</th>\n    </tr>\n  </thead>\n  <tbody>\n    <tr>\n      <th>0</th>\n      <td>6523</td>\n      <td>00A</td>\n      <td>heliport</td>\n      <td>Total Rf Heliport</td>\n      <td>40.070801</td>\n      <td>-74.933601</td>\n      <td>11.0</td>\n      <td>NaN</td>\n      <td>US</td>\n      <td>US-PA</td>\n      <td>Bensalem</td>\n      <td>no</td>\n      <td>00A</td>\n      <td>NaN</td>\n      <td>00A</td>\n      <td>NaN</td>\n      <td>NaN</td>\n      <td>NaN</td>\n    </tr>\n    <tr>\n      <th>1</th>\n      <td>323361</td>\n      <td>00AA</td>\n      <td>small_airport</td>\n      <td>Aero B Ranch Airport</td>\n      <td>38.704022</td>\n      <td>-101.473911</td>\n      <td>3435.0</td>\n      <td>NaN</td>\n      <td>US</td>\n      <td>US-KS</td>\n      <td>Leoti</td>\n      <td>no</td>\n      <td>00AA</td>\n      <td>NaN</td>\n      <td>00AA</td>\n      <td>NaN</td>\n      <td>NaN</td>\n      <td>NaN</td>\n    </tr>\n    <tr>\n      <th>2</th>\n      <td>6524</td>\n      <td>00AK</td>\n      <td>small_airport</td>\n      <td>Lowell Field</td>\n      <td>59.949200</td>\n      <td>-151.695999</td>\n      <td>450.0</td>\n      <td>NaN</td>\n      <td>US</td>\n      <td>US-AK</td>\n      <td>Anchor Point</td>\n      <td>no</td>\n      <td>00AK</td>\n      <td>NaN</td>\n      <td>00AK</td>\n      <td>NaN</td>\n      <td>NaN</td>\n      <td>NaN</td>\n    </tr>\n    <tr>\n      <th>3</th>\n      <td>6525</td>\n      <td>00AL</td>\n      <td>small_airport</td>\n      <td>Epps Airpark</td>\n      <td>34.864799</td>\n      <td>-86.770302</td>\n      <td>820.0</td>\n      <td>NaN</td>\n      <td>US</td>\n      <td>US-AL</td>\n      <td>Harvest</td>\n      <td>no</td>\n      <td>00AL</td>\n      <td>NaN</td>\n      <td>00AL</td>\n      <td>NaN</td>\n      <td>NaN</td>\n      <td>NaN</td>\n    </tr>\n    <tr>\n      <th>4</th>\n      <td>6526</td>\n      <td>00AR</td>\n      <td>closed</td>\n      <td>Newport Hospital &amp; Clinic Heliport</td>\n      <td>35.608700</td>\n      <td>-91.254898</td>\n      <td>237.0</td>\n      <td>NaN</td>\n      <td>US</td>\n      <td>US-AR</td>\n      <td>Newport</td>\n      <td>no</td>\n      <td>NaN</td>\n      <td>NaN</td>\n      <td>NaN</td>\n      <td>NaN</td>\n      <td>NaN</td>\n      <td>00AR</td>\n    </tr>\n  </tbody>\n</table>\n</div>"
     },
     "execution_count": 15,
     "metadata": {},
     "output_type": "execute_result"
    }
   ],
   "source": [
    "df = pd.read_csv(dataset)\n",
    "df.head(5)"
   ],
   "metadata": {
    "collapsed": false,
    "pycharm": {
     "name": "#%%\n"
    }
   }
  },
  {
   "cell_type": "code",
   "execution_count": 10,
   "outputs": [
    {
     "data": {
      "text/plain": "Index(['id', 'ident', 'type', 'name', 'latitude_deg', 'longitude_deg',\n       'elevation_ft', 'continent', 'iso_country', 'iso_region',\n       'municipality', 'scheduled_service', 'gps_code', 'iata_code',\n       'local_code', 'home_link', 'wikipedia_link', 'keywords'],\n      dtype='object')"
     },
     "execution_count": 10,
     "metadata": {},
     "output_type": "execute_result"
    }
   ],
   "source": [
    "df.columns"
   ],
   "metadata": {
    "collapsed": false,
    "pycharm": {
     "name": "#%%\n"
    }
   }
  },
  {
   "cell_type": "code",
   "execution_count": 45,
   "outputs": [
    {
     "name": "stdout",
     "output_type": "stream",
     "text": [
      "(57130, 18)\n",
      "2\n",
      "id                     int64\n",
      "ident                 object\n",
      "type                  object\n",
      "name                  object\n",
      "latitude_deg         float64\n",
      "longitude_deg        float64\n",
      "elevation_ft         float64\n",
      "continent             object\n",
      "iso_country           object\n",
      "iso_region            object\n",
      "municipality          object\n",
      "scheduled_service     object\n",
      "gps_code              object\n",
      "iata_code             object\n",
      "local_code            object\n",
      "home_link             object\n",
      "wikipedia_link        object\n",
      "keywords              object\n",
      "dtype: object\n"
     ]
    }
   ],
   "source": [
    "print(df.shape)\n",
    "print(df.ndim)\n",
    "print(df.dtypes)"
   ],
   "metadata": {
    "collapsed": false,
    "pycharm": {
     "name": "#%%\n"
    }
   }
  },
  {
   "cell_type": "code",
   "execution_count": 17,
   "outputs": [
    {
     "name": "stdout",
     "output_type": "stream",
     "text": [
      "<class 'pandas.core.frame.DataFrame'>\n",
      "RangeIndex: 57130 entries, 0 to 57129\n",
      "Data columns (total 18 columns):\n",
      " #   Column             Non-Null Count  Dtype  \n",
      "---  ------             --------------  -----  \n",
      " 0   id                 57130 non-null  int64  \n",
      " 1   ident              57130 non-null  object \n",
      " 2   type               57130 non-null  object \n",
      " 3   name               57130 non-null  object \n",
      " 4   latitude_deg       57130 non-null  float64\n",
      " 5   longitude_deg      57130 non-null  float64\n",
      " 6   elevation_ft       49320 non-null  float64\n",
      " 7   continent          28710 non-null  object \n",
      " 8   iso_country        56884 non-null  object \n",
      " 9   iso_region         57130 non-null  object \n",
      " 10  municipality       51246 non-null  object \n",
      " 11  scheduled_service  57130 non-null  object \n",
      " 12  gps_code           41322 non-null  object \n",
      " 13  iata_code          9229 non-null   object \n",
      " 14  local_code         29559 non-null  object \n",
      " 15  home_link          3100 non-null   object \n",
      " 16  wikipedia_link     10029 non-null  object \n",
      " 17  keywords           10504 non-null  object \n",
      "dtypes: float64(3), int64(1), object(14)\n",
      "memory usage: 7.8+ MB\n"
     ]
    }
   ],
   "source": [
    "df.info()"
   ],
   "metadata": {
    "collapsed": false,
    "pycharm": {
     "name": "#%%\n"
    }
   }
  },
  {
   "cell_type": "code",
   "execution_count": 50,
   "outputs": [
    {
     "data": {
      "text/plain": "                  id  latitude_deg  longitude_deg  elevation_ft\ncount   57130.000000  57130.000000   57130.000000  49320.000000\nmean    92701.573744     25.696515     -34.598165   1251.924818\nstd    127196.235995     27.219547      80.003492   1611.666233\nmin         2.000000    -90.000000    -179.876999  -1266.000000\n25%     14410.250000      8.133008     -92.082676    207.000000\n50%     28835.500000     36.292601     -71.559849    722.000000\n75%     45727.750000     43.783300      14.661181   1510.000000\nmax    335222.000000     90.000000     179.975700  22000.000000",
      "text/html": "<div>\n<style scoped>\n    .dataframe tbody tr th:only-of-type {\n        vertical-align: middle;\n    }\n\n    .dataframe tbody tr th {\n        vertical-align: top;\n    }\n\n    .dataframe thead th {\n        text-align: right;\n    }\n</style>\n<table border=\"1\" class=\"dataframe\">\n  <thead>\n    <tr style=\"text-align: right;\">\n      <th></th>\n      <th>id</th>\n      <th>latitude_deg</th>\n      <th>longitude_deg</th>\n      <th>elevation_ft</th>\n    </tr>\n  </thead>\n  <tbody>\n    <tr>\n      <th>count</th>\n      <td>57130.000000</td>\n      <td>57130.000000</td>\n      <td>57130.000000</td>\n      <td>49320.000000</td>\n    </tr>\n    <tr>\n      <th>mean</th>\n      <td>92701.573744</td>\n      <td>25.696515</td>\n      <td>-34.598165</td>\n      <td>1251.924818</td>\n    </tr>\n    <tr>\n      <th>std</th>\n      <td>127196.235995</td>\n      <td>27.219547</td>\n      <td>80.003492</td>\n      <td>1611.666233</td>\n    </tr>\n    <tr>\n      <th>min</th>\n      <td>2.000000</td>\n      <td>-90.000000</td>\n      <td>-179.876999</td>\n      <td>-1266.000000</td>\n    </tr>\n    <tr>\n      <th>25%</th>\n      <td>14410.250000</td>\n      <td>8.133008</td>\n      <td>-92.082676</td>\n      <td>207.000000</td>\n    </tr>\n    <tr>\n      <th>50%</th>\n      <td>28835.500000</td>\n      <td>36.292601</td>\n      <td>-71.559849</td>\n      <td>722.000000</td>\n    </tr>\n    <tr>\n      <th>75%</th>\n      <td>45727.750000</td>\n      <td>43.783300</td>\n      <td>14.661181</td>\n      <td>1510.000000</td>\n    </tr>\n    <tr>\n      <th>max</th>\n      <td>335222.000000</td>\n      <td>90.000000</td>\n      <td>179.975700</td>\n      <td>22000.000000</td>\n    </tr>\n  </tbody>\n</table>\n</div>"
     },
     "execution_count": 50,
     "metadata": {},
     "output_type": "execute_result"
    }
   ],
   "source": [
    "df.describe()"
   ],
   "metadata": {
    "collapsed": false,
    "pycharm": {
     "name": "#%%\n"
    }
   }
  },
  {
   "cell_type": "markdown",
   "source": [
    "# Indexing\n",
    "### indexing With only integer"
   ],
   "metadata": {
    "collapsed": false,
    "pycharm": {
     "name": "#%% md\n"
    }
   }
  },
  {
   "cell_type": "code",
   "execution_count": null,
   "outputs": [],
   "source": [
    "df.iloc[100:105, :]\n"
   ],
   "metadata": {
    "collapsed": false,
    "pycharm": {
     "name": "#%%\n"
    }
   }
  },
  {
   "cell_type": "markdown",
   "source": [
    "### indexing With integer or string"
   ],
   "metadata": {
    "collapsed": false
   }
  },
  {
   "cell_type": "code",
   "execution_count": 43,
   "outputs": [
    {
     "data": {
      "text/plain": "    ident           type                            name\n100  01NE  small_airport                  Detour Airport\n101  01NH  small_airport                  Moore Airfield\n102  01NJ       heliport  Albert Guido Memorial Heliport\n103  01NM  small_airport          Champion Ranch Airport\n104  01NV  small_airport           Lantana Ranch Airport\n105  01NY         closed        Vassar Hospital Heliport",
      "text/html": "<div>\n<style scoped>\n    .dataframe tbody tr th:only-of-type {\n        vertical-align: middle;\n    }\n\n    .dataframe tbody tr th {\n        vertical-align: top;\n    }\n\n    .dataframe thead th {\n        text-align: right;\n    }\n</style>\n<table border=\"1\" class=\"dataframe\">\n  <thead>\n    <tr style=\"text-align: right;\">\n      <th></th>\n      <th>ident</th>\n      <th>type</th>\n      <th>name</th>\n    </tr>\n  </thead>\n  <tbody>\n    <tr>\n      <th>100</th>\n      <td>01NE</td>\n      <td>small_airport</td>\n      <td>Detour Airport</td>\n    </tr>\n    <tr>\n      <th>101</th>\n      <td>01NH</td>\n      <td>small_airport</td>\n      <td>Moore Airfield</td>\n    </tr>\n    <tr>\n      <th>102</th>\n      <td>01NJ</td>\n      <td>heliport</td>\n      <td>Albert Guido Memorial Heliport</td>\n    </tr>\n    <tr>\n      <th>103</th>\n      <td>01NM</td>\n      <td>small_airport</td>\n      <td>Champion Ranch Airport</td>\n    </tr>\n    <tr>\n      <th>104</th>\n      <td>01NV</td>\n      <td>small_airport</td>\n      <td>Lantana Ranch Airport</td>\n    </tr>\n    <tr>\n      <th>105</th>\n      <td>01NY</td>\n      <td>closed</td>\n      <td>Vassar Hospital Heliport</td>\n    </tr>\n  </tbody>\n</table>\n</div>"
     },
     "execution_count": 43,
     "metadata": {},
     "output_type": "execute_result"
    }
   ],
   "source": [
    "df.loc[100:105, \"ident\":\"name\"]\n"
   ],
   "metadata": {
    "collapsed": false,
    "pycharm": {
     "name": "#%%\n"
    }
   }
  },
  {
   "cell_type": "markdown",
   "source": [
    "### indexing With integer\n",
    "\n"
   ],
   "metadata": {
    "collapsed": false,
    "pycharm": {
     "name": "#%% md\n"
    }
   }
  }
 ],
 "metadata": {
  "kernelspec": {
   "display_name": "Python 3",
   "language": "python",
   "name": "python3"
  },
  "language_info": {
   "codemirror_mode": {
    "name": "ipython",
    "version": 2
   },
   "file_extension": ".py",
   "mimetype": "text/x-python",
   "name": "python",
   "nbconvert_exporter": "python",
   "pygments_lexer": "ipython2",
   "version": "2.7.6"
  }
 },
 "nbformat": 4,
 "nbformat_minor": 0
}